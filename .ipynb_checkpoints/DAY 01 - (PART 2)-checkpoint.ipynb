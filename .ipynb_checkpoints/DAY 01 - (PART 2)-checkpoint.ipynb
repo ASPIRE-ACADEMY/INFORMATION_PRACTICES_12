{
 "cells": [
  {
   "cell_type": "markdown",
   "id": "fa3bfe47",
   "metadata": {},
   "source": [
    "# © 2022 by <b> Aspire Academy </b>, All Rights Reserved."
   ]
  },
  {
   "cell_type": "markdown",
   "id": "15e8810e",
   "metadata": {},
   "source": [
    "# DATA HANDLING USING PANDAS PART - 01\n",
    "\n",
    "![PART1](assets/PART1.png)"
   ]
  },
  {
   "cell_type": "markdown",
   "id": "3ac046e3",
   "metadata": {},
   "source": [
    "# DATAFRAMES"
   ]
  },
  {
   "cell_type": "markdown",
   "id": "ba055253",
   "metadata": {},
   "source": [
    "One limitation of series is that it is not able to handle the data in the form of 2D or multidimensional related to real time.\n",
    "\n",
    "For such tasks, Python Pandas provides another data structure called dataframe.\n",
    "\n",
    "**Points**:\n",
    "\n",
    "1. Dataframe objects of Pandas can store 2D heterogeneous data.\n",
    "2. It is a two-dimensional data structure, just like any table (with rows and columns)\n",
    "3. Size of the dataframe is mutable\n",
    "4. Data/values are also mutable and can be changed any time."
   ]
  },
  {
   "cell_type": "markdown",
   "id": "0d659471",
   "metadata": {},
   "source": [
    "### Dataframes can be created with the following constructs:\n",
    "\n",
    "+ Lists\n",
    "+ Series\n",
    "+ Dictionary\n",
    "+ NumPy ndaarays"
   ]
  },
  {
   "cell_type": "code",
   "execution_count": 1,
   "id": "5d374a80",
   "metadata": {},
   "outputs": [
    {
     "name": "stdout",
     "output_type": "stream",
     "text": [
      "    0\n",
      "0  10\n",
      "1  20\n",
      "2  30\n",
      "3  40\n",
      "4  50\n"
     ]
    }
   ],
   "source": [
    "#to create a dataframe from list\n",
    "import pandas as pd\n",
    "\n",
    "list1 = [10,20,30,40,50]\n",
    "df1 = pd.DataFrame(list1)\n",
    "print(df1)"
   ]
  },
  {
   "cell_type": "code",
   "execution_count": 7,
   "id": "434e0ddc",
   "metadata": {},
   "outputs": [
    {
     "name": "stdout",
     "output_type": "stream",
     "text": [
      "     Name  Age\n",
      "0  Tanmoy   18\n",
      "1    Fiza   17\n",
      "2  Pritvi   19\n"
     ]
    }
   ],
   "source": [
    "#create a dataframe from nested lists\n",
    "\n",
    "data1 = [['Tanmoy', 18],['Fiza', 17], ['Pritvi', 19]]\n",
    "df1 = pd.DataFrame(data1, columns = ['Name', 'Age'])\n",
    "print(df1)"
   ]
  },
  {
   "cell_type": "code",
   "execution_count": 9,
   "id": "8cb94971",
   "metadata": {},
   "outputs": [
    {
     "name": "stdout",
     "output_type": "stream",
     "text": [
      "         Marks  Age\n",
      "Vijaya      80   32\n",
      "Rahul       92   28\n",
      "Megha       67   30\n",
      "Radhika     95   25\n",
      "Shaurya     97   20\n"
     ]
    }
   ],
   "source": [
    "# dataframe from two series of student data\n",
    "\n",
    "student_marks = pd.Series({'Vijaya':80, 'Rahul':92, 'Megha':67,\n",
    "                          'Radhika':95, 'Shaurya':97})\n",
    "\n",
    "student_age = pd.Series({'Vijaya':32, 'Rahul': 28, 'Megha':30,\n",
    "                        'Radhika':25, 'Shaurya':20})\n",
    "\n",
    "student_df = pd.DataFrame({'Marks': student_marks, 'Age': student_age})\n",
    "\n",
    "print(student_df)"
   ]
  },
  {
   "cell_type": "code",
   "execution_count": 10,
   "id": "9f63e5a1",
   "metadata": {},
   "outputs": [
    {
     "name": "stdout",
     "output_type": "stream",
     "text": [
      "         Marks  Age\n",
      "Megha       67   30\n",
      "Vijaya      80   32\n",
      "Rahul       92   28\n",
      "Radhika     95   25\n",
      "Shaurya     97   20\n"
     ]
    }
   ],
   "source": [
    "#sort values in a dataframe\n",
    "\n",
    "print(student_df.sort_values(by=['Marks']))"
   ]
  },
  {
   "cell_type": "code",
   "execution_count": 12,
   "id": "ed338229",
   "metadata": {},
   "outputs": [
    {
     "name": "stdout",
     "output_type": "stream",
     "text": [
      "         Marks  Age\n",
      "Vijaya      80   32\n",
      "Megha       67   30\n",
      "Rahul       92   28\n",
      "Radhika     95   25\n",
      "Shaurya     97   20\n"
     ]
    }
   ],
   "source": [
    "#sort values in a dataframe\n",
    "\n",
    "print(student_df.sort_values(by=['Age'], ascending = False))"
   ]
  },
  {
   "cell_type": "markdown",
   "id": "fc2ebd9f",
   "metadata": {},
   "source": [
    "### Creating DataFrame From Dictionary\n",
    "\n",
    "The different ways to create a dataframe using dictionary are:-\n",
    "\n",
    "1. Dictionary of List\n",
    "2. Dictionary of Series\n",
    "3. List of Dictionaries\n",
    "\n",
    "```\n",
    "The dictionary keys by default are taken as column names\n",
    "```"
   ]
  },
  {
   "cell_type": "code",
   "execution_count": 17,
   "id": "c19d90c0",
   "metadata": {},
   "outputs": [
    {
     "name": "stdout",
     "output_type": "stream",
     "text": [
      "     Name  English  Economics  IP  Accounts\n",
      "0   Rinku       67         78  91        77\n",
      "1    Ritu       78         56  99        87\n",
      "2    Ajay       75         89  90        46\n",
      "3  Pankaj       88         90  89        55\n",
      "4  Aditya       92         89  90        90\n"
     ]
    }
   ],
   "source": [
    "## creating a df using dictionary of list\n",
    "student = {'Name': ['Rinku','Ritu', 'Ajay','Pankaj','Aditya'],\n",
    "          'English':[67,78,75,88,92],\n",
    "          'Economics':[78,56,89,90,89],\n",
    "          'IP':[91,99,90,89,90],\n",
    "          'Accounts':[77,87,46,55,90]}\n",
    "\n",
    "df = pd.DataFrame(student)\n",
    "print(df)"
   ]
  },
  {
   "cell_type": "code",
   "execution_count": 18,
   "id": "1773630c",
   "metadata": {},
   "outputs": [
    {
     "name": "stdout",
     "output_type": "stream",
     "text": [
      "     Name  English  Economics  Information Practices\n",
      "0   Rinku       67         78                     91\n",
      "1    Ritu       78         56                     99\n",
      "2    Ajay       75         89                     90\n",
      "3  Pankaj       88         90                     89\n",
      "4  Aditya       92         89                     90\n"
     ]
    }
   ],
   "source": [
    "## creating a df from dictionary of series\n",
    "\n",
    "n = pd.Series(['Rinku','Ritu', 'Ajay','Pankaj','Aditya'])\n",
    "Eng = pd.Series([67,78,75,88,92])\n",
    "Eco = pd.Series([78,56,89,90,89])\n",
    "IP = pd.Series([91,99,90,89,90])\n",
    "\n",
    "std_result = {'Name': n, 'English': Eng, 'Economics':Eco, \n",
    "              'Information Practices':IP}\n",
    "df = pd.DataFrame(std_result)\n",
    "print(df)\n"
   ]
  },
  {
   "cell_type": "code",
   "execution_count": 19,
   "id": "56182c3a",
   "metadata": {},
   "outputs": [
    {
     "name": "stdout",
     "output_type": "stream",
     "text": [
      "     Name  English  Economics  Information Practices\n",
      "0   Rinku       67         78                     91\n",
      "1    Ritu       78         56                     99\n",
      "2    Ajay       75         89                     90\n",
      "3  Pankaj       88         90                     89\n",
      "4  Aditya       92         89                     90\n"
     ]
    }
   ],
   "source": [
    "# by directly passing\n",
    "std_result = {'Name': pd.Series(['Rinku','Ritu', 'Ajay','Pankaj','Aditya']),\n",
    "              'English': pd.Series([67,78,75,88,92]), \n",
    "              'Economics':pd.Series([78,56,89,90,89]), \n",
    "              'Information Practices':pd.Series([91,99,90,89,90])\n",
    "             }\n",
    "df = pd.DataFrame(std_result)\n",
    "print(df)"
   ]
  },
  {
   "cell_type": "code",
   "execution_count": 35,
   "id": "fbd14660",
   "metadata": {},
   "outputs": [
    {
     "name": "stdout",
     "output_type": "stream",
     "text": [
      "      Vijaya  Rahul  Megha  Radhika  Shaurya\n",
      "Sno1      80   92.0   67.0       95       97\n",
      "Sno2      85   92.0    NaN       75       77\n",
      "Sno3      80    NaN   87.0       65       56\n"
     ]
    }
   ],
   "source": [
    "# create a df by passing a list of dictionaries\n",
    "newstudent = [{'Vijaya':80,'Rahul':92, 'Megha':67,'Radhika':95, 'Shaurya':97},\n",
    "             {'Vijaya':85,'Rahul':92,'Radhika':75, 'Shaurya':77},\n",
    "             {'Vijaya':80,'Megha':87,'Radhika':65, 'Shaurya':56}]\n",
    "\n",
    "df = pd.DataFrame(newstudent,index = ['Sno1','Sno2','Sno3'])\n",
    "print(df)\n",
    "\n"
   ]
  },
  {
   "cell_type": "code",
   "execution_count": 27,
   "id": "55647ee9",
   "metadata": {},
   "outputs": [
    {
     "name": "stdout",
     "output_type": "stream",
     "text": [
      "   English  Mathematics  IP  Accounts\n",
      "0       67           48  89        92\n",
      "1       94           67  65        98\n",
      "2       78           98  56        78\n",
      "3       44           56  78        98\n"
     ]
    }
   ],
   "source": [
    "# creating a dataframe from numpy ndarray\n",
    "import numpy as np\n",
    "import pandas as pd\n",
    "\n",
    "array = np.array([[67,48,89,92], [94,67,65,98],\n",
    "                 [78,98,56,78], [44,56,78,98]])\n",
    "\n",
    "column_names = ['English', 'Mathematics', 'IP', 'Accounts']\n",
    "\n",
    "df = pd.DataFrame(data = array, columns = column_names)\n",
    "print(df)"
   ]
  },
  {
   "cell_type": "markdown",
   "id": "649c801f",
   "metadata": {},
   "source": [
    "#### SELECTING AND ACCESSING, MODIFYING RECORDS FROM DATAFRAME"
   ]
  },
  {
   "cell_type": "code",
   "execution_count": 46,
   "id": "b93c9d24",
   "metadata": {},
   "outputs": [
    {
     "data": {
      "text/html": [
       "<div>\n",
       "<style scoped>\n",
       "    .dataframe tbody tr th:only-of-type {\n",
       "        vertical-align: middle;\n",
       "    }\n",
       "\n",
       "    .dataframe tbody tr th {\n",
       "        vertical-align: top;\n",
       "    }\n",
       "\n",
       "    .dataframe thead th {\n",
       "        text-align: right;\n",
       "    }\n",
       "</style>\n",
       "<table border=\"1\" class=\"dataframe\">\n",
       "  <thead>\n",
       "    <tr style=\"text-align: right;\">\n",
       "      <th></th>\n",
       "      <th>Name</th>\n",
       "      <th>English</th>\n",
       "      <th>Economics</th>\n",
       "      <th>Information Practices</th>\n",
       "    </tr>\n",
       "  </thead>\n",
       "  <tbody>\n",
       "    <tr>\n",
       "      <th>Sno1</th>\n",
       "      <td>Rinku</td>\n",
       "      <td>67</td>\n",
       "      <td>78</td>\n",
       "      <td>91</td>\n",
       "    </tr>\n",
       "    <tr>\n",
       "      <th>Sno2</th>\n",
       "      <td>Ritu</td>\n",
       "      <td>78</td>\n",
       "      <td>56</td>\n",
       "      <td>99</td>\n",
       "    </tr>\n",
       "    <tr>\n",
       "      <th>Sno3</th>\n",
       "      <td>Ajay</td>\n",
       "      <td>75</td>\n",
       "      <td>89</td>\n",
       "      <td>90</td>\n",
       "    </tr>\n",
       "    <tr>\n",
       "      <th>Sno4</th>\n",
       "      <td>Pankaj</td>\n",
       "      <td>88</td>\n",
       "      <td>90</td>\n",
       "      <td>89</td>\n",
       "    </tr>\n",
       "    <tr>\n",
       "      <th>Sno5</th>\n",
       "      <td>Aditya</td>\n",
       "      <td>92</td>\n",
       "      <td>89</td>\n",
       "      <td>90</td>\n",
       "    </tr>\n",
       "  </tbody>\n",
       "</table>\n",
       "</div>"
      ],
      "text/plain": [
       "        Name  English  Economics  Information Practices\n",
       "Sno1   Rinku       67         78                     91\n",
       "Sno2    Ritu       78         56                     99\n",
       "Sno3    Ajay       75         89                     90\n",
       "Sno4  Pankaj       88         90                     89\n",
       "Sno5  Aditya       92         89                     90"
      ]
     },
     "execution_count": 46,
     "metadata": {},
     "output_type": "execute_result"
    }
   ],
   "source": [
    "std_result = {'Name':['Rinku','Ritu', 'Ajay','Pankaj','Aditya'],\n",
    "              'English':[67,78,75,88,92], \n",
    "              'Economics':[78,56,89,90,89], \n",
    "              'Information Practices':[91,99,90,89,90]\n",
    "             }\n",
    "df = pd.DataFrame(std_result, index = ['Sno1','Sno2', 'Sno3', 'Sno4', 'Sno5'])\n",
    "df"
   ]
  },
  {
   "cell_type": "code",
   "execution_count": 38,
   "id": "5b6533ac",
   "metadata": {},
   "outputs": [
    {
     "data": {
      "text/html": [
       "<div>\n",
       "<style scoped>\n",
       "    .dataframe tbody tr th:only-of-type {\n",
       "        vertical-align: middle;\n",
       "    }\n",
       "\n",
       "    .dataframe tbody tr th {\n",
       "        vertical-align: top;\n",
       "    }\n",
       "\n",
       "    .dataframe thead th {\n",
       "        text-align: right;\n",
       "    }\n",
       "</style>\n",
       "<table border=\"1\" class=\"dataframe\">\n",
       "  <thead>\n",
       "    <tr style=\"text-align: right;\">\n",
       "      <th></th>\n",
       "      <th>Name</th>\n",
       "      <th>English</th>\n",
       "      <th>Economics</th>\n",
       "      <th>Information Practices</th>\n",
       "    </tr>\n",
       "  </thead>\n",
       "  <tbody>\n",
       "    <tr>\n",
       "      <th>1</th>\n",
       "      <td>Ritu</td>\n",
       "      <td>78</td>\n",
       "      <td>56</td>\n",
       "      <td>99</td>\n",
       "    </tr>\n",
       "    <tr>\n",
       "      <th>2</th>\n",
       "      <td>Ajay</td>\n",
       "      <td>75</td>\n",
       "      <td>89</td>\n",
       "      <td>90</td>\n",
       "    </tr>\n",
       "    <tr>\n",
       "      <th>3</th>\n",
       "      <td>Pankaj</td>\n",
       "      <td>88</td>\n",
       "      <td>90</td>\n",
       "      <td>89</td>\n",
       "    </tr>\n",
       "  </tbody>\n",
       "</table>\n",
       "</div>"
      ],
      "text/plain": [
       "     Name  English  Economics  Information Practices\n",
       "1    Ritu       78         56                     99\n",
       "2    Ajay       75         89                     90\n",
       "3  Pankaj       88         90                     89"
      ]
     },
     "execution_count": 38,
     "metadata": {},
     "output_type": "execute_result"
    }
   ],
   "source": [
    "df[1:4]"
   ]
  },
  {
   "cell_type": "code",
   "execution_count": 47,
   "id": "b2799295",
   "metadata": {},
   "outputs": [
    {
     "data": {
      "text/html": [
       "<div>\n",
       "<style scoped>\n",
       "    .dataframe tbody tr th:only-of-type {\n",
       "        vertical-align: middle;\n",
       "    }\n",
       "\n",
       "    .dataframe tbody tr th {\n",
       "        vertical-align: top;\n",
       "    }\n",
       "\n",
       "    .dataframe thead th {\n",
       "        text-align: right;\n",
       "    }\n",
       "</style>\n",
       "<table border=\"1\" class=\"dataframe\">\n",
       "  <thead>\n",
       "    <tr style=\"text-align: right;\">\n",
       "      <th></th>\n",
       "      <th>English</th>\n",
       "      <th>Economics</th>\n",
       "      <th>Information Practices</th>\n",
       "    </tr>\n",
       "    <tr>\n",
       "      <th>Name</th>\n",
       "      <th></th>\n",
       "      <th></th>\n",
       "      <th></th>\n",
       "    </tr>\n",
       "  </thead>\n",
       "  <tbody>\n",
       "    <tr>\n",
       "      <th>Rinku</th>\n",
       "      <td>67</td>\n",
       "      <td>78</td>\n",
       "      <td>91</td>\n",
       "    </tr>\n",
       "    <tr>\n",
       "      <th>Ritu</th>\n",
       "      <td>78</td>\n",
       "      <td>56</td>\n",
       "      <td>99</td>\n",
       "    </tr>\n",
       "    <tr>\n",
       "      <th>Ajay</th>\n",
       "      <td>75</td>\n",
       "      <td>89</td>\n",
       "      <td>90</td>\n",
       "    </tr>\n",
       "    <tr>\n",
       "      <th>Pankaj</th>\n",
       "      <td>88</td>\n",
       "      <td>90</td>\n",
       "      <td>89</td>\n",
       "    </tr>\n",
       "    <tr>\n",
       "      <th>Aditya</th>\n",
       "      <td>92</td>\n",
       "      <td>89</td>\n",
       "      <td>90</td>\n",
       "    </tr>\n",
       "  </tbody>\n",
       "</table>\n",
       "</div>"
      ],
      "text/plain": [
       "        English  Economics  Information Practices\n",
       "Name                                             \n",
       "Rinku        67         78                     91\n",
       "Ritu         78         56                     99\n",
       "Ajay         75         89                     90\n",
       "Pankaj       88         90                     89\n",
       "Aditya       92         89                     90"
      ]
     },
     "execution_count": 47,
     "metadata": {},
     "output_type": "execute_result"
    }
   ],
   "source": [
    "df.set_index('Name',inplace = True)\n",
    "df"
   ]
  },
  {
   "cell_type": "code",
   "execution_count": 49,
   "id": "9eb83b35",
   "metadata": {},
   "outputs": [
    {
     "data": {
      "text/html": [
       "<div>\n",
       "<style scoped>\n",
       "    .dataframe tbody tr th:only-of-type {\n",
       "        vertical-align: middle;\n",
       "    }\n",
       "\n",
       "    .dataframe tbody tr th {\n",
       "        vertical-align: top;\n",
       "    }\n",
       "\n",
       "    .dataframe thead th {\n",
       "        text-align: right;\n",
       "    }\n",
       "</style>\n",
       "<table border=\"1\" class=\"dataframe\">\n",
       "  <thead>\n",
       "    <tr style=\"text-align: right;\">\n",
       "      <th></th>\n",
       "      <th>Name</th>\n",
       "      <th>English</th>\n",
       "      <th>Economics</th>\n",
       "      <th>Information Practices</th>\n",
       "    </tr>\n",
       "  </thead>\n",
       "  <tbody>\n",
       "    <tr>\n",
       "      <th>0</th>\n",
       "      <td>Rinku</td>\n",
       "      <td>67</td>\n",
       "      <td>78</td>\n",
       "      <td>91</td>\n",
       "    </tr>\n",
       "    <tr>\n",
       "      <th>1</th>\n",
       "      <td>Ritu</td>\n",
       "      <td>78</td>\n",
       "      <td>56</td>\n",
       "      <td>99</td>\n",
       "    </tr>\n",
       "    <tr>\n",
       "      <th>2</th>\n",
       "      <td>Ajay</td>\n",
       "      <td>75</td>\n",
       "      <td>89</td>\n",
       "      <td>90</td>\n",
       "    </tr>\n",
       "    <tr>\n",
       "      <th>3</th>\n",
       "      <td>Pankaj</td>\n",
       "      <td>88</td>\n",
       "      <td>90</td>\n",
       "      <td>89</td>\n",
       "    </tr>\n",
       "    <tr>\n",
       "      <th>4</th>\n",
       "      <td>Aditya</td>\n",
       "      <td>92</td>\n",
       "      <td>89</td>\n",
       "      <td>90</td>\n",
       "    </tr>\n",
       "  </tbody>\n",
       "</table>\n",
       "</div>"
      ],
      "text/plain": [
       "     Name  English  Economics  Information Practices\n",
       "0   Rinku       67         78                     91\n",
       "1    Ritu       78         56                     99\n",
       "2    Ajay       75         89                     90\n",
       "3  Pankaj       88         90                     89\n",
       "4  Aditya       92         89                     90"
      ]
     },
     "execution_count": 49,
     "metadata": {},
     "output_type": "execute_result"
    }
   ],
   "source": [
    "df.reset_index(inplace = True)\n",
    "df"
   ]
  },
  {
   "cell_type": "markdown",
   "id": "1273b880",
   "metadata": {},
   "source": [
    "### Adding/Modifying a Row in a DataFrame\n",
    "\n",
    "**df.loc[]** method used."
   ]
  },
  {
   "cell_type": "code",
   "execution_count": 51,
   "id": "2e1c44e8",
   "metadata": {},
   "outputs": [
    {
     "data": {
      "text/html": [
       "<div>\n",
       "<style scoped>\n",
       "    .dataframe tbody tr th:only-of-type {\n",
       "        vertical-align: middle;\n",
       "    }\n",
       "\n",
       "    .dataframe tbody tr th {\n",
       "        vertical-align: top;\n",
       "    }\n",
       "\n",
       "    .dataframe thead th {\n",
       "        text-align: right;\n",
       "    }\n",
       "</style>\n",
       "<table border=\"1\" class=\"dataframe\">\n",
       "  <thead>\n",
       "    <tr style=\"text-align: right;\">\n",
       "      <th></th>\n",
       "      <th>Vijaya</th>\n",
       "      <th>Rahul</th>\n",
       "      <th>Megha</th>\n",
       "      <th>Radhika</th>\n",
       "      <th>Shaurya</th>\n",
       "    </tr>\n",
       "  </thead>\n",
       "  <tbody>\n",
       "    <tr>\n",
       "      <th>0</th>\n",
       "      <td>80</td>\n",
       "      <td>92.0</td>\n",
       "      <td>67.0</td>\n",
       "      <td>95</td>\n",
       "      <td>97</td>\n",
       "    </tr>\n",
       "    <tr>\n",
       "      <th>1</th>\n",
       "      <td>85</td>\n",
       "      <td>92.0</td>\n",
       "      <td>NaN</td>\n",
       "      <td>75</td>\n",
       "      <td>77</td>\n",
       "    </tr>\n",
       "    <tr>\n",
       "      <th>2</th>\n",
       "      <td>80</td>\n",
       "      <td>NaN</td>\n",
       "      <td>87.0</td>\n",
       "      <td>65</td>\n",
       "      <td>56</td>\n",
       "    </tr>\n",
       "  </tbody>\n",
       "</table>\n",
       "</div>"
      ],
      "text/plain": [
       "   Vijaya  Rahul  Megha  Radhika  Shaurya\n",
       "0      80   92.0   67.0       95       97\n",
       "1      85   92.0    NaN       75       77\n",
       "2      80    NaN   87.0       65       56"
      ]
     },
     "execution_count": 51,
     "metadata": {},
     "output_type": "execute_result"
    }
   ],
   "source": [
    "# create a df\n",
    "newstudent = [{'Vijaya':80,'Rahul':92, 'Megha':67,'Radhika':95, 'Shaurya':97},\n",
    "             {'Vijaya':85,'Rahul':92,'Radhika':75, 'Shaurya':77},\n",
    "             {'Vijaya':80,'Megha':87,'Radhika':65, 'Shaurya':56}]\n",
    "\n",
    "df = pd.DataFrame(newstudent)\n",
    "df"
   ]
  },
  {
   "cell_type": "code",
   "execution_count": 52,
   "id": "3ff11f9f",
   "metadata": {},
   "outputs": [
    {
     "data": {
      "text/html": [
       "<div>\n",
       "<style scoped>\n",
       "    .dataframe tbody tr th:only-of-type {\n",
       "        vertical-align: middle;\n",
       "    }\n",
       "\n",
       "    .dataframe tbody tr th {\n",
       "        vertical-align: top;\n",
       "    }\n",
       "\n",
       "    .dataframe thead th {\n",
       "        text-align: right;\n",
       "    }\n",
       "</style>\n",
       "<table border=\"1\" class=\"dataframe\">\n",
       "  <thead>\n",
       "    <tr style=\"text-align: right;\">\n",
       "      <th></th>\n",
       "      <th>Vijaya</th>\n",
       "      <th>Rahul</th>\n",
       "      <th>Megha</th>\n",
       "      <th>Radhika</th>\n",
       "      <th>Shaurya</th>\n",
       "    </tr>\n",
       "  </thead>\n",
       "  <tbody>\n",
       "    <tr>\n",
       "      <th>0</th>\n",
       "      <td>80</td>\n",
       "      <td>92.0</td>\n",
       "      <td>67.0</td>\n",
       "      <td>95</td>\n",
       "      <td>97</td>\n",
       "    </tr>\n",
       "    <tr>\n",
       "      <th>1</th>\n",
       "      <td>85</td>\n",
       "      <td>92.0</td>\n",
       "      <td>NaN</td>\n",
       "      <td>75</td>\n",
       "      <td>77</td>\n",
       "    </tr>\n",
       "    <tr>\n",
       "      <th>2</th>\n",
       "      <td>80</td>\n",
       "      <td>NaN</td>\n",
       "      <td>87.0</td>\n",
       "      <td>65</td>\n",
       "      <td>56</td>\n",
       "    </tr>\n",
       "    <tr>\n",
       "      <th>3</th>\n",
       "      <td>70</td>\n",
       "      <td>67</td>\n",
       "      <td>93</td>\n",
       "      <td>56</td>\n",
       "      <td>89</td>\n",
       "    </tr>\n",
       "  </tbody>\n",
       "</table>\n",
       "</div>"
      ],
      "text/plain": [
       "  Vijaya Rahul Megha Radhika Shaurya\n",
       "0     80  92.0  67.0      95      97\n",
       "1     85  92.0   NaN      75      77\n",
       "2     80   NaN  87.0      65      56\n",
       "3     70    67    93      56      89"
      ]
     },
     "execution_count": 52,
     "metadata": {},
     "output_type": "execute_result"
    }
   ],
   "source": [
    "df.loc['3'] = ['70','67','93','56','89'] #new record added at location 3\n",
    "df"
   ]
  },
  {
   "cell_type": "markdown",
   "id": "24e45eb7",
   "metadata": {},
   "source": [
    "### Renaming a Column Name in a DataFrame"
   ]
  },
  {
   "cell_type": "code",
   "execution_count": 53,
   "id": "1ec95c2e",
   "metadata": {},
   "outputs": [
    {
     "data": {
      "text/plain": [
       "[101, 102, 103, 104, 105]"
      ]
     },
     "execution_count": 53,
     "metadata": {},
     "output_type": "execute_result"
    }
   ],
   "source": [
    "a1 = [101,102,103,104,105]\n",
    "df = pd.DataFrame(a1)\n",
    "a1"
   ]
  },
  {
   "cell_type": "code",
   "execution_count": 54,
   "id": "7861ce40",
   "metadata": {},
   "outputs": [
    {
     "data": {
      "text/html": [
       "<div>\n",
       "<style scoped>\n",
       "    .dataframe tbody tr th:only-of-type {\n",
       "        vertical-align: middle;\n",
       "    }\n",
       "\n",
       "    .dataframe tbody tr th {\n",
       "        vertical-align: top;\n",
       "    }\n",
       "\n",
       "    .dataframe thead th {\n",
       "        text-align: right;\n",
       "    }\n",
       "</style>\n",
       "<table border=\"1\" class=\"dataframe\">\n",
       "  <thead>\n",
       "    <tr style=\"text-align: right;\">\n",
       "      <th></th>\n",
       "      <th>0</th>\n",
       "    </tr>\n",
       "  </thead>\n",
       "  <tbody>\n",
       "    <tr>\n",
       "      <th>0</th>\n",
       "      <td>101</td>\n",
       "    </tr>\n",
       "    <tr>\n",
       "      <th>1</th>\n",
       "      <td>102</td>\n",
       "    </tr>\n",
       "    <tr>\n",
       "      <th>2</th>\n",
       "      <td>103</td>\n",
       "    </tr>\n",
       "    <tr>\n",
       "      <th>3</th>\n",
       "      <td>104</td>\n",
       "    </tr>\n",
       "    <tr>\n",
       "      <th>4</th>\n",
       "      <td>105</td>\n",
       "    </tr>\n",
       "  </tbody>\n",
       "</table>\n",
       "</div>"
      ],
      "text/plain": [
       "     0\n",
       "0  101\n",
       "1  102\n",
       "2  103\n",
       "3  104\n",
       "4  105"
      ]
     },
     "execution_count": 54,
     "metadata": {},
     "output_type": "execute_result"
    }
   ],
   "source": [
    "df"
   ]
  },
  {
   "cell_type": "code",
   "execution_count": 56,
   "id": "914b0647",
   "metadata": {},
   "outputs": [
    {
     "data": {
      "text/html": [
       "<div>\n",
       "<style scoped>\n",
       "    .dataframe tbody tr th:only-of-type {\n",
       "        vertical-align: middle;\n",
       "    }\n",
       "\n",
       "    .dataframe tbody tr th {\n",
       "        vertical-align: top;\n",
       "    }\n",
       "\n",
       "    .dataframe thead th {\n",
       "        text-align: right;\n",
       "    }\n",
       "</style>\n",
       "<table border=\"1\" class=\"dataframe\">\n",
       "  <thead>\n",
       "    <tr style=\"text-align: right;\">\n",
       "      <th></th>\n",
       "      <th>AdmNo</th>\n",
       "    </tr>\n",
       "  </thead>\n",
       "  <tbody>\n",
       "    <tr>\n",
       "      <th>0</th>\n",
       "      <td>101</td>\n",
       "    </tr>\n",
       "    <tr>\n",
       "      <th>1</th>\n",
       "      <td>102</td>\n",
       "    </tr>\n",
       "    <tr>\n",
       "      <th>2</th>\n",
       "      <td>103</td>\n",
       "    </tr>\n",
       "    <tr>\n",
       "      <th>3</th>\n",
       "      <td>104</td>\n",
       "    </tr>\n",
       "    <tr>\n",
       "      <th>4</th>\n",
       "      <td>105</td>\n",
       "    </tr>\n",
       "  </tbody>\n",
       "</table>\n",
       "</div>"
      ],
      "text/plain": [
       "   AdmNo\n",
       "0    101\n",
       "1    102\n",
       "2    103\n",
       "3    104\n",
       "4    105"
      ]
     },
     "execution_count": 56,
     "metadata": {},
     "output_type": "execute_result"
    }
   ],
   "source": [
    "df.columns = ['AdmNo']\n",
    "df"
   ]
  },
  {
   "cell_type": "code",
   "execution_count": 58,
   "id": "6a48c04e",
   "metadata": {},
   "outputs": [
    {
     "data": {
      "text/html": [
       "<div>\n",
       "<style scoped>\n",
       "    .dataframe tbody tr th:only-of-type {\n",
       "        vertical-align: middle;\n",
       "    }\n",
       "\n",
       "    .dataframe tbody tr th {\n",
       "        vertical-align: top;\n",
       "    }\n",
       "\n",
       "    .dataframe thead th {\n",
       "        text-align: right;\n",
       "    }\n",
       "</style>\n",
       "<table border=\"1\" class=\"dataframe\">\n",
       "  <thead>\n",
       "    <tr style=\"text-align: right;\">\n",
       "      <th></th>\n",
       "      <th>Admission No</th>\n",
       "    </tr>\n",
       "  </thead>\n",
       "  <tbody>\n",
       "    <tr>\n",
       "      <th>0</th>\n",
       "      <td>101</td>\n",
       "    </tr>\n",
       "    <tr>\n",
       "      <th>1</th>\n",
       "      <td>102</td>\n",
       "    </tr>\n",
       "    <tr>\n",
       "      <th>2</th>\n",
       "      <td>103</td>\n",
       "    </tr>\n",
       "    <tr>\n",
       "      <th>3</th>\n",
       "      <td>104</td>\n",
       "    </tr>\n",
       "    <tr>\n",
       "      <th>4</th>\n",
       "      <td>105</td>\n",
       "    </tr>\n",
       "  </tbody>\n",
       "</table>\n",
       "</div>"
      ],
      "text/plain": [
       "   Admission No\n",
       "0           101\n",
       "1           102\n",
       "2           103\n",
       "3           104\n",
       "4           105"
      ]
     },
     "execution_count": 58,
     "metadata": {},
     "output_type": "execute_result"
    }
   ],
   "source": [
    "df.rename(columns = {'AdmNo': 'Admission No'}, inplace = True)\n",
    "df"
   ]
  },
  {
   "cell_type": "markdown",
   "id": "accaefb2",
   "metadata": {},
   "source": [
    "### Adding Columns to a DataFrame"
   ]
  },
  {
   "cell_type": "code",
   "execution_count": null,
   "id": "a1d954c3",
   "metadata": {},
   "outputs": [],
   "source": []
  }
 ],
 "metadata": {
  "kernelspec": {
   "display_name": "Python 3 (ipykernel)",
   "language": "python",
   "name": "python3"
  },
  "language_info": {
   "codemirror_mode": {
    "name": "ipython",
    "version": 3
   },
   "file_extension": ".py",
   "mimetype": "text/x-python",
   "name": "python",
   "nbconvert_exporter": "python",
   "pygments_lexer": "ipython3",
   "version": "3.10.4"
  }
 },
 "nbformat": 4,
 "nbformat_minor": 5
}
