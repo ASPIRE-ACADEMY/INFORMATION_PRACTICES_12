{
 "cells": [
  {
   "cell_type": "markdown",
   "id": "7b3ed422",
   "metadata": {},
   "source": [
    "# © 2022 by <b> Aspire Academy </b>, All Rights Reserved."
   ]
  },
  {
   "cell_type": "markdown",
   "id": "61bb0222",
   "metadata": {},
   "source": [
    "# DATA HANDLING USING PANDAS PART - 01"
   ]
  },
  {
   "cell_type": "code",
   "execution_count": null,
   "id": "deac73e6",
   "metadata": {},
   "outputs": [],
   "source": []
  },
  {
   "cell_type": "markdown",
   "id": "b4bd1551",
   "metadata": {},
   "source": [
    "# INTRO TO PANDAS"
   ]
  },
  {
   "cell_type": "markdown",
   "id": "b9fb28d2",
   "metadata": {},
   "source": [
    "Data Science or data analytics is the process of analyzing a large set of data points to get answers to questions related to that dataset.\n",
    "\n",
    "The need for data analytics arises to handle huge data which is an area of concern for large business organizations, government bodies, communities and consumers."
   ]
  },
  {
   "cell_type": "markdown",
   "id": "44aeeba5",
   "metadata": {},
   "source": [
    "# How to handle this big data?"
   ]
  },
  {
   "cell_type": "markdown",
   "id": "2c0ecff9",
   "metadata": {},
   "source": [
    "It can be handled through **Data Life Cycle** (DLC)"
   ]
  },
  {
   "cell_type": "markdown",
   "id": "69df753f",
   "metadata": {},
   "source": [
    "# STEPS IN DLC\n",
    "\n",
    "1. Data is stored in different formats --- .csv file, and excel file, or an HTML file. \n",
    "2. This data is transformed or converted into a single format somewhere and that's where data warehousing comes into picture.\n",
    "3. Once we have stored the data, we can perform certain analysis on it, i.e., we can perform, join and merge data operation, search operation etc.,\n",
    "4. Once analysis is done, we can plot this data in the form of a graph which is data visualization.\n",
    "\n",
    "\n",
    "All these sequences of operations for data analysis can be easily and effectively performed by Python and its libraries."
   ]
  },
  {
   "cell_type": "markdown",
   "id": "f9fadc6a",
   "metadata": {},
   "source": [
    "# Advantages of PANDAS Library(modules)"
   ]
  },
  {
   "cell_type": "markdown",
   "id": "04439268",
   "metadata": {},
   "source": [
    "\n",
    "+ It makes data importing and data analyzing easier.\n",
    "\n",
    "+ It is a high-level data manipulation tool developed by **Wes McKinney** and built on packages like NumPy and matplotlib to give us a single and convenient place for data analysis and data visualization work.\n",
    "\n",
    "+ The term Pandas is derived from **Panel Data System**, which is an ecometric term for multidimensional, structured dataset."
   ]
  },
  {
   "cell_type": "markdown",
   "id": "eca74419",
   "metadata": {},
   "source": [
    "## INSTALLING PANDAS\n",
    "\n",
    "Pandas module doesn't come bundled with Standard Python.\n",
    "\n",
    "Therefore, it is to be installed using **pip** command from PyPI.\n",
    "\n",
    "+ PIP Stands for **\"Preferred Installer Program\"**\n",
    "+ PyPI Stands for **\"Python Package Index\"**"
   ]
  },
  {
   "cell_type": "code",
   "execution_count": 5,
   "id": "fb27aa94",
   "metadata": {},
   "outputs": [
    {
     "name": "stdout",
     "output_type": "stream",
     "text": [
      "Defaulting to user installation because normal site-packages is not writeable\n",
      "Requirement already satisfied: pandas in /usr/lib/python3/dist-packages (1.3.5)\n"
     ]
    }
   ],
   "source": [
    "!pip install pandas"
   ]
  },
  {
   "cell_type": "code",
   "execution_count": 6,
   "id": "0177fd8c",
   "metadata": {},
   "outputs": [],
   "source": [
    "## Importing PANDAS\n",
    "import pandas as pd "
   ]
  },
  {
   "cell_type": "markdown",
   "id": "5604e247",
   "metadata": {},
   "source": [
    "## DATA STRUCTURES IN PANDAS\n",
    "\n",
    "A data structures is a way of storing and organizing data in a computer so that it can be accessed and worked with in an appropriate way."
   ]
  },
  {
   "cell_type": "markdown",
   "id": "a246fa5f",
   "metadata": {},
   "source": [
    "**SERIES**\n",
    "\n",
    "It is a one-dimensional structure storing homogeneous (same data type) mutable (which can be modified) data."
   ]
  },
  {
   "cell_type": "markdown",
   "id": "2925624c",
   "metadata": {},
   "source": [
    "**DATAFRAMES**\n",
    "\n",
    "It is a two-dimensional structure stroing heterogeneous (multiple data type) mutable data."
   ]
  },
  {
   "cell_type": "markdown",
   "id": "540358af",
   "metadata": {},
   "source": [
    "**Panel**\n",
    "\n",
    "It is a three-dimesional way of storing items."
   ]
  },
  {
   "cell_type": "markdown",
   "id": "28de97be",
   "metadata": {},
   "source": [
    "# SERIES"
   ]
  },
  {
   "cell_type": "markdown",
   "id": "6fd12992",
   "metadata": {},
   "source": [
    "1. One Dimensional Structure\n",
    "2. Homogeneous (same type) data\n",
    "3. Mutable (can be modified)\n",
    "4. Size of Series data is **immutable**\n",
    "5. It can be created using **Series()**\n"
   ]
  },
  {
   "cell_type": "markdown",
   "id": "0ea3a507",
   "metadata": {},
   "source": [
    "## CREATION OF SERIES\n",
    "\n",
    "### SYNTAX\n",
    "\n",
    ">> **import pandas as pd** <br>\n",
    ">> **pd.Series(data, index = idx)**\n",
    "\n",
    "\n",
    "The data supplied to Series() can be either:\n",
    "\n",
    "1. List\n",
    "2. Ndarray\n",
    "3. Scalar Value\n",
    "4. Dictionary\n",
    "5. Mathematical expression/function"
   ]
  },
  {
   "cell_type": "markdown",
   "id": "7422fc3a",
   "metadata": {},
   "source": [
    "### MAKING SERIES USING LIST, RANGE(), SCALAR VALUE"
   ]
  },
  {
   "cell_type": "code",
   "execution_count": 8,
   "id": "b1f0bd30",
   "metadata": {},
   "outputs": [
    {
     "data": {
      "text/plain": [
       "0    10\n",
       "1    20\n",
       "2    30\n",
       "3    40\n",
       "dtype: int64"
      ]
     },
     "execution_count": 8,
     "metadata": {},
     "output_type": "execute_result"
    }
   ],
   "source": [
    "# create a series using List\n",
    "import pandas as pd\n",
    "import numpy as np\n",
    "\n",
    "series1 = pd.Series([10,20,30,40])\n",
    "series1"
   ]
  },
  {
   "cell_type": "code",
   "execution_count": 2,
   "id": "befddfda",
   "metadata": {},
   "outputs": [
    {
     "name": "stdout",
     "output_type": "stream",
     "text": [
      "Jan    31\n",
      "Feb    20\n",
      "Mar    31\n",
      "Apr    30\n",
      "May    31\n",
      "Jun    30\n",
      "dtype: int64\n"
     ]
    }
   ],
   "source": [
    "# create a series using two different lists\n",
    "\n",
    "months = ['Jan', 'Feb', 'Mar', 'Apr', 'May', 'Jun']\n",
    "no_days = [31,20,31,30,31,30]\n",
    "\n",
    "series = pd.Series(no_days, index = months)\n",
    "print(series)"
   ]
  },
  {
   "cell_type": "code",
   "execution_count": 3,
   "id": "76b2b3bd",
   "metadata": {},
   "outputs": [
    {
     "data": {
      "text/plain": [
       "0    0\n",
       "1    1\n",
       "2    2\n",
       "3    3\n",
       "4    4\n",
       "dtype: int64"
      ]
     },
     "execution_count": 3,
     "metadata": {},
     "output_type": "execute_result"
    }
   ],
   "source": [
    "#using range() method\n",
    "\n",
    "series1 = pd.Series(range(5))\n",
    "series1"
   ]
  },
  {
   "cell_type": "code",
   "execution_count": 4,
   "id": "dd076f62",
   "metadata": {},
   "outputs": [
    {
     "data": {
      "text/plain": [
       "First     1\n",
       "Second    2\n",
       "Third     3\n",
       "Fourth    4\n",
       "Fifth     5\n",
       "Sixth     6\n",
       "dtype: int64"
      ]
     },
     "execution_count": 4,
     "metadata": {},
     "output_type": "execute_result"
    }
   ],
   "source": [
    "# more example\n",
    "series = pd.Series([1,2,3,4,5,6])\n",
    "\n",
    "series.index = ['First', 'Second', 'Third', 'Fourth', 'Fifth', 'Sixth']\n",
    "series"
   ]
  },
  {
   "cell_type": "code",
   "execution_count": 6,
   "id": "36b84d28",
   "metadata": {},
   "outputs": [
    {
     "data": {
      "text/plain": [
       "0    2.0\n",
       "1    4.0\n",
       "2    5.0\n",
       "3    6.0\n",
       "4    7.5\n",
       "dtype: float64"
      ]
     },
     "execution_count": 6,
     "metadata": {},
     "output_type": "execute_result"
    }
   ],
   "source": [
    "# handling FP values for generating a series\n",
    "series1 = pd.Series([2,4,5,6,7.5])\n",
    "series1"
   ]
  },
  {
   "cell_type": "code",
   "execution_count": 11,
   "id": "6e1e7a4e",
   "metadata": {},
   "outputs": [
    {
     "name": "stdout",
     "output_type": "stream",
     "text": [
      "0     7.5\n",
      "1     5.4\n",
      "2     NaN\n",
      "3   -34.5\n",
      "dtype: float64\n"
     ]
    }
   ],
   "source": [
    "#using missing values (NaN)\n",
    "s = pd.Series([7.5, 5.4, np.NaN, -34.5])\n",
    "print(s)"
   ]
  },
  {
   "cell_type": "code",
   "execution_count": 12,
   "id": "af617a9e",
   "metadata": {},
   "outputs": [
    {
     "data": {
      "text/plain": [
       "a    10\n",
       "b    20\n",
       "c    30\n",
       "d    40\n",
       "e    50\n",
       "dtype: int64"
      ]
     },
     "execution_count": 12,
     "metadata": {},
     "output_type": "execute_result"
    }
   ],
   "source": [
    "# more example\n",
    "series2 = pd.Series([10,20,30,40,50], index = ['a','b','c','d','e'])\n",
    "series2"
   ]
  },
  {
   "cell_type": "code",
   "execution_count": 13,
   "id": "3c84ce78",
   "metadata": {},
   "outputs": [
    {
     "data": {
      "text/plain": [
       "40"
      ]
     },
     "execution_count": 13,
     "metadata": {},
     "output_type": "execute_result"
    }
   ],
   "source": [
    "series2['d']"
   ]
  },
  {
   "cell_type": "code",
   "execution_count": 14,
   "id": "22f25d79",
   "metadata": {},
   "outputs": [
    {
     "data": {
      "text/plain": [
       "a    10\n",
       "c    30\n",
       "e    50\n",
       "dtype: int64"
      ]
     },
     "execution_count": 14,
     "metadata": {},
     "output_type": "execute_result"
    }
   ],
   "source": [
    "series2[['a', 'c', 'e']]"
   ]
  },
  {
   "cell_type": "code",
   "execution_count": 15,
   "id": "25008d14",
   "metadata": {},
   "outputs": [
    {
     "name": "stdout",
     "output_type": "stream",
     "text": [
      "1\n",
      "a    1\n",
      "b    2\n",
      "c    3\n",
      "dtype: int64\n",
      "b    2\n",
      "c    3\n",
      "d    4\n",
      "dtype: int64\n"
     ]
    }
   ],
   "source": [
    "## perform indexing , slicing and accessing data from a series\n",
    "\n",
    "import pandas as pd\n",
    "\n",
    "s = pd.Series([1,2,3,4], index = ['a', 'b', 'c', 'd'])\n",
    "print(s[0])\n",
    "print(s[:3])\n",
    "print(s[-3:])"
   ]
  },
  {
   "cell_type": "markdown",
   "id": "df59a5c5",
   "metadata": {},
   "source": [
    "## iloc and loc\n",
    "\n",
    "**iloc**\n",
    "\n",
    "+ It is used for indexing or selecting based on position, i.e., by row number and column number.\n",
    "+ It refers to **position-based indexing**.\n",
    "\n",
    "**loc**\n",
    "\n",
    "+ loc is used for indexing or selecting based on name, i.e., by row name and column name.\n",
    "+ It refers to **name-based indexing**."
   ]
  },
  {
   "cell_type": "code",
   "execution_count": 18,
   "id": "5a89dbfe",
   "metadata": {},
   "outputs": [
    {
     "name": "stdout",
     "output_type": "stream",
     "text": [
      "b    2\n",
      "c    3\n",
      "d    4\n",
      "dtype: int64\n",
      "b    2\n",
      "c    3\n",
      "d    4\n",
      "e    5\n",
      "dtype: int64\n"
     ]
    }
   ],
   "source": [
    "s = pd.Series([1,2,3,4,5], index = ['a', 'b', 'c', 'd', 'e'])\n",
    "\n",
    "print(s.iloc[1:4])          # position-based indexing\n",
    "print(s.loc['b':'e'])       # name-based indexing"
   ]
  },
  {
   "cell_type": "code",
   "execution_count": 19,
   "id": "17895390",
   "metadata": {},
   "outputs": [
    {
     "data": {
      "text/plain": [
       "0    10\n",
       "1    10\n",
       "2    10\n",
       "dtype: int64"
      ]
     },
     "execution_count": 19,
     "metadata": {},
     "output_type": "execute_result"
    }
   ],
   "source": [
    "# series using scalar value\n",
    "s1 = pd.Series(10, index = range(0,3))\n",
    "s1"
   ]
  },
  {
   "cell_type": "code",
   "execution_count": 20,
   "id": "ed47abf6",
   "metadata": {},
   "outputs": [
    {
     "data": {
      "text/plain": [
       "1    15\n",
       "3    15\n",
       "5    15\n",
       "dtype: int64"
      ]
     },
     "execution_count": 20,
     "metadata": {},
     "output_type": "execute_result"
    }
   ],
   "source": [
    "s2 = pd.Series(15, index = range(1,6,2))\n",
    "s2"
   ]
  },
  {
   "cell_type": "code",
   "execution_count": 27,
   "id": "bf36469c",
   "metadata": {},
   "outputs": [
    {
     "data": {
      "text/plain": [
       "Fiza      WELCOME TO ASPIRE ACADEMY\n",
       "Pritvi    WELCOME TO ASPIRE ACADEMY\n",
       "Tanmoy    WELCOME TO ASPIRE ACADEMY\n",
       "Rahul     WELCOME TO ASPIRE ACADEMY\n",
       "Sushil    WELCOME TO ASPIRE ACADEMY\n",
       "dtype: object"
      ]
     },
     "execution_count": 27,
     "metadata": {},
     "output_type": "execute_result"
    }
   ],
   "source": [
    "# To create a series uinsg a string index\n",
    "\n",
    "import pandas as pd\n",
    "\n",
    "s = pd.Series(\"WELCOME TO ASPIRE ACADEMY\", index = ['Fiza', 'Pritvi', 'Tanmoy', 'Rahul', 'Sushil'])\n",
    "s"
   ]
  },
  {
   "cell_type": "code",
   "execution_count": 28,
   "id": "efa9a45e",
   "metadata": {},
   "outputs": [
    {
     "data": {
      "text/plain": [
       "a     1\n",
       "b     4\n",
       "c     7\n",
       "d    10\n",
       "e    13\n",
       "dtype: int64"
      ]
     },
     "execution_count": 28,
     "metadata": {},
     "output_type": "execute_result"
    }
   ],
   "source": [
    "# To create a series with range() and for loop\n",
    "\n",
    "s = pd.Series(range(1,15,3), index = [x for x in 'abcde'])\n",
    "s"
   ]
  },
  {
   "cell_type": "code",
   "execution_count": null,
   "id": "e43ca5ab",
   "metadata": {},
   "outputs": [],
   "source": [
    "# create series using a dictionary\n",
    "\n",
    "import pandas as pd\n",
    "series = pd.Series({'Jan': 31, 'Feb':28, 'Mar':31, 'Apr':30})\n",
    "series"
   ]
  },
  {
   "cell_type": "markdown",
   "id": "134156b9",
   "metadata": {},
   "source": [
    "### CREATING SERIES USING DICTIONARY"
   ]
  },
  {
   "cell_type": "code",
   "execution_count": 38,
   "id": "7c385b4c",
   "metadata": {},
   "outputs": [
    {
     "data": {
      "text/plain": [
       "Jan    31\n",
       "Feb    28\n",
       "Mar    31\n",
       "Apr    30\n",
       "dtype: int64"
      ]
     },
     "execution_count": 38,
     "metadata": {},
     "output_type": "execute_result"
    }
   ],
   "source": [
    "# create series using a dictionary\n",
    "\n",
    "import pandas as pd\n",
    "series = pd.Series({'Jan': 31, 'Feb':28, 'Mar':31, 'Apr':30})\n",
    "series"
   ]
  },
  {
   "cell_type": "markdown",
   "id": "b9724855",
   "metadata": {},
   "source": [
    "### NAMING A SERIES"
   ]
  },
  {
   "cell_type": "code",
   "execution_count": 39,
   "id": "616665a5",
   "metadata": {},
   "outputs": [
    {
     "data": {
      "text/plain": [
       "Month\n",
       "Jan    31\n",
       "Feb    28\n",
       "Mar    31\n",
       "Apr    30\n",
       "Name: Days, dtype: int64"
      ]
     },
     "execution_count": 39,
     "metadata": {},
     "output_type": "execute_result"
    }
   ],
   "source": [
    "import pandas as pd\n",
    "\n",
    "series = pd.Series({'Jan': 31, 'Feb': 28, 'Mar': 31, 'Apr': 30})\n",
    "\n",
    "# naming a series\n",
    "series.name = \"Days\"\n",
    "series.index.name = \"Month\"\n",
    "series"
   ]
  },
  {
   "cell_type": "code",
   "execution_count": 40,
   "id": "e518bd55",
   "metadata": {},
   "outputs": [
    {
     "name": "stdout",
     "output_type": "stream",
     "text": [
      "[10 11 12 13 14]\n"
     ]
    },
    {
     "data": {
      "text/plain": [
       "10    40\n",
       "11    44\n",
       "12    48\n",
       "13    52\n",
       "14    56\n",
       "dtype: int64"
      ]
     },
     "execution_count": 40,
     "metadata": {},
     "output_type": "execute_result"
    }
   ],
   "source": [
    "# generate a series using a mathematical expressions\n",
    "import pandas as pd\n",
    "import numpy as np\n",
    "\n",
    "s1 = np.arange(10,15)\n",
    "print(s1)\n",
    "\n",
    "sobj = pd.Series(index = s1, data = s1*4)\n",
    "sobj"
   ]
  },
  {
   "cell_type": "code",
   "execution_count": 42,
   "id": "d0d6f775",
   "metadata": {},
   "outputs": [
    {
     "name": "stdout",
     "output_type": "stream",
     "text": [
      "[10 11 12 13 14]\n"
     ]
    },
    {
     "data": {
      "text/plain": [
       "10    100\n",
       "11    121\n",
       "12    144\n",
       "13    169\n",
       "14    196\n",
       "dtype: int64"
      ]
     },
     "execution_count": 42,
     "metadata": {},
     "output_type": "execute_result"
    }
   ],
   "source": [
    "# To generate a series using a mathematical function (exponentiation)\n",
    "\n",
    "s1 = np.arange(10,15)\n",
    "print(s1)\n",
    "\n",
    "sobj = pd.Series(index = s1, data = s1**2)\n",
    "sobj"
   ]
  },
  {
   "cell_type": "markdown",
   "id": "45051dbf",
   "metadata": {},
   "source": [
    "## SERIES OBJECT ATTRIBUTES\n",
    "\n",
    "| Attribute         |  Description                                     |\n",
    "| ----------------- | -----------------------------------------------  |\n",
    "| Series.index      | Returns index of the series                      |\n",
    "| Series.values     | Returns ndarray                                  |\n",
    "| Series.dtype      | Returns dtype object of the underlying data      |\n",
    "| Series.shape      | Returns tuple of the shape of underlying data    |\n",
    "| Series.nbytes     | Returns number of bytes of underlying data       |\n",
    "| Series.ndim       | Returns the number of dimensions                 |\n",
    "| Series.size       | Returns number of elements                       |\n",
    "| Series.itemsize   | Returns the size of the dtype                    |\n",
    "| Series.hasnans    | Returns true if there are any NaN                |\n",
    "| Series.empty      | Returns true if series object is empty           |"
   ]
  },
  {
   "cell_type": "code",
   "execution_count": 46,
   "id": "c2132edb",
   "metadata": {},
   "outputs": [],
   "source": [
    "import pandas as pd\n",
    "\n",
    "s = pd.Series(range(1,15,3), index = [x for x in 'abcde'])"
   ]
  },
  {
   "cell_type": "code",
   "execution_count": 45,
   "id": "74fedbb0",
   "metadata": {},
   "outputs": [
    {
     "data": {
      "text/plain": [
       "Index(['a', 'b', 'c', 'd', 'e'], dtype='object')"
      ]
     },
     "execution_count": 45,
     "metadata": {},
     "output_type": "execute_result"
    }
   ],
   "source": [
    "s.index"
   ]
  },
  {
   "cell_type": "code",
   "execution_count": 47,
   "id": "e2eeacd3",
   "metadata": {},
   "outputs": [
    {
     "data": {
      "text/plain": [
       "array([ 1,  4,  7, 10, 13])"
      ]
     },
     "execution_count": 47,
     "metadata": {},
     "output_type": "execute_result"
    }
   ],
   "source": [
    "s.values"
   ]
  },
  {
   "cell_type": "code",
   "execution_count": 48,
   "id": "98611884",
   "metadata": {},
   "outputs": [
    {
     "data": {
      "text/plain": [
       "(5,)"
      ]
     },
     "execution_count": 48,
     "metadata": {},
     "output_type": "execute_result"
    }
   ],
   "source": [
    "s.shape"
   ]
  },
  {
   "cell_type": "code",
   "execution_count": 49,
   "id": "af793cc8",
   "metadata": {},
   "outputs": [
    {
     "data": {
      "text/plain": [
       "5"
      ]
     },
     "execution_count": 49,
     "metadata": {},
     "output_type": "execute_result"
    }
   ],
   "source": [
    "s.size  "
   ]
  },
  {
   "cell_type": "code",
   "execution_count": 50,
   "id": "39cf9627",
   "metadata": {},
   "outputs": [
    {
     "data": {
      "text/plain": [
       "40"
      ]
     },
     "execution_count": 50,
     "metadata": {},
     "output_type": "execute_result"
    }
   ],
   "source": [
    "s.nbytes"
   ]
  },
  {
   "cell_type": "code",
   "execution_count": 51,
   "id": "4e88aa04",
   "metadata": {},
   "outputs": [
    {
     "data": {
      "text/plain": [
       "1"
      ]
     },
     "execution_count": 51,
     "metadata": {},
     "output_type": "execute_result"
    }
   ],
   "source": [
    "s.ndim"
   ]
  },
  {
   "cell_type": "code",
   "execution_count": 52,
   "id": "b4d26a13",
   "metadata": {},
   "outputs": [
    {
     "data": {
      "text/plain": [
       "False"
      ]
     },
     "execution_count": 52,
     "metadata": {},
     "output_type": "execute_result"
    }
   ],
   "source": [
    "s.empty"
   ]
  },
  {
   "cell_type": "code",
   "execution_count": 53,
   "id": "f9af3b87",
   "metadata": {},
   "outputs": [
    {
     "data": {
      "text/plain": [
       "False"
      ]
     },
     "execution_count": 53,
     "metadata": {},
     "output_type": "execute_result"
    }
   ],
   "source": [
    "s.hasnans"
   ]
  },
  {
   "cell_type": "code",
   "execution_count": 54,
   "id": "e4dd75af",
   "metadata": {},
   "outputs": [
    {
     "data": {
      "text/plain": [
       "dtype('int64')"
      ]
     },
     "execution_count": 54,
     "metadata": {},
     "output_type": "execute_result"
    }
   ],
   "source": [
    "s.dtypes"
   ]
  },
  {
   "cell_type": "markdown",
   "id": "087ca962",
   "metadata": {},
   "source": [
    "### Retrieving Values from a series using head() and tail() functions"
   ]
  },
  {
   "cell_type": "code",
   "execution_count": 58,
   "id": "6b89d73c",
   "metadata": {},
   "outputs": [
    {
     "name": "stdout",
     "output_type": "stream",
     "text": [
      "a    10\n",
      "b    20\n",
      "c    30\n",
      "d    40\n",
      "e    50\n",
      "dtype: int64\n",
      "-------------------------\n",
      "a    10\n",
      "b    20\n",
      "dtype: int64\n",
      "-------------------------\n",
      "d    40\n",
      "e    50\n",
      "dtype: int64\n"
     ]
    }
   ],
   "source": [
    "import pandas as pd\n",
    "\n",
    "series1 = pd.Series([10,20,30,40,50], index = ['a', 'b', 'c','d','e'])\n",
    "print(series1)\n",
    "print(\"-------------------------\")\n",
    "print(series1.head(2))\n",
    "print(\"-------------------------\")\n",
    "print(series1.tail(2))"
   ]
  },
  {
   "cell_type": "markdown",
   "id": "87b4bbd4",
   "metadata": {},
   "source": [
    "### MATHEMATICAL OPERATION ON SERIES"
   ]
  },
  {
   "cell_type": "code",
   "execution_count": 59,
   "id": "7d9bce72",
   "metadata": {},
   "outputs": [
    {
     "name": "stdout",
     "output_type": "stream",
     "text": [
      "1    11\n",
      "2    12\n",
      "3    13\n",
      "4    14\n",
      "dtype: int64\n",
      "-----------------------\n",
      "1    21\n",
      "2    22\n",
      "3    23\n",
      "4    24\n",
      "dtype: int64\n",
      "-----------------------\n",
      "101    21\n",
      "102    22\n",
      "103    23\n",
      "104    24\n",
      "dtype: int64\n"
     ]
    }
   ],
   "source": [
    "s = pd.Series([11,12,13,14], index = range(1,5))\n",
    "s1 = pd.Series([21,22,23,24], index = range(1,5))\n",
    "s3 = pd.Series([21,22,23,24], index = range(101,105))\n",
    "\n",
    "print(s)\n",
    "print(\"-----------------------\")\n",
    "print(s1)\n",
    "print(\"-----------------------\")\n",
    "print(s3)"
   ]
  },
  {
   "cell_type": "code",
   "execution_count": 60,
   "id": "d5c1ee2e",
   "metadata": {},
   "outputs": [
    {
     "data": {
      "text/plain": [
       "1    32\n",
       "2    34\n",
       "3    36\n",
       "4    38\n",
       "dtype: int64"
      ]
     },
     "execution_count": 60,
     "metadata": {},
     "output_type": "execute_result"
    }
   ],
   "source": [
    "s + s1"
   ]
  },
  {
   "cell_type": "code",
   "execution_count": 61,
   "id": "74a29786",
   "metadata": {},
   "outputs": [
    {
     "data": {
      "text/plain": [
       "1     NaN\n",
       "2     NaN\n",
       "3     NaN\n",
       "4     NaN\n",
       "101   NaN\n",
       "102   NaN\n",
       "103   NaN\n",
       "104   NaN\n",
       "dtype: float64"
      ]
     },
     "execution_count": 61,
     "metadata": {},
     "output_type": "execute_result"
    }
   ],
   "source": [
    "s + s3"
   ]
  },
  {
   "cell_type": "code",
   "execution_count": 62,
   "id": "a2bd22c6",
   "metadata": {},
   "outputs": [
    {
     "data": {
      "text/plain": [
       "1    231\n",
       "2    264\n",
       "3    299\n",
       "4    336\n",
       "dtype: int64"
      ]
     },
     "execution_count": 62,
     "metadata": {},
     "output_type": "execute_result"
    }
   ],
   "source": [
    "s*s1"
   ]
  },
  {
   "cell_type": "code",
   "execution_count": 63,
   "id": "56992654",
   "metadata": {},
   "outputs": [
    {
     "data": {
      "text/plain": [
       "1    0.523810\n",
       "2    0.545455\n",
       "3    0.565217\n",
       "4    0.583333\n",
       "dtype: float64"
      ]
     },
     "execution_count": 63,
     "metadata": {},
     "output_type": "execute_result"
    }
   ],
   "source": [
    "s/s1"
   ]
  },
  {
   "cell_type": "markdown",
   "id": "3516ebb2",
   "metadata": {},
   "source": [
    "## VECTOR OPERATIONS ON SERIES"
   ]
  },
  {
   "cell_type": "code",
   "execution_count": 64,
   "id": "93a7ace8",
   "metadata": {},
   "outputs": [
    {
     "data": {
      "text/plain": [
       "1    11\n",
       "2    12\n",
       "3    13\n",
       "4    14\n",
       "dtype: int64"
      ]
     },
     "execution_count": 64,
     "metadata": {},
     "output_type": "execute_result"
    }
   ],
   "source": [
    "s"
   ]
  },
  {
   "cell_type": "code",
   "execution_count": 65,
   "id": "d8d10e55",
   "metadata": {},
   "outputs": [
    {
     "data": {
      "text/plain": [
       "1    13\n",
       "2    14\n",
       "3    15\n",
       "4    16\n",
       "dtype: int64"
      ]
     },
     "execution_count": 65,
     "metadata": {},
     "output_type": "execute_result"
    }
   ],
   "source": [
    "s+2"
   ]
  },
  {
   "cell_type": "code",
   "execution_count": 66,
   "id": "09499644",
   "metadata": {},
   "outputs": [
    {
     "data": {
      "text/plain": [
       "1    33\n",
       "2    36\n",
       "3    39\n",
       "4    42\n",
       "dtype: int64"
      ]
     },
     "execution_count": 66,
     "metadata": {},
     "output_type": "execute_result"
    }
   ],
   "source": [
    "s*3"
   ]
  },
  {
   "cell_type": "code",
   "execution_count": 67,
   "id": "61acc473",
   "metadata": {},
   "outputs": [
    {
     "data": {
      "text/plain": [
       "1    False\n",
       "2    False\n",
       "3    False\n",
       "4     True\n",
       "dtype: bool"
      ]
     },
     "execution_count": 67,
     "metadata": {},
     "output_type": "execute_result"
    }
   ],
   "source": [
    "s > 13"
   ]
  },
  {
   "cell_type": "code",
   "execution_count": 68,
   "id": "8d999237",
   "metadata": {},
   "outputs": [
    {
     "data": {
      "text/plain": [
       "1    121\n",
       "2    144\n",
       "3    169\n",
       "4    196\n",
       "dtype: int64"
      ]
     },
     "execution_count": 68,
     "metadata": {},
     "output_type": "execute_result"
    }
   ],
   "source": [
    "s**2"
   ]
  },
  {
   "cell_type": "markdown",
   "id": "4a08846a",
   "metadata": {},
   "source": [
    "## RETRIEVING VALUES USING CONDITIONS"
   ]
  },
  {
   "cell_type": "code",
   "execution_count": 70,
   "id": "53ef4560",
   "metadata": {},
   "outputs": [
    {
     "data": {
      "text/plain": [
       "0    1.000000\n",
       "1    1.414214\n",
       "2    1.730510\n",
       "3    2.000000\n",
       "dtype: float64"
      ]
     },
     "execution_count": 70,
     "metadata": {},
     "output_type": "execute_result"
    }
   ],
   "source": [
    "import pandas as pd\n",
    "\n",
    "s = pd.Series([1.000000, 1.414214, 1.73051, 2.000000])\n",
    "s"
   ]
  },
  {
   "cell_type": "code",
   "execution_count": 71,
   "id": "66d22686",
   "metadata": {},
   "outputs": [
    {
     "data": {
      "text/plain": [
       "0     True\n",
       "1     True\n",
       "2     True\n",
       "3    False\n",
       "dtype: bool"
      ]
     },
     "execution_count": 71,
     "metadata": {},
     "output_type": "execute_result"
    }
   ],
   "source": [
    "s < 2"
   ]
  },
  {
   "cell_type": "code",
   "execution_count": 72,
   "id": "71c1a3fe",
   "metadata": {},
   "outputs": [
    {
     "data": {
      "text/plain": [
       "0    1.000000\n",
       "1    1.414214\n",
       "2    1.730510\n",
       "dtype: float64"
      ]
     },
     "execution_count": 72,
     "metadata": {},
     "output_type": "execute_result"
    }
   ],
   "source": [
    "s[s<2]"
   ]
  },
  {
   "cell_type": "code",
   "execution_count": 73,
   "id": "3b87ed48",
   "metadata": {},
   "outputs": [
    {
     "data": {
      "text/plain": [
       "3    2.0\n",
       "dtype: float64"
      ]
     },
     "execution_count": 73,
     "metadata": {},
     "output_type": "execute_result"
    }
   ],
   "source": [
    "s[s>=2]"
   ]
  },
  {
   "cell_type": "markdown",
   "id": "14c3be54",
   "metadata": {},
   "source": [
    "## DELETING ELEMENTS FROM A SERIES"
   ]
  },
  {
   "cell_type": "code",
   "execution_count": 74,
   "id": "a3c0ead8",
   "metadata": {},
   "outputs": [
    {
     "data": {
      "text/plain": [
       "0    1.000000\n",
       "1    1.414214\n",
       "2    1.730510\n",
       "3    2.000000\n",
       "dtype: float64"
      ]
     },
     "execution_count": 74,
     "metadata": {},
     "output_type": "execute_result"
    }
   ],
   "source": [
    "s"
   ]
  },
  {
   "cell_type": "code",
   "execution_count": 75,
   "id": "3c0c0edd",
   "metadata": {},
   "outputs": [
    {
     "data": {
      "text/plain": [
       "0    1.000000\n",
       "1    1.414214\n",
       "2    1.730510\n",
       "dtype: float64"
      ]
     },
     "execution_count": 75,
     "metadata": {},
     "output_type": "execute_result"
    }
   ],
   "source": [
    "s.drop(3)"
   ]
  },
  {
   "cell_type": "code",
   "execution_count": null,
   "id": "e11271c4",
   "metadata": {},
   "outputs": [],
   "source": []
  }
 ],
 "metadata": {
  "kernelspec": {
   "display_name": "Python 3 (ipykernel)",
   "language": "python",
   "name": "python3"
  },
  "language_info": {
   "codemirror_mode": {
    "name": "ipython",
    "version": 3
   },
   "file_extension": ".py",
   "mimetype": "text/x-python",
   "name": "python",
   "nbconvert_exporter": "python",
   "pygments_lexer": "ipython3",
   "version": "3.10.4"
  }
 },
 "nbformat": 4,
 "nbformat_minor": 5
}
