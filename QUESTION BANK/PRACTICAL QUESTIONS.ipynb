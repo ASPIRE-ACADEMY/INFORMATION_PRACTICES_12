{
 "cells": [
  {
   "cell_type": "markdown",
   "id": "21255824",
   "metadata": {},
   "source": [
    "# LIST OF PRACTICALS QUESTIONS"
   ]
  },
  {
   "cell_type": "markdown",
   "id": "42f4b0ff",
   "metadata": {},
   "source": [
    "### 1. Write a program to calculate compound interest"
   ]
  },
  {
   "cell_type": "code",
   "execution_count": 1,
   "id": "f61fc901",
   "metadata": {},
   "outputs": [
    {
     "name": "stdout",
     "output_type": "stream",
     "text": [
      "133.0992000000001\n"
     ]
    }
   ],
   "source": [
    "# Python code\n",
    "# To find compound interest\n",
    " \n",
    "# Inputs\n",
    "P = 1200   # principal amount\n",
    "T = 2      # time\n",
    "R = 5.4    # rate\n",
    "\n",
    "# calculates the compound interest\n",
    "A = P*(1+(R/100))**T  # formula for calculating amount\n",
    "CI = A - P            # compound interest = amount - principal amount\n",
    "\n",
    "#printing compound interest value\n",
    "print(CI)"
   ]
  },
  {
   "cell_type": "markdown",
   "id": "89e303e6",
   "metadata": {},
   "source": [
    "### 2. Write program to calculate :Area of circle,Area of square,Area of rectangle\n"
   ]
  },
  {
   "cell_type": "code",
   "execution_count": 4,
   "id": "1ec267ea",
   "metadata": {},
   "outputs": [
    {
     "name": "stdout",
     "output_type": "stream",
     "text": [
      "Area of Square:-  4\n",
      "Area of Rectange:-  6\n",
      "Area of Circle:-  50.26548245743669\n"
     ]
    }
   ],
   "source": [
    "import math\n",
    "\n",
    "def area_square(a):\n",
    "    return a*a\n",
    "\n",
    "def area_rectangle(l,b):\n",
    "    return l*b\n",
    "\n",
    "def area_circle(r):\n",
    "    return math.pi*r*r\n",
    "\n",
    "a = 2\n",
    "l,b = 3,2\n",
    "r = 4\n",
    "\n",
    "print(\"Area of Square:- \", area_square(a))\n",
    "print(\"Area of Rectange:- \", area_rectangle(l,b))\n",
    "print(\"Area of Circle:- \",area_circle(r))"
   ]
  },
  {
   "cell_type": "markdown",
   "id": "2539984d",
   "metadata": {},
   "source": [
    "### 3. Write a Pandas program to shows the attributes of series."
   ]
  },
  {
   "cell_type": "code",
   "execution_count": 8,
   "id": "0ba4b918",
   "metadata": {},
   "outputs": [
    {
     "name": "stdout",
     "output_type": "stream",
     "text": [
      "Series\n",
      "a     1\n",
      "b     4\n",
      "c     7\n",
      "d    10\n",
      "e    13\n",
      "dtype: int64\n",
      "------ Series Attributes -------\n",
      "Series Index:-  Index(['a', 'b', 'c', 'd', 'e'], dtype='object')\n",
      "Series Data:-  [ 1  4  7 10 13]\n",
      "Series Shape:-  (5,)\n",
      "Series Size:-  5\n",
      "Series Byte Size:-  40\n",
      "Series Dimension :-  1\n",
      "Series is Empty or Not:-  False\n",
      "Series has NaN or not:-  False\n",
      "Series dtypes:-  int64\n"
     ]
    }
   ],
   "source": [
    "import pandas as pd\n",
    "\n",
    "s = pd.Series(range(1,15,3), index = [x for x in 'abcde'])\n",
    "print(\"Series\")\n",
    "print(s)\n",
    "print(\"------ Series Attributes -------\")\n",
    "print(\"Series Index:- \", s.index)\n",
    "print(\"Series Data:- \", s.values)\n",
    "print(\"Series Shape:- \", s.shape)\n",
    "print(\"Series Size:- \", s.size)\n",
    "print(\"Series Byte Size:- \", s.nbytes)\n",
    "print(\"Series Dimension :- \", s.ndim)\n",
    "print(\"Series is Empty or Not:- \", s.empty)\n",
    "print(\"Series has NaN or not:- \", s.hasnans)\n",
    "print(\"Series dtypes:- \", s.dtypes)"
   ]
  },
  {
   "cell_type": "markdown",
   "id": "49813dd3",
   "metadata": {},
   "source": [
    "### 4. Write a Pandas program to find out the biggest and smallest three area from given series that stores the area of some states in km2. "
   ]
  },
  {
   "cell_type": "code",
   "execution_count": 13,
   "id": "2f4c8ee8",
   "metadata": {},
   "outputs": [
    {
     "name": "stdout",
     "output_type": "stream",
     "text": [
      "Larger Covered Area is: \n",
      "MP    308252\n",
      "dtype: int64\n",
      "==================\n",
      "Smaller Covered Area is: \n",
      "UP    240928\n",
      "dtype: int64\n"
     ]
    }
   ],
   "source": [
    "import pandas as pd\n",
    "\n",
    "s = pd.Series([308252, 307713, 240928], index = ['MP', 'Mumbai', 'UP'])\n",
    "\n",
    "print(\"Larger Covered Area is: \")\n",
    "print(s.head(1))\n",
    "\n",
    "print(\"==================\")\n",
    "\n",
    "print(\"Smaller Covered Area is: \")\n",
    "print(s.tail(1))"
   ]
  },
  {
   "cell_type": "markdown",
   "id": "ad5ee5a9",
   "metadata": {},
   "source": [
    "### 5. Write a menu driven Pandas program to sort data series according to the value, index."
   ]
  },
  {
   "cell_type": "code",
   "execution_count": 15,
   "id": "a78009c6",
   "metadata": {},
   "outputs": [
    {
     "name": "stdout",
     "output_type": "stream",
     "text": [
      "\n",
      "WELCOME TO PANDAS PROGRAM.\n",
      "\n",
      "MENU\n",
      "1. Sort By Value\n",
      "2. Sort By Index\n",
      "3. Display DataFrame\n",
      "4. Exit\n",
      "\n",
      "Enter your choice: 3\n",
      "\n",
      "1. Display Series\n",
      "2. Exit\n",
      "\n",
      "Enter your choice: 1\n",
      "0         JAVA\n",
      "1       Python\n",
      "2            C\n",
      "3    Cplusplus\n",
      "dtype: object\n",
      "\n",
      "1. Display Series\n",
      "2. Exit\n",
      "\n",
      "Enter your choice: 2\n",
      "\n",
      "MENU\n",
      "1. Sort By Value\n",
      "2. Sort By Index\n",
      "3. Display DataFrame\n",
      "4. Exit\n",
      "\n",
      "Enter your choice: 1\n",
      "\n",
      "1. Sort Series By Value \n",
      "2. Exit\n",
      "\n",
      "Enter your choice: 1\n",
      "2            C\n",
      "3    Cplusplus\n",
      "0         JAVA\n",
      "1       Python\n",
      "dtype: object\n",
      "\n",
      "1. Sort Series By Value \n",
      "2. Exit\n",
      "\n",
      "Enter your choice: 2\n",
      "\n",
      "MENU\n",
      "1. Sort By Value\n",
      "2. Sort By Index\n",
      "3. Display DataFrame\n",
      "4. Exit\n",
      "\n",
      "Enter your choice: 2\n",
      "\n",
      "1. Sort Series By Index\n",
      "2. Exit\n",
      "\n",
      "Enter your choice: 1\n",
      "0         JAVA\n",
      "1       Python\n",
      "2            C\n",
      "3    Cplusplus\n",
      "dtype: object\n",
      "\n",
      "1. Sort Series By Index\n",
      "2. Exit\n",
      "\n",
      "Enter your choice: 2\n",
      "\n",
      "MENU\n",
      "1. Sort By Value\n",
      "2. Sort By Index\n",
      "3. Display DataFrame\n",
      "4. Exit\n",
      "\n",
      "Enter your choice: 4\n",
      "Thank You! See you again.\n"
     ]
    }
   ],
   "source": [
    "import pandas as pd\n",
    "\n",
    "s = pd.Series(['JAVA','Python','C','Cplusplus'])\n",
    "\n",
    "\n",
    "print(\"\\nWELCOME TO PANDAS PROGRAM.\")\n",
    "\n",
    "#using the while loop to print menu list\n",
    "while True:\n",
    "    print(\"\\nMENU\")\n",
    "    print(\"1. Sort By Value\")\n",
    "    print(\"2. Sort By Index\")\n",
    "    print(\"3. Display DataFrame\")\n",
    "    print(\"4. Exit\")\n",
    "    \n",
    "    choice = int(input(\"\\nEnter your choice: \"))\n",
    "    \n",
    "    if choice == 1:\n",
    "        while True:\n",
    "            print(\"\\n1. Sort Series By Value \")\n",
    "            print(\"2. Exit\")\n",
    "            choice1 = int(input(\"\\nEnter your choice: \"))\n",
    "            \n",
    "            #Calling the relevant method based on users choice using if-else loop\n",
    "            if choice1 == 1:\n",
    "                sorted_series = s.sort_values(ascending = True)\n",
    "                print(sorted_series)\n",
    "            elif choice1 == 2:\n",
    "                break\n",
    "            else:\n",
    "                print(\"Incorrect Choice!\")\n",
    "    \n",
    "    elif choice == 2:\n",
    "        while True:\n",
    "            print(\"\\n1. Sort Series By Index\")\n",
    "            print(\"2. Exit\")\n",
    "            \n",
    "            choice1 = int(input(\"\\nEnter your choice: \"))\n",
    "            if choice1 == 1:\n",
    "                sorted_series = s.sort_index()\n",
    "                print(sorted_series)\n",
    "            elif choice1 == 2:\n",
    "                break\n",
    "            else:\n",
    "                print(\"Incorrect Choice!\")\n",
    "    \n",
    "    elif choice == 3:\n",
    "        while True:\n",
    "            print(\"\\n1. Display Series\")\n",
    "            print(\"2. Exit\")\n",
    "            \n",
    "            choice1 = int(input(\"\\nEnter your choice: \"))\n",
    "            if choice1 == 1:\n",
    "                print(s)\n",
    "            elif choice1 == 2:\n",
    "                break\n",
    "            else:\n",
    "                print(\"Incorrect Choice!\")\n",
    "                \n",
    "    #exit condition to get out of the while loop\n",
    "    elif choice == 4:\n",
    "        print(\"Thank You! See you again.\")\n",
    "        break\n",
    "    \n",
    "    else:\n",
    "        print(\"Incorrect Choice. Please, try again.\")"
   ]
  },
  {
   "cell_type": "markdown",
   "id": "f263dc12",
   "metadata": {},
   "source": [
    "### 6. Write a Pandas program to add, subtract, multiple and divide two Pandas Series."
   ]
  },
  {
   "cell_type": "code",
   "execution_count": 18,
   "id": "69dc9cae",
   "metadata": {},
   "outputs": [
    {
     "name": "stdout",
     "output_type": "stream",
     "text": [
      "1    11\n",
      "2    12\n",
      "3    13\n",
      "4    14\n",
      "dtype: int64\n",
      "-----------------------\n",
      "2    21\n",
      "3    22\n",
      "4    23\n",
      "5    24\n",
      "dtype: int64\n",
      "-----------------------\n",
      "Adding SERIES\n",
      "1     NaN\n",
      "2    33.0\n",
      "3    35.0\n",
      "4    37.0\n",
      "5     NaN\n",
      "dtype: float64\n",
      "-----------------------\n",
      "Subtract SERIES\n",
      "1    NaN\n",
      "2   -9.0\n",
      "3   -9.0\n",
      "4   -9.0\n",
      "5    NaN\n",
      "dtype: float64\n",
      "-----------------------\n",
      "Multiply SERIES\n",
      "1      NaN\n",
      "2    252.0\n",
      "3    286.0\n",
      "4    322.0\n",
      "5      NaN\n",
      "dtype: float64\n",
      "-----------------------\n",
      "Divide SERIES\n",
      "1         NaN\n",
      "2    0.571429\n",
      "3    0.590909\n",
      "4    0.608696\n",
      "5         NaN\n",
      "dtype: float64\n"
     ]
    }
   ],
   "source": [
    "s = pd.Series([11,12,13,14], index = range(1,5))\n",
    "s1 = pd.Series([21,22,23,24], index = range(2,6))\n",
    "\n",
    "print(s)\n",
    "print(\"-----------------------\")\n",
    "print(s1)\n",
    "print(\"-----------------------\")\n",
    "\n",
    "print(\"Adding SERIES\")\n",
    "print(s + s1)\n",
    "print(\"-----------------------\")\n",
    "print(\"Subtract SERIES\")\n",
    "print(s - s1)\n",
    "print(\"-----------------------\")\n",
    "print(\"Multiply SERIES\")\n",
    "print(s*s1)\n",
    "print(\"-----------------------\")\n",
    "print(\"Divide SERIES\")\n",
    "print(s/s1)"
   ]
  },
  {
   "cell_type": "code",
   "execution_count": null,
   "id": "7e5bccba",
   "metadata": {},
   "outputs": [],
   "source": []
  },
  {
   "cell_type": "code",
   "execution_count": null,
   "id": "5f01f7ec",
   "metadata": {},
   "outputs": [],
   "source": []
  }
 ],
 "metadata": {
  "kernelspec": {
   "display_name": "Python 3 (ipykernel)",
   "language": "python",
   "name": "python3"
  },
  "language_info": {
   "codemirror_mode": {
    "name": "ipython",
    "version": 3
   },
   "file_extension": ".py",
   "mimetype": "text/x-python",
   "name": "python",
   "nbconvert_exporter": "python",
   "pygments_lexer": "ipython3",
   "version": "3.10.4"
  }
 },
 "nbformat": 4,
 "nbformat_minor": 5
}
