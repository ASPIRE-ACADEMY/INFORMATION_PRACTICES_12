{
 "cells": [
  {
   "cell_type": "markdown",
   "id": "628de325",
   "metadata": {},
   "source": [
    "# © 2022 by <b> Aspire Academy </b>, Inc. All Rights Reserved."
   ]
  },
  {
   "cell_type": "markdown",
   "id": "d6e7e033",
   "metadata": {},
   "source": [
    "![IP](../assets/IP.jpg)"
   ]
  },
  {
   "cell_type": "markdown",
   "id": "50d69cb3",
   "metadata": {},
   "source": [
    "# CASE STUDY BASED QUESTION\n",
    "\n",
    "# QUESTION 01"
   ]
  },
  {
   "cell_type": "markdown",
   "id": "1cdc670d",
   "metadata": {},
   "source": [
    "Mr. Ankit is working in an organisation as data analyst. \n",
    "He uses Python Pandas and Matplotlib for the same. \n",
    "He got a dataset of the passengers for the year 2010 to 2012 for January, March and December. His\n",
    "manager wants certain information from him, but he is facing some problems. Help him by answering few\n",
    "questions given below:"
   ]
  },
  {
   "cell_type": "code",
   "execution_count": 3,
   "id": "86b1daa1",
   "metadata": {},
   "outputs": [
    {
     "name": "stdout",
     "output_type": "stream",
     "text": [
      "   Year Month  Passengers\n",
      "0  2010   Jan          25\n",
      "1  2010   Mar          50\n",
      "2  2012   Jan          35\n",
      "3  2010   Dec          55\n",
      "4  2012   Dec          65\n"
     ]
    }
   ],
   "source": [
    "import pandas as pd\n",
    "\n",
    "data = {\"Year\": [2010,2010, 2012, 2010, 2012], \n",
    "        \"Month\": [\"Jan\", \"Mar\", \"Jan\", \"Dec\", \"Dec\"],\n",
    "        \"Passengers\": [25,50,35,55,65]\n",
    "       }\n",
    "\n",
    "df = pd.DataFrame(data)\n",
    "print(df)"
   ]
  },
  {
   "cell_type": "code",
   "execution_count": 6,
   "id": "a9648bee",
   "metadata": {},
   "outputs": [
    {
     "data": {
      "text/plain": [
       "(5, 3)"
      ]
     },
     "execution_count": 6,
     "metadata": {},
     "output_type": "execute_result"
    }
   ],
   "source": [
    "# method for the required output (5,3)\n",
    "df.shape"
   ]
  },
  {
   "cell_type": "code",
   "execution_count": 8,
   "id": "13977286",
   "metadata": {},
   "outputs": [
    {
     "data": {
      "text/html": [
       "<div>\n",
       "<style scoped>\n",
       "    .dataframe tbody tr th:only-of-type {\n",
       "        vertical-align: middle;\n",
       "    }\n",
       "\n",
       "    .dataframe tbody tr th {\n",
       "        vertical-align: top;\n",
       "    }\n",
       "\n",
       "    .dataframe thead th {\n",
       "        text-align: right;\n",
       "    }\n",
       "</style>\n",
       "<table border=\"1\" class=\"dataframe\">\n",
       "  <thead>\n",
       "    <tr style=\"text-align: right;\">\n",
       "      <th></th>\n",
       "      <th>Month</th>\n",
       "      <th>Passengers</th>\n",
       "    </tr>\n",
       "  </thead>\n",
       "  <tbody>\n",
       "    <tr>\n",
       "      <th>0</th>\n",
       "      <td>Jan</td>\n",
       "      <td>25</td>\n",
       "    </tr>\n",
       "    <tr>\n",
       "      <th>2</th>\n",
       "      <td>Jan</td>\n",
       "      <td>35</td>\n",
       "    </tr>\n",
       "  </tbody>\n",
       "</table>\n",
       "</div>"
      ],
      "text/plain": [
       "  Month  Passengers\n",
       "0   Jan          25\n",
       "2   Jan          35"
      ]
     },
     "execution_count": 8,
     "metadata": {},
     "output_type": "execute_result"
    }
   ],
   "source": [
    "# print the details of \"January\" month along with \n",
    "# the number of passengers\n",
    "\n",
    "df[['Month','Passengers']][df['Month'] == 'Jan']"
   ]
  },
  {
   "cell_type": "code",
   "execution_count": 13,
   "id": "4fe601f5",
   "metadata": {},
   "outputs": [
    {
     "data": {
      "text/html": [
       "<div>\n",
       "<style scoped>\n",
       "    .dataframe tbody tr th:only-of-type {\n",
       "        vertical-align: middle;\n",
       "    }\n",
       "\n",
       "    .dataframe tbody tr th {\n",
       "        vertical-align: top;\n",
       "    }\n",
       "\n",
       "    .dataframe thead th {\n",
       "        text-align: right;\n",
       "    }\n",
       "</style>\n",
       "<table border=\"1\" class=\"dataframe\">\n",
       "  <thead>\n",
       "    <tr style=\"text-align: right;\">\n",
       "      <th></th>\n",
       "      <th>Year</th>\n",
       "      <th>Month</th>\n",
       "      <th>Passengers</th>\n",
       "    </tr>\n",
       "  </thead>\n",
       "  <tbody>\n",
       "    <tr>\n",
       "      <th>Air India</th>\n",
       "      <td>2010</td>\n",
       "      <td>Jan</td>\n",
       "      <td>25</td>\n",
       "    </tr>\n",
       "    <tr>\n",
       "      <th>Indigo</th>\n",
       "      <td>2010</td>\n",
       "      <td>Mar</td>\n",
       "      <td>50</td>\n",
       "    </tr>\n",
       "    <tr>\n",
       "      <th>Spicejet</th>\n",
       "      <td>2012</td>\n",
       "      <td>Jan</td>\n",
       "      <td>35</td>\n",
       "    </tr>\n",
       "    <tr>\n",
       "      <th>Jet</th>\n",
       "      <td>2010</td>\n",
       "      <td>Dec</td>\n",
       "      <td>55</td>\n",
       "    </tr>\n",
       "    <tr>\n",
       "      <th>Emirates</th>\n",
       "      <td>2012</td>\n",
       "      <td>Dec</td>\n",
       "      <td>65</td>\n",
       "    </tr>\n",
       "  </tbody>\n",
       "</table>\n",
       "</div>"
      ],
      "text/plain": [
       "           Year Month  Passengers\n",
       "Air India  2010   Jan          25\n",
       "Indigo     2010   Mar          50\n",
       "Spicejet   2012   Jan          35\n",
       "Jet        2010   Dec          55\n",
       "Emirates   2012   Dec          65"
      ]
     },
     "execution_count": 13,
     "metadata": {},
     "output_type": "execute_result"
    }
   ],
   "source": [
    "df.index=[\"Air India\",\"Indigo\",\"Spicejet\",\"Jet\",\"Emirates\"]\n",
    "df"
   ]
  },
  {
   "cell_type": "markdown",
   "id": "85d7c66d",
   "metadata": {},
   "source": [
    "# QUESTION 02"
   ]
  },
  {
   "cell_type": "markdown",
   "id": "d3f00c77",
   "metadata": {},
   "source": [
    "Mr. Sharma is working in a game development industry and he was comparing the given chart on the basis of\n",
    "the rating of the various games available on the play store."
   ]
  },
  {
   "cell_type": "code",
   "execution_count": 18,
   "id": "0467da67",
   "metadata": {},
   "outputs": [
    {
     "data": {
      "image/png": "[encoded data removed]",
      "text/plain": [
       "<Figure size 432x288 with 1 Axes>"
      ]
     },
     "metadata": {
      "needs_background": "light"
     },
     "output_type": "display_data"
    }
   ],
   "source": [
    "import matplotlib.pyplot as plt\n",
    "\n",
    "Games = [\"Subway Surfer\", \"Temple Run\", \"Candy Crush\", \"Bottle Shot\", \"Runner Best\"]\n",
    "Rating = [4.2, 4.8, 5.0, 3.8, 4.1]\n",
    "\n",
    "plt.bar(Games, Rating)\n",
    "plt.xlabel(\"Games\")\n",
    "plt.ylabel(\"Rating\")\n",
    "plt.show()"
   ]
  },
  {
   "cell_type": "markdown",
   "id": "83fe59fa",
   "metadata": {},
   "source": [
    "# QUESTION 03"
   ]
  },
  {
   "cell_type": "markdown",
   "id": "ad43cf4e",
   "metadata": {},
   "source": [
    "## Answer the following based on the series given below.\n",
    "\n",
    "```python\n",
    "import pandas as pd\n",
    "\n",
    "list1=[1,2,3,4,5,6,7,8]\n",
    "list2=['swimming','tt','skating','kho kho', 'bb', 'chess', 'football',\"cricket\"]\n",
    "\n",
    "school=pd.Series(list1,index=list2)\n",
    "school.name=(\"little\")\n",
    "\n",
    "print (school*2) #statement 1\n",
    "print (school.tail(3)) # statement 2\n",
    "print (school[\"tt\"]) # statement 3\n",
    "print (school[2:4]) # statement 4\n",
    "```"
   ]
  },
  {
   "cell_type": "code",
   "execution_count": 19,
   "id": "98a643fb",
   "metadata": {},
   "outputs": [
    {
     "data": {
      "text/plain": [
       "swimming    1\n",
       "tt          2\n",
       "skating     3\n",
       "kho kho     4\n",
       "bb          5\n",
       "chess       6\n",
       "football    7\n",
       "cricket     8\n",
       "dtype: int64"
      ]
     },
     "execution_count": 19,
     "metadata": {},
     "output_type": "execute_result"
    }
   ],
   "source": [
    "import pandas as pd\n",
    "\n",
    "list1=[1,2,3,4,5,6,7,8]\n",
    "list2=['swimming','tt','skating','kho kho', 'bb', 'chess', 'football',\"cricket\"]\n",
    "\n",
    "school=pd.Series(list1,index=list2)\n",
    "school"
   ]
  },
  {
   "cell_type": "code",
   "execution_count": 21,
   "id": "fca6ae94",
   "metadata": {},
   "outputs": [
    {
     "data": {
      "text/plain": [
       "swimming    1\n",
       "tt          2\n",
       "skating     3\n",
       "kho kho     4\n",
       "bb          5\n",
       "chess       6\n",
       "football    7\n",
       "cricket     8\n",
       "Name: little, dtype: int64"
      ]
     },
     "execution_count": 21,
     "metadata": {},
     "output_type": "execute_result"
    }
   ],
   "source": [
    "school.name=(\"little\")\n",
    "school"
   ]
  },
  {
   "cell_type": "code",
   "execution_count": 22,
   "id": "081bd55c",
   "metadata": {},
   "outputs": [
    {
     "name": "stdout",
     "output_type": "stream",
     "text": [
      "swimming     2\n",
      "tt           4\n",
      "skating      6\n",
      "kho kho      8\n",
      "bb          10\n",
      "chess       12\n",
      "football    14\n",
      "cricket     16\n",
      "Name: little, dtype: int64\n"
     ]
    }
   ],
   "source": [
    "print(school*2) #statement 1"
   ]
  },
  {
   "cell_type": "code",
   "execution_count": 23,
   "id": "638843f8",
   "metadata": {},
   "outputs": [
    {
     "name": "stdout",
     "output_type": "stream",
     "text": [
      "chess       6\n",
      "football    7\n",
      "cricket     8\n",
      "Name: little, dtype: int64\n"
     ]
    }
   ],
   "source": [
    "print(school.tail(3)) # statement 2"
   ]
  },
  {
   "cell_type": "code",
   "execution_count": 24,
   "id": "1a320e0f",
   "metadata": {},
   "outputs": [
    {
     "name": "stdout",
     "output_type": "stream",
     "text": [
      "2\n"
     ]
    }
   ],
   "source": [
    "print(school[\"tt\"]) # statement 3"
   ]
  },
  {
   "cell_type": "code",
   "execution_count": 25,
   "id": "96956136",
   "metadata": {},
   "outputs": [
    {
     "name": "stdout",
     "output_type": "stream",
     "text": [
      "skating    3\n",
      "kho kho    4\n",
      "Name: little, dtype: int64\n"
     ]
    }
   ],
   "source": [
    "print(school[2:4]) # statement 4"
   ]
  },
  {
   "cell_type": "markdown",
   "id": "c7db6df1",
   "metadata": {},
   "source": [
    "# QUESTION 04"
   ]
  },
  {
   "cell_type": "code",
   "execution_count": null,
   "id": "c168a44a",
   "metadata": {},
   "outputs": [],
   "source": []
  }
 ],
 "metadata": {
  "kernelspec": {
   "display_name": "Python 3 (ipykernel)",
   "language": "python",
   "name": "python3"
  },
  "language_info": {
   "codemirror_mode": {
    "name": "ipython",
    "version": 3
   },
   "file_extension": ".py",
   "mimetype": "text/x-python",
   "name": "python",
   "nbconvert_exporter": "python",
   "pygments_lexer": "ipython3",
   "version": "3.10.4"
  }
 },
 "nbformat": 4,
 "nbformat_minor": 5
}
