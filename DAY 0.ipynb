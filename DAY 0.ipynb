{
 "cells": [
  {
   "cell_type": "markdown",
   "id": "1c5b62fb",
   "metadata": {},
   "source": [
    "# © 2022 by <b> Aspire Academy </b>, Inc. All Rights Reserved."
   ]
  },
  {
   "cell_type": "markdown",
   "id": "2dae8f02",
   "metadata": {},
   "source": [
    "![IP](assets/IP.jpg)"
   ]
  },
  {
   "cell_type": "markdown",
   "id": "1ce9415a",
   "metadata": {},
   "source": [
    "# Learning Outcomes\n",
    "\n",
    "At the end of this course, students will be able to:\n",
    "\n",
    "● Create Series, Data frames and apply various operations. <br>\n",
    "● Visualize data using relevant graphs.<br>\n",
    "● Design SQL queries using aggregate functions.<br>\n",
    "● Import/Export data between SQL database and Pandas.<br>\n",
    "● Learn terminology related to networking and internet.<br>\n",
    "● Identify internet security issues and configure browser settings.<br>\n",
    "● Understand the impact of technology on society including gender and disability\n",
    "issues."
   ]
  },
  {
   "cell_type": "markdown",
   "id": "749bc741",
   "metadata": {},
   "source": [
    "# Distribution of Marks"
   ]
  },
  {
   "cell_type": "markdown",
   "id": "33842bf0",
   "metadata": {},
   "source": [
    "![CHAP](assets/CHAP.png)"
   ]
  },
  {
   "cell_type": "markdown",
   "id": "24d3aa13",
   "metadata": {},
   "source": [
    "# PAPER ANALYSIS"
   ]
  },
  {
   "cell_type": "markdown",
   "id": "5a36a5dd",
   "metadata": {},
   "source": [
    "![PAPER](assets/PAPER.jpeg)"
   ]
  },
  {
   "cell_type": "markdown",
   "id": "537c2d29",
   "metadata": {},
   "source": [
    "# © 2022 by <b> Aspire Academy </b>, Inc. All Rights Reserved."
   ]
  }
 ],
 "metadata": {
  "kernelspec": {
   "display_name": "Python 3 (ipykernel)",
   "language": "python",
   "name": "python3"
  },
  "language_info": {
   "codemirror_mode": {
    "name": "ipython",
    "version": 3
   },
   "file_extension": ".py",
   "mimetype": "text/x-python",
   "name": "python",
   "nbconvert_exporter": "python",
   "pygments_lexer": "ipython3",
   "version": "3.10.4"
  }
 },
 "nbformat": 4,
 "nbformat_minor": 5
}
