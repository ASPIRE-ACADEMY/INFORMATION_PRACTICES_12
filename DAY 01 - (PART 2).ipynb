{
 "cells": [
  {
   "cell_type": "markdown",
   "id": "fa3bfe47",
   "metadata": {},
   "source": [
    "# © 2022 by <b> Aspire Academy </b>, All Rights Reserved."
   ]
  },
  {
   "cell_type": "markdown",
   "id": "15e8810e",
   "metadata": {},
   "source": [
    "# DATA HANDLING USING PANDAS PART - 01\n",
    "\n",
    "![PART1](assets/PART1.png)"
   ]
  },
  {
   "cell_type": "markdown",
   "id": "3ac046e3",
   "metadata": {},
   "source": [
    "# DATAFRAMES"
   ]
  },
  {
   "cell_type": "markdown",
   "id": "ba055253",
   "metadata": {},
   "source": [
    "One limitation of series is that it is not able to handle the data in the form of 2D or multidimensional related to real time.\n",
    "\n",
    "For such tasks, Python Pandas provides another data structure called dataframe.\n",
    "\n",
    "**Points**:\n",
    "\n",
    "1. Dataframe objects of Pandas can store 2D heterogeneous data.\n",
    "2. It is a two-dimensional data structure, just like any table (with rows and columns)\n",
    "3. Size of the dataframe is mutable\n",
    "4. Data/values are also mutable and can be changed any time."
   ]
  },
  {
   "cell_type": "markdown",
   "id": "0d659471",
   "metadata": {},
   "source": [
    "### Dataframes can be created with the following constructs:\n",
    "\n",
    "+ Lists\n",
    "+ Series\n",
    "+ Dictionary\n",
    "+ NumPy ndaarays"
   ]
  },
  {
   "cell_type": "code",
   "execution_count": null,
   "id": "5d374a80",
   "metadata": {},
   "outputs": [],
   "source": []
  },
  {
   "cell_type": "code",
   "execution_count": null,
   "id": "434e0ddc",
   "metadata": {},
   "outputs": [],
   "source": []
  },
  {
   "cell_type": "code",
   "execution_count": null,
   "id": "8cb94971",
   "metadata": {},
   "outputs": [],
   "source": []
  },
  {
   "cell_type": "code",
   "execution_count": null,
   "id": "9f63e5a1",
   "metadata": {},
   "outputs": [],
   "source": []
  },
  {
   "cell_type": "code",
   "execution_count": null,
   "id": "ed338229",
   "metadata": {},
   "outputs": [],
   "source": []
  },
  {
   "cell_type": "code",
   "execution_count": null,
   "id": "2914f68c",
   "metadata": {},
   "outputs": [],
   "source": []
  },
  {
   "cell_type": "code",
   "execution_count": null,
   "id": "c19d90c0",
   "metadata": {},
   "outputs": [],
   "source": []
  },
  {
   "cell_type": "code",
   "execution_count": null,
   "id": "1773630c",
   "metadata": {},
   "outputs": [],
   "source": []
  },
  {
   "cell_type": "code",
   "execution_count": null,
   "id": "56182c3a",
   "metadata": {},
   "outputs": [],
   "source": []
  }
 ],
 "metadata": {
  "kernelspec": {
   "display_name": "Python 3 (ipykernel)",
   "language": "python",
   "name": "python3"
  },
  "language_info": {
   "codemirror_mode": {
    "name": "ipython",
    "version": 3
   },
   "file_extension": ".py",
   "mimetype": "text/x-python",
   "name": "python",
   "nbconvert_exporter": "python",
   "pygments_lexer": "ipython3",
   "version": "3.10.4"
  }
 },
 "nbformat": 4,
 "nbformat_minor": 5
}
