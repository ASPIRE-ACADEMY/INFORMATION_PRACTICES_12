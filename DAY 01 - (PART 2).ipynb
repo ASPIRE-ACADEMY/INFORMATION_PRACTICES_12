{
 "cells": [
  {
   "cell_type": "markdown",
   "id": "fa3bfe47",
   "metadata": {},
   "source": [
    "# © 2022 by <b> Aspire Academy </b>, All Rights Reserved."
   ]
  },
  {
   "cell_type": "markdown",
   "id": "15e8810e",
   "metadata": {},
   "source": [
    "# DATA HANDLING USING PANDAS PART - 01\n",
    "\n",
    "![PART1](assets/PART1.png)"
   ]
  },
  {
   "cell_type": "markdown",
   "id": "3ac046e3",
   "metadata": {},
   "source": [
    "# DATAFRAMES"
   ]
  },
  {
   "cell_type": "markdown",
   "id": "ba055253",
   "metadata": {},
   "source": [
    "One limitation of series is that it is not able to handle the data in the form of 2D or multidimensional related to real time.\n",
    "\n",
    "For such tasks, Python Pandas provides another data structure called dataframe.\n",
    "\n",
    "**Points**:\n",
    "\n",
    "1. Dataframe objects of Pandas can store 2D heterogeneous data.\n",
    "2. It is a two-dimensional data structure, just like any table (with rows and columns)\n",
    "3. Size of the dataframe is mutable\n",
    "4. Data/values are also mutable and can be changed any time."
   ]
  },
  {
   "cell_type": "markdown",
   "id": "0d659471",
   "metadata": {},
   "source": [
    "### Dataframes can be created with the following constructs:\n",
    "\n",
    "+ Lists\n",
    "+ Series\n",
    "+ Dictionary\n",
    "+ NumPy ndaarays"
   ]
  },
  {
   "cell_type": "code",
   "execution_count": 1,
   "id": "5d374a80",
   "metadata": {},
   "outputs": [
    {
     "name": "stdout",
     "output_type": "stream",
     "text": [
      "    0\n",
      "0  10\n",
      "1  20\n",
      "2  30\n",
      "3  40\n",
      "4  50\n"
     ]
    }
   ],
   "source": [
    "#to create a dataframe from list\n",
    "import pandas as pd\n",
    "\n",
    "list1 = [10,20,30,40,50]\n",
    "df1 = pd.DataFrame(list1)\n",
    "print(df1)"
   ]
  },
  {
   "cell_type": "code",
   "execution_count": 2,
   "id": "434e0ddc",
   "metadata": {},
   "outputs": [
    {
     "name": "stdout",
     "output_type": "stream",
     "text": [
      "     Name  Age\n",
      "0  Tanmoy   18\n",
      "1    Fiza   17\n",
      "2  Pritvi   19\n"
     ]
    }
   ],
   "source": [
    "#create a dataframe from nested lists\n",
    "\n",
    "data1 = [['Tanmoy', 18],['Fiza', 17], ['Pritvi', 19]]\n",
    "df1 = pd.DataFrame(data1, columns = ['Name', 'Age'])\n",
    "print(df1)"
   ]
  },
  {
   "cell_type": "code",
   "execution_count": 3,
   "id": "8cb94971",
   "metadata": {},
   "outputs": [
    {
     "name": "stdout",
     "output_type": "stream",
     "text": [
      "         Marks  Age\n",
      "Vijaya      80   32\n",
      "Rahul       92   28\n",
      "Megha       67   30\n",
      "Radhika     95   25\n",
      "Shaurya     97   20\n"
     ]
    }
   ],
   "source": [
    "# dataframe from two series of student data\n",
    "\n",
    "student_marks = pd.Series({'Vijaya':80, 'Rahul':92, 'Megha':67,\n",
    "                          'Radhika':95, 'Shaurya':97})\n",
    "\n",
    "student_age = pd.Series({'Vijaya':32, 'Rahul': 28, 'Megha':30,\n",
    "                        'Radhika':25, 'Shaurya':20})\n",
    "\n",
    "student_df = pd.DataFrame({'Marks': student_marks, 'Age': student_age})\n",
    "\n",
    "print(student_df)"
   ]
  },
  {
   "cell_type": "code",
   "execution_count": 4,
   "id": "9f63e5a1",
   "metadata": {},
   "outputs": [
    {
     "name": "stdout",
     "output_type": "stream",
     "text": [
      "         Marks  Age\n",
      "Megha       67   30\n",
      "Vijaya      80   32\n",
      "Rahul       92   28\n",
      "Radhika     95   25\n",
      "Shaurya     97   20\n"
     ]
    }
   ],
   "source": [
    "#sort values in a dataframe\n",
    "\n",
    "print(student_df.sort_values(by=['Marks']))"
   ]
  },
  {
   "cell_type": "code",
   "execution_count": 5,
   "id": "ed338229",
   "metadata": {},
   "outputs": [
    {
     "name": "stdout",
     "output_type": "stream",
     "text": [
      "         Marks  Age\n",
      "Vijaya      80   32\n",
      "Megha       67   30\n",
      "Rahul       92   28\n",
      "Radhika     95   25\n",
      "Shaurya     97   20\n"
     ]
    }
   ],
   "source": [
    "#sort values in a dataframe\n",
    "\n",
    "print(student_df.sort_values(by=['Age'], ascending = False))"
   ]
  },
  {
   "cell_type": "markdown",
   "id": "fc2ebd9f",
   "metadata": {},
   "source": [
    "### Creating DataFrame From Dictionary\n",
    "\n",
    "The different ways to create a dataframe using dictionary are:-\n",
    "\n",
    "1. Dictionary of List\n",
    "2. Dictionary of Series\n",
    "3. List of Dictionaries\n",
    "\n",
    "```\n",
    "The dictionary keys by default are taken as column names\n",
    "```"
   ]
  },
  {
   "cell_type": "code",
   "execution_count": 6,
   "id": "c19d90c0",
   "metadata": {},
   "outputs": [
    {
     "name": "stdout",
     "output_type": "stream",
     "text": [
      "     Name  English  Economics  IP  Accounts\n",
      "0   Rinku       67         78  91        77\n",
      "1    Ritu       78         56  99        87\n",
      "2    Ajay       75         89  90        46\n",
      "3  Pankaj       88         90  89        55\n",
      "4  Aditya       92         89  90        90\n"
     ]
    }
   ],
   "source": [
    "## creating a df using dictionary of list\n",
    "student = {'Name': ['Rinku','Ritu', 'Ajay','Pankaj','Aditya'],\n",
    "          'English':[67,78,75,88,92],\n",
    "          'Economics':[78,56,89,90,89],\n",
    "          'IP':[91,99,90,89,90],\n",
    "          'Accounts':[77,87,46,55,90]}\n",
    "\n",
    "df = pd.DataFrame(student)\n",
    "print(df)"
   ]
  },
  {
   "cell_type": "code",
   "execution_count": 7,
   "id": "1773630c",
   "metadata": {},
   "outputs": [
    {
     "name": "stdout",
     "output_type": "stream",
     "text": [
      "     Name  English  Economics  Information Practices\n",
      "0   Rinku       67         78                     91\n",
      "1    Ritu       78         56                     99\n",
      "2    Ajay       75         89                     90\n",
      "3  Pankaj       88         90                     89\n",
      "4  Aditya       92         89                     90\n"
     ]
    }
   ],
   "source": [
    "## creating a df from dictionary of series\n",
    "\n",
    "n = pd.Series(['Rinku','Ritu', 'Ajay','Pankaj','Aditya'])\n",
    "Eng = pd.Series([67,78,75,88,92])\n",
    "Eco = pd.Series([78,56,89,90,89])\n",
    "IP = pd.Series([91,99,90,89,90])\n",
    "\n",
    "std_result = {'Name': n, 'English': Eng, 'Economics':Eco, \n",
    "              'Information Practices':IP}\n",
    "df = pd.DataFrame(std_result)\n",
    "print(df)\n"
   ]
  },
  {
   "cell_type": "code",
   "execution_count": 8,
   "id": "56182c3a",
   "metadata": {},
   "outputs": [
    {
     "name": "stdout",
     "output_type": "stream",
     "text": [
      "     Name  English  Economics  Information Practices\n",
      "0   Rinku       67         78                     91\n",
      "1    Ritu       78         56                     99\n",
      "2    Ajay       75         89                     90\n",
      "3  Pankaj       88         90                     89\n",
      "4  Aditya       92         89                     90\n"
     ]
    }
   ],
   "source": [
    "# by directly passing\n",
    "std_result = {'Name': pd.Series(['Rinku','Ritu', 'Ajay','Pankaj','Aditya']),\n",
    "              'English': pd.Series([67,78,75,88,92]), \n",
    "              'Economics':pd.Series([78,56,89,90,89]), \n",
    "              'Information Practices':pd.Series([91,99,90,89,90])\n",
    "             }\n",
    "df = pd.DataFrame(std_result)\n",
    "print(df)"
   ]
  },
  {
   "cell_type": "code",
   "execution_count": 9,
   "id": "fbd14660",
   "metadata": {},
   "outputs": [
    {
     "name": "stdout",
     "output_type": "stream",
     "text": [
      "      Vijaya  Rahul  Megha  Radhika  Shaurya\n",
      "Sno1      80   92.0   67.0       95       97\n",
      "Sno2      85   92.0    NaN       75       77\n",
      "Sno3      80    NaN   87.0       65       56\n"
     ]
    }
   ],
   "source": [
    "# create a df by passing a list of dictionaries\n",
    "newstudent = [{'Vijaya':80,'Rahul':92, 'Megha':67,'Radhika':95, 'Shaurya':97},\n",
    "             {'Vijaya':85,'Rahul':92,'Radhika':75, 'Shaurya':77},\n",
    "             {'Vijaya':80,'Megha':87,'Radhika':65, 'Shaurya':56}]\n",
    "\n",
    "df = pd.DataFrame(newstudent,index = ['Sno1','Sno2','Sno3'])\n",
    "print(df)\n",
    "\n"
   ]
  },
  {
   "cell_type": "code",
   "execution_count": 10,
   "id": "55647ee9",
   "metadata": {},
   "outputs": [
    {
     "name": "stdout",
     "output_type": "stream",
     "text": [
      "   English  Mathematics  IP  Accounts\n",
      "0       67           48  89        92\n",
      "1       94           67  65        98\n",
      "2       78           98  56        78\n",
      "3       44           56  78        98\n"
     ]
    }
   ],
   "source": [
    "# creating a dataframe from numpy ndarray\n",
    "import numpy as np\n",
    "import pandas as pd\n",
    "\n",
    "array = np.array([[67,48,89,92], [94,67,65,98],\n",
    "                 [78,98,56,78], [44,56,78,98]])\n",
    "\n",
    "column_names = ['English', 'Mathematics', 'IP', 'Accounts']\n",
    "\n",
    "df = pd.DataFrame(data = array, columns = column_names)\n",
    "print(df)"
   ]
  },
  {
   "cell_type": "markdown",
   "id": "649c801f",
   "metadata": {},
   "source": [
    "#### SELECTING AND ACCESSING, MODIFYING RECORDS FROM DATAFRAME"
   ]
  },
  {
   "cell_type": "code",
   "execution_count": 11,
   "id": "b93c9d24",
   "metadata": {},
   "outputs": [
    {
     "data": {
      "text/html": [
       "<div>\n",
       "<style scoped>\n",
       "    .dataframe tbody tr th:only-of-type {\n",
       "        vertical-align: middle;\n",
       "    }\n",
       "\n",
       "    .dataframe tbody tr th {\n",
       "        vertical-align: top;\n",
       "    }\n",
       "\n",
       "    .dataframe thead th {\n",
       "        text-align: right;\n",
       "    }\n",
       "</style>\n",
       "<table border=\"1\" class=\"dataframe\">\n",
       "  <thead>\n",
       "    <tr style=\"text-align: right;\">\n",
       "      <th></th>\n",
       "      <th>Name</th>\n",
       "      <th>English</th>\n",
       "      <th>Economics</th>\n",
       "      <th>Information Practices</th>\n",
       "    </tr>\n",
       "  </thead>\n",
       "  <tbody>\n",
       "    <tr>\n",
       "      <th>Sno1</th>\n",
       "      <td>Rinku</td>\n",
       "      <td>67</td>\n",
       "      <td>78</td>\n",
       "      <td>91</td>\n",
       "    </tr>\n",
       "    <tr>\n",
       "      <th>Sno2</th>\n",
       "      <td>Ritu</td>\n",
       "      <td>78</td>\n",
       "      <td>56</td>\n",
       "      <td>99</td>\n",
       "    </tr>\n",
       "    <tr>\n",
       "      <th>Sno3</th>\n",
       "      <td>Ajay</td>\n",
       "      <td>75</td>\n",
       "      <td>89</td>\n",
       "      <td>90</td>\n",
       "    </tr>\n",
       "    <tr>\n",
       "      <th>Sno4</th>\n",
       "      <td>Pankaj</td>\n",
       "      <td>88</td>\n",
       "      <td>90</td>\n",
       "      <td>89</td>\n",
       "    </tr>\n",
       "    <tr>\n",
       "      <th>Sno5</th>\n",
       "      <td>Aditya</td>\n",
       "      <td>92</td>\n",
       "      <td>89</td>\n",
       "      <td>90</td>\n",
       "    </tr>\n",
       "  </tbody>\n",
       "</table>\n",
       "</div>"
      ],
      "text/plain": [
       "        Name  English  Economics  Information Practices\n",
       "Sno1   Rinku       67         78                     91\n",
       "Sno2    Ritu       78         56                     99\n",
       "Sno3    Ajay       75         89                     90\n",
       "Sno4  Pankaj       88         90                     89\n",
       "Sno5  Aditya       92         89                     90"
      ]
     },
     "execution_count": 11,
     "metadata": {},
     "output_type": "execute_result"
    }
   ],
   "source": [
    "std_result = {'Name':['Rinku','Ritu', 'Ajay','Pankaj','Aditya'],\n",
    "              'English':[67,78,75,88,92], \n",
    "              'Economics':[78,56,89,90,89], \n",
    "              'Information Practices':[91,99,90,89,90]\n",
    "             }\n",
    "df = pd.DataFrame(std_result, index = ['Sno1','Sno2', 'Sno3', 'Sno4', 'Sno5'])\n",
    "df"
   ]
  },
  {
   "cell_type": "code",
   "execution_count": 12,
   "id": "5b6533ac",
   "metadata": {},
   "outputs": [
    {
     "data": {
      "text/html": [
       "<div>\n",
       "<style scoped>\n",
       "    .dataframe tbody tr th:only-of-type {\n",
       "        vertical-align: middle;\n",
       "    }\n",
       "\n",
       "    .dataframe tbody tr th {\n",
       "        vertical-align: top;\n",
       "    }\n",
       "\n",
       "    .dataframe thead th {\n",
       "        text-align: right;\n",
       "    }\n",
       "</style>\n",
       "<table border=\"1\" class=\"dataframe\">\n",
       "  <thead>\n",
       "    <tr style=\"text-align: right;\">\n",
       "      <th></th>\n",
       "      <th>Name</th>\n",
       "      <th>English</th>\n",
       "      <th>Economics</th>\n",
       "      <th>Information Practices</th>\n",
       "    </tr>\n",
       "  </thead>\n",
       "  <tbody>\n",
       "    <tr>\n",
       "      <th>Sno2</th>\n",
       "      <td>Ritu</td>\n",
       "      <td>78</td>\n",
       "      <td>56</td>\n",
       "      <td>99</td>\n",
       "    </tr>\n",
       "    <tr>\n",
       "      <th>Sno3</th>\n",
       "      <td>Ajay</td>\n",
       "      <td>75</td>\n",
       "      <td>89</td>\n",
       "      <td>90</td>\n",
       "    </tr>\n",
       "    <tr>\n",
       "      <th>Sno4</th>\n",
       "      <td>Pankaj</td>\n",
       "      <td>88</td>\n",
       "      <td>90</td>\n",
       "      <td>89</td>\n",
       "    </tr>\n",
       "  </tbody>\n",
       "</table>\n",
       "</div>"
      ],
      "text/plain": [
       "        Name  English  Economics  Information Practices\n",
       "Sno2    Ritu       78         56                     99\n",
       "Sno3    Ajay       75         89                     90\n",
       "Sno4  Pankaj       88         90                     89"
      ]
     },
     "execution_count": 12,
     "metadata": {},
     "output_type": "execute_result"
    }
   ],
   "source": [
    "df[1:4]"
   ]
  },
  {
   "cell_type": "code",
   "execution_count": 13,
   "id": "b2799295",
   "metadata": {},
   "outputs": [
    {
     "data": {
      "text/html": [
       "<div>\n",
       "<style scoped>\n",
       "    .dataframe tbody tr th:only-of-type {\n",
       "        vertical-align: middle;\n",
       "    }\n",
       "\n",
       "    .dataframe tbody tr th {\n",
       "        vertical-align: top;\n",
       "    }\n",
       "\n",
       "    .dataframe thead th {\n",
       "        text-align: right;\n",
       "    }\n",
       "</style>\n",
       "<table border=\"1\" class=\"dataframe\">\n",
       "  <thead>\n",
       "    <tr style=\"text-align: right;\">\n",
       "      <th></th>\n",
       "      <th>English</th>\n",
       "      <th>Economics</th>\n",
       "      <th>Information Practices</th>\n",
       "    </tr>\n",
       "    <tr>\n",
       "      <th>Name</th>\n",
       "      <th></th>\n",
       "      <th></th>\n",
       "      <th></th>\n",
       "    </tr>\n",
       "  </thead>\n",
       "  <tbody>\n",
       "    <tr>\n",
       "      <th>Rinku</th>\n",
       "      <td>67</td>\n",
       "      <td>78</td>\n",
       "      <td>91</td>\n",
       "    </tr>\n",
       "    <tr>\n",
       "      <th>Ritu</th>\n",
       "      <td>78</td>\n",
       "      <td>56</td>\n",
       "      <td>99</td>\n",
       "    </tr>\n",
       "    <tr>\n",
       "      <th>Ajay</th>\n",
       "      <td>75</td>\n",
       "      <td>89</td>\n",
       "      <td>90</td>\n",
       "    </tr>\n",
       "    <tr>\n",
       "      <th>Pankaj</th>\n",
       "      <td>88</td>\n",
       "      <td>90</td>\n",
       "      <td>89</td>\n",
       "    </tr>\n",
       "    <tr>\n",
       "      <th>Aditya</th>\n",
       "      <td>92</td>\n",
       "      <td>89</td>\n",
       "      <td>90</td>\n",
       "    </tr>\n",
       "  </tbody>\n",
       "</table>\n",
       "</div>"
      ],
      "text/plain": [
       "        English  Economics  Information Practices\n",
       "Name                                             \n",
       "Rinku        67         78                     91\n",
       "Ritu         78         56                     99\n",
       "Ajay         75         89                     90\n",
       "Pankaj       88         90                     89\n",
       "Aditya       92         89                     90"
      ]
     },
     "execution_count": 13,
     "metadata": {},
     "output_type": "execute_result"
    }
   ],
   "source": [
    "df.set_index('Name',inplace = True)\n",
    "df"
   ]
  },
  {
   "cell_type": "code",
   "execution_count": 14,
   "id": "9eb83b35",
   "metadata": {},
   "outputs": [
    {
     "data": {
      "text/html": [
       "<div>\n",
       "<style scoped>\n",
       "    .dataframe tbody tr th:only-of-type {\n",
       "        vertical-align: middle;\n",
       "    }\n",
       "\n",
       "    .dataframe tbody tr th {\n",
       "        vertical-align: top;\n",
       "    }\n",
       "\n",
       "    .dataframe thead th {\n",
       "        text-align: right;\n",
       "    }\n",
       "</style>\n",
       "<table border=\"1\" class=\"dataframe\">\n",
       "  <thead>\n",
       "    <tr style=\"text-align: right;\">\n",
       "      <th></th>\n",
       "      <th>Name</th>\n",
       "      <th>English</th>\n",
       "      <th>Economics</th>\n",
       "      <th>Information Practices</th>\n",
       "    </tr>\n",
       "  </thead>\n",
       "  <tbody>\n",
       "    <tr>\n",
       "      <th>0</th>\n",
       "      <td>Rinku</td>\n",
       "      <td>67</td>\n",
       "      <td>78</td>\n",
       "      <td>91</td>\n",
       "    </tr>\n",
       "    <tr>\n",
       "      <th>1</th>\n",
       "      <td>Ritu</td>\n",
       "      <td>78</td>\n",
       "      <td>56</td>\n",
       "      <td>99</td>\n",
       "    </tr>\n",
       "    <tr>\n",
       "      <th>2</th>\n",
       "      <td>Ajay</td>\n",
       "      <td>75</td>\n",
       "      <td>89</td>\n",
       "      <td>90</td>\n",
       "    </tr>\n",
       "    <tr>\n",
       "      <th>3</th>\n",
       "      <td>Pankaj</td>\n",
       "      <td>88</td>\n",
       "      <td>90</td>\n",
       "      <td>89</td>\n",
       "    </tr>\n",
       "    <tr>\n",
       "      <th>4</th>\n",
       "      <td>Aditya</td>\n",
       "      <td>92</td>\n",
       "      <td>89</td>\n",
       "      <td>90</td>\n",
       "    </tr>\n",
       "  </tbody>\n",
       "</table>\n",
       "</div>"
      ],
      "text/plain": [
       "     Name  English  Economics  Information Practices\n",
       "0   Rinku       67         78                     91\n",
       "1    Ritu       78         56                     99\n",
       "2    Ajay       75         89                     90\n",
       "3  Pankaj       88         90                     89\n",
       "4  Aditya       92         89                     90"
      ]
     },
     "execution_count": 14,
     "metadata": {},
     "output_type": "execute_result"
    }
   ],
   "source": [
    "df.reset_index(inplace = True)\n",
    "df"
   ]
  },
  {
   "cell_type": "markdown",
   "id": "1273b880",
   "metadata": {},
   "source": [
    "### Adding/Modifying a Row in a DataFrame\n",
    "\n",
    "**df.loc[]** method used."
   ]
  },
  {
   "cell_type": "code",
   "execution_count": 15,
   "id": "2e1c44e8",
   "metadata": {},
   "outputs": [
    {
     "data": {
      "text/html": [
       "<div>\n",
       "<style scoped>\n",
       "    .dataframe tbody tr th:only-of-type {\n",
       "        vertical-align: middle;\n",
       "    }\n",
       "\n",
       "    .dataframe tbody tr th {\n",
       "        vertical-align: top;\n",
       "    }\n",
       "\n",
       "    .dataframe thead th {\n",
       "        text-align: right;\n",
       "    }\n",
       "</style>\n",
       "<table border=\"1\" class=\"dataframe\">\n",
       "  <thead>\n",
       "    <tr style=\"text-align: right;\">\n",
       "      <th></th>\n",
       "      <th>Vijaya</th>\n",
       "      <th>Rahul</th>\n",
       "      <th>Megha</th>\n",
       "      <th>Radhika</th>\n",
       "      <th>Shaurya</th>\n",
       "    </tr>\n",
       "  </thead>\n",
       "  <tbody>\n",
       "    <tr>\n",
       "      <th>0</th>\n",
       "      <td>80</td>\n",
       "      <td>92.0</td>\n",
       "      <td>67.0</td>\n",
       "      <td>95</td>\n",
       "      <td>97</td>\n",
       "    </tr>\n",
       "    <tr>\n",
       "      <th>1</th>\n",
       "      <td>85</td>\n",
       "      <td>92.0</td>\n",
       "      <td>NaN</td>\n",
       "      <td>75</td>\n",
       "      <td>77</td>\n",
       "    </tr>\n",
       "    <tr>\n",
       "      <th>2</th>\n",
       "      <td>80</td>\n",
       "      <td>NaN</td>\n",
       "      <td>87.0</td>\n",
       "      <td>65</td>\n",
       "      <td>56</td>\n",
       "    </tr>\n",
       "  </tbody>\n",
       "</table>\n",
       "</div>"
      ],
      "text/plain": [
       "   Vijaya  Rahul  Megha  Radhika  Shaurya\n",
       "0      80   92.0   67.0       95       97\n",
       "1      85   92.0    NaN       75       77\n",
       "2      80    NaN   87.0       65       56"
      ]
     },
     "execution_count": 15,
     "metadata": {},
     "output_type": "execute_result"
    }
   ],
   "source": [
    "# create a df\n",
    "newstudent = [{'Vijaya':80,'Rahul':92, 'Megha':67,'Radhika':95, 'Shaurya':97},\n",
    "             {'Vijaya':85,'Rahul':92,'Radhika':75, 'Shaurya':77},\n",
    "             {'Vijaya':80,'Megha':87,'Radhika':65, 'Shaurya':56}]\n",
    "\n",
    "df = pd.DataFrame(newstudent)\n",
    "df"
   ]
  },
  {
   "cell_type": "code",
   "execution_count": 16,
   "id": "3ff11f9f",
   "metadata": {},
   "outputs": [
    {
     "data": {
      "text/html": [
       "<div>\n",
       "<style scoped>\n",
       "    .dataframe tbody tr th:only-of-type {\n",
       "        vertical-align: middle;\n",
       "    }\n",
       "\n",
       "    .dataframe tbody tr th {\n",
       "        vertical-align: top;\n",
       "    }\n",
       "\n",
       "    .dataframe thead th {\n",
       "        text-align: right;\n",
       "    }\n",
       "</style>\n",
       "<table border=\"1\" class=\"dataframe\">\n",
       "  <thead>\n",
       "    <tr style=\"text-align: right;\">\n",
       "      <th></th>\n",
       "      <th>Vijaya</th>\n",
       "      <th>Rahul</th>\n",
       "      <th>Megha</th>\n",
       "      <th>Radhika</th>\n",
       "      <th>Shaurya</th>\n",
       "    </tr>\n",
       "  </thead>\n",
       "  <tbody>\n",
       "    <tr>\n",
       "      <th>0</th>\n",
       "      <td>80</td>\n",
       "      <td>92.0</td>\n",
       "      <td>67.0</td>\n",
       "      <td>95</td>\n",
       "      <td>97</td>\n",
       "    </tr>\n",
       "    <tr>\n",
       "      <th>1</th>\n",
       "      <td>85</td>\n",
       "      <td>92.0</td>\n",
       "      <td>NaN</td>\n",
       "      <td>75</td>\n",
       "      <td>77</td>\n",
       "    </tr>\n",
       "    <tr>\n",
       "      <th>2</th>\n",
       "      <td>80</td>\n",
       "      <td>NaN</td>\n",
       "      <td>87.0</td>\n",
       "      <td>65</td>\n",
       "      <td>56</td>\n",
       "    </tr>\n",
       "    <tr>\n",
       "      <th>3</th>\n",
       "      <td>70</td>\n",
       "      <td>67</td>\n",
       "      <td>93</td>\n",
       "      <td>56</td>\n",
       "      <td>89</td>\n",
       "    </tr>\n",
       "  </tbody>\n",
       "</table>\n",
       "</div>"
      ],
      "text/plain": [
       "  Vijaya Rahul Megha Radhika Shaurya\n",
       "0     80  92.0  67.0      95      97\n",
       "1     85  92.0   NaN      75      77\n",
       "2     80   NaN  87.0      65      56\n",
       "3     70    67    93      56      89"
      ]
     },
     "execution_count": 16,
     "metadata": {},
     "output_type": "execute_result"
    }
   ],
   "source": [
    "df.loc['3'] = ['70','67','93','56','89'] #new record added at location 3\n",
    "df"
   ]
  },
  {
   "cell_type": "markdown",
   "id": "24e45eb7",
   "metadata": {},
   "source": [
    "### Renaming a Column Name in a DataFrame"
   ]
  },
  {
   "cell_type": "code",
   "execution_count": 17,
   "id": "1ec95c2e",
   "metadata": {},
   "outputs": [
    {
     "data": {
      "text/plain": [
       "[101, 102, 103, 104, 105]"
      ]
     },
     "execution_count": 17,
     "metadata": {},
     "output_type": "execute_result"
    }
   ],
   "source": [
    "a1 = [101,102,103,104,105]\n",
    "df = pd.DataFrame(a1)\n",
    "a1"
   ]
  },
  {
   "cell_type": "code",
   "execution_count": 18,
   "id": "7861ce40",
   "metadata": {},
   "outputs": [
    {
     "data": {
      "text/html": [
       "<div>\n",
       "<style scoped>\n",
       "    .dataframe tbody tr th:only-of-type {\n",
       "        vertical-align: middle;\n",
       "    }\n",
       "\n",
       "    .dataframe tbody tr th {\n",
       "        vertical-align: top;\n",
       "    }\n",
       "\n",
       "    .dataframe thead th {\n",
       "        text-align: right;\n",
       "    }\n",
       "</style>\n",
       "<table border=\"1\" class=\"dataframe\">\n",
       "  <thead>\n",
       "    <tr style=\"text-align: right;\">\n",
       "      <th></th>\n",
       "      <th>0</th>\n",
       "    </tr>\n",
       "  </thead>\n",
       "  <tbody>\n",
       "    <tr>\n",
       "      <th>0</th>\n",
       "      <td>101</td>\n",
       "    </tr>\n",
       "    <tr>\n",
       "      <th>1</th>\n",
       "      <td>102</td>\n",
       "    </tr>\n",
       "    <tr>\n",
       "      <th>2</th>\n",
       "      <td>103</td>\n",
       "    </tr>\n",
       "    <tr>\n",
       "      <th>3</th>\n",
       "      <td>104</td>\n",
       "    </tr>\n",
       "    <tr>\n",
       "      <th>4</th>\n",
       "      <td>105</td>\n",
       "    </tr>\n",
       "  </tbody>\n",
       "</table>\n",
       "</div>"
      ],
      "text/plain": [
       "     0\n",
       "0  101\n",
       "1  102\n",
       "2  103\n",
       "3  104\n",
       "4  105"
      ]
     },
     "execution_count": 18,
     "metadata": {},
     "output_type": "execute_result"
    }
   ],
   "source": [
    "df"
   ]
  },
  {
   "cell_type": "code",
   "execution_count": 19,
   "id": "914b0647",
   "metadata": {},
   "outputs": [
    {
     "data": {
      "text/html": [
       "<div>\n",
       "<style scoped>\n",
       "    .dataframe tbody tr th:only-of-type {\n",
       "        vertical-align: middle;\n",
       "    }\n",
       "\n",
       "    .dataframe tbody tr th {\n",
       "        vertical-align: top;\n",
       "    }\n",
       "\n",
       "    .dataframe thead th {\n",
       "        text-align: right;\n",
       "    }\n",
       "</style>\n",
       "<table border=\"1\" class=\"dataframe\">\n",
       "  <thead>\n",
       "    <tr style=\"text-align: right;\">\n",
       "      <th></th>\n",
       "      <th>AdmNo</th>\n",
       "    </tr>\n",
       "  </thead>\n",
       "  <tbody>\n",
       "    <tr>\n",
       "      <th>0</th>\n",
       "      <td>101</td>\n",
       "    </tr>\n",
       "    <tr>\n",
       "      <th>1</th>\n",
       "      <td>102</td>\n",
       "    </tr>\n",
       "    <tr>\n",
       "      <th>2</th>\n",
       "      <td>103</td>\n",
       "    </tr>\n",
       "    <tr>\n",
       "      <th>3</th>\n",
       "      <td>104</td>\n",
       "    </tr>\n",
       "    <tr>\n",
       "      <th>4</th>\n",
       "      <td>105</td>\n",
       "    </tr>\n",
       "  </tbody>\n",
       "</table>\n",
       "</div>"
      ],
      "text/plain": [
       "   AdmNo\n",
       "0    101\n",
       "1    102\n",
       "2    103\n",
       "3    104\n",
       "4    105"
      ]
     },
     "execution_count": 19,
     "metadata": {},
     "output_type": "execute_result"
    }
   ],
   "source": [
    "df.columns = ['AdmNo']\n",
    "df"
   ]
  },
  {
   "cell_type": "code",
   "execution_count": 20,
   "id": "6a48c04e",
   "metadata": {},
   "outputs": [
    {
     "data": {
      "text/html": [
       "<div>\n",
       "<style scoped>\n",
       "    .dataframe tbody tr th:only-of-type {\n",
       "        vertical-align: middle;\n",
       "    }\n",
       "\n",
       "    .dataframe tbody tr th {\n",
       "        vertical-align: top;\n",
       "    }\n",
       "\n",
       "    .dataframe thead th {\n",
       "        text-align: right;\n",
       "    }\n",
       "</style>\n",
       "<table border=\"1\" class=\"dataframe\">\n",
       "  <thead>\n",
       "    <tr style=\"text-align: right;\">\n",
       "      <th></th>\n",
       "      <th>Admission No</th>\n",
       "    </tr>\n",
       "  </thead>\n",
       "  <tbody>\n",
       "    <tr>\n",
       "      <th>0</th>\n",
       "      <td>101</td>\n",
       "    </tr>\n",
       "    <tr>\n",
       "      <th>1</th>\n",
       "      <td>102</td>\n",
       "    </tr>\n",
       "    <tr>\n",
       "      <th>2</th>\n",
       "      <td>103</td>\n",
       "    </tr>\n",
       "    <tr>\n",
       "      <th>3</th>\n",
       "      <td>104</td>\n",
       "    </tr>\n",
       "    <tr>\n",
       "      <th>4</th>\n",
       "      <td>105</td>\n",
       "    </tr>\n",
       "  </tbody>\n",
       "</table>\n",
       "</div>"
      ],
      "text/plain": [
       "   Admission No\n",
       "0           101\n",
       "1           102\n",
       "2           103\n",
       "3           104\n",
       "4           105"
      ]
     },
     "execution_count": 20,
     "metadata": {},
     "output_type": "execute_result"
    }
   ],
   "source": [
    "df.rename(columns = {'AdmNo': 'Admission No'}, inplace = True)\n",
    "df"
   ]
  },
  {
   "cell_type": "markdown",
   "id": "accaefb2",
   "metadata": {},
   "source": [
    "### Adding Columns to a DataFrame\n",
    "\n"
   ]
  },
  {
   "cell_type": "code",
   "execution_count": 21,
   "id": "a4d04eff",
   "metadata": {},
   "outputs": [
    {
     "data": {
      "text/html": [
       "<div>\n",
       "<style scoped>\n",
       "    .dataframe tbody tr th:only-of-type {\n",
       "        vertical-align: middle;\n",
       "    }\n",
       "\n",
       "    .dataframe tbody tr th {\n",
       "        vertical-align: top;\n",
       "    }\n",
       "\n",
       "    .dataframe thead th {\n",
       "        text-align: right;\n",
       "    }\n",
       "</style>\n",
       "<table border=\"1\" class=\"dataframe\">\n",
       "  <thead>\n",
       "    <tr style=\"text-align: right;\">\n",
       "      <th></th>\n",
       "      <th>Admission No</th>\n",
       "    </tr>\n",
       "  </thead>\n",
       "  <tbody>\n",
       "    <tr>\n",
       "      <th>0</th>\n",
       "      <td>101</td>\n",
       "    </tr>\n",
       "    <tr>\n",
       "      <th>1</th>\n",
       "      <td>102</td>\n",
       "    </tr>\n",
       "    <tr>\n",
       "      <th>2</th>\n",
       "      <td>103</td>\n",
       "    </tr>\n",
       "    <tr>\n",
       "      <th>3</th>\n",
       "      <td>104</td>\n",
       "    </tr>\n",
       "    <tr>\n",
       "      <th>4</th>\n",
       "      <td>105</td>\n",
       "    </tr>\n",
       "  </tbody>\n",
       "</table>\n",
       "</div>"
      ],
      "text/plain": [
       "   Admission No\n",
       "0           101\n",
       "1           102\n",
       "2           103\n",
       "3           104\n",
       "4           105"
      ]
     },
     "execution_count": 21,
     "metadata": {},
     "output_type": "execute_result"
    }
   ],
   "source": [
    "df"
   ]
  },
  {
   "cell_type": "code",
   "execution_count": 22,
   "id": "91e65727",
   "metadata": {},
   "outputs": [
    {
     "data": {
      "text/html": [
       "<div>\n",
       "<style scoped>\n",
       "    .dataframe tbody tr th:only-of-type {\n",
       "        vertical-align: middle;\n",
       "    }\n",
       "\n",
       "    .dataframe tbody tr th {\n",
       "        vertical-align: top;\n",
       "    }\n",
       "\n",
       "    .dataframe thead th {\n",
       "        text-align: right;\n",
       "    }\n",
       "</style>\n",
       "<table border=\"1\" class=\"dataframe\">\n",
       "  <thead>\n",
       "    <tr style=\"text-align: right;\">\n",
       "      <th></th>\n",
       "      <th>Admission No</th>\n",
       "      <th>Name</th>\n",
       "    </tr>\n",
       "  </thead>\n",
       "  <tbody>\n",
       "    <tr>\n",
       "      <th>0</th>\n",
       "      <td>101</td>\n",
       "      <td>Fiza</td>\n",
       "    </tr>\n",
       "    <tr>\n",
       "      <th>1</th>\n",
       "      <td>102</td>\n",
       "      <td>Piyush</td>\n",
       "    </tr>\n",
       "    <tr>\n",
       "      <th>2</th>\n",
       "      <td>103</td>\n",
       "      <td>Niladri</td>\n",
       "    </tr>\n",
       "    <tr>\n",
       "      <th>3</th>\n",
       "      <td>104</td>\n",
       "      <td>Tanmoy</td>\n",
       "    </tr>\n",
       "    <tr>\n",
       "      <th>4</th>\n",
       "      <td>105</td>\n",
       "      <td>Pritvi</td>\n",
       "    </tr>\n",
       "  </tbody>\n",
       "</table>\n",
       "</div>"
      ],
      "text/plain": [
       "   Admission No     Name\n",
       "0           101     Fiza\n",
       "1           102   Piyush\n",
       "2           103  Niladri\n",
       "3           104   Tanmoy\n",
       "4           105   Pritvi"
      ]
     },
     "execution_count": 22,
     "metadata": {},
     "output_type": "execute_result"
    }
   ],
   "source": [
    "df['Name'] = ['Fiza', 'Piyush', 'Niladri', 'Tanmoy', 'Pritvi']\n",
    "df"
   ]
  },
  {
   "cell_type": "code",
   "execution_count": 23,
   "id": "ef9e0328",
   "metadata": {},
   "outputs": [
    {
     "data": {
      "text/html": [
       "<div>\n",
       "<style scoped>\n",
       "    .dataframe tbody tr th:only-of-type {\n",
       "        vertical-align: middle;\n",
       "    }\n",
       "\n",
       "    .dataframe tbody tr th {\n",
       "        vertical-align: top;\n",
       "    }\n",
       "\n",
       "    .dataframe thead th {\n",
       "        text-align: right;\n",
       "    }\n",
       "</style>\n",
       "<table border=\"1\" class=\"dataframe\">\n",
       "  <thead>\n",
       "    <tr style=\"text-align: right;\">\n",
       "      <th></th>\n",
       "      <th>Admission No</th>\n",
       "      <th>Name</th>\n",
       "      <th>Physics</th>\n",
       "    </tr>\n",
       "  </thead>\n",
       "  <tbody>\n",
       "    <tr>\n",
       "      <th>0</th>\n",
       "      <td>101</td>\n",
       "      <td>Fiza</td>\n",
       "      <td>89</td>\n",
       "    </tr>\n",
       "    <tr>\n",
       "      <th>1</th>\n",
       "      <td>102</td>\n",
       "      <td>Piyush</td>\n",
       "      <td>78</td>\n",
       "    </tr>\n",
       "    <tr>\n",
       "      <th>2</th>\n",
       "      <td>103</td>\n",
       "      <td>Niladri</td>\n",
       "      <td>65</td>\n",
       "    </tr>\n",
       "    <tr>\n",
       "      <th>3</th>\n",
       "      <td>104</td>\n",
       "      <td>Tanmoy</td>\n",
       "      <td>45</td>\n",
       "    </tr>\n",
       "    <tr>\n",
       "      <th>4</th>\n",
       "      <td>105</td>\n",
       "      <td>Pritvi</td>\n",
       "      <td>55</td>\n",
       "    </tr>\n",
       "  </tbody>\n",
       "</table>\n",
       "</div>"
      ],
      "text/plain": [
       "   Admission No     Name  Physics\n",
       "0           101     Fiza       89\n",
       "1           102   Piyush       78\n",
       "2           103  Niladri       65\n",
       "3           104   Tanmoy       45\n",
       "4           105   Pritvi       55"
      ]
     },
     "execution_count": 23,
     "metadata": {},
     "output_type": "execute_result"
    }
   ],
   "source": [
    "df['Physics'] = pd.Series([89,78,65,45,55])\n",
    "df"
   ]
  },
  {
   "cell_type": "code",
   "execution_count": 25,
   "id": "49a2f9e0",
   "metadata": {},
   "outputs": [
    {
     "name": "stdout",
     "output_type": "stream",
     "text": [
      "         Name  Score  No_attempts\n",
      "Std0     Fiza     67            4\n",
      "Std1  Prithvi     89            2\n",
      "Std2  Niladri     43            1\n",
      "Std3   Tanmoy     96            3\n",
      "Std4   Sushil     77            4\n",
      "DataFrame after adding new column\n",
      "         Name  Score  No_attempts qualify\n",
      "Std0     Fiza     67            4      NO\n",
      "Std1  Prithvi     89            2     YES\n",
      "Std2  Niladri     43            1      NO\n",
      "Std3   Tanmoy     96            3     YES\n",
      "Std4   Sushil     77            4      NO\n"
     ]
    }
   ],
   "source": [
    "## creating a dataframe and adding a new column to it\n",
    "import pandas as pd\n",
    "\n",
    "test = {'Name': ['Fiza', 'Prithvi', 'Niladri', 'Tanmoy', 'Sushil'],\n",
    "       'Score': [67,89,43,96,77],\n",
    "       'No_attempts': [4,2,1,3,4]}\n",
    "\n",
    "test_result = pd.DataFrame(test, index = ['Std0', 'Std1', 'Std2', 'Std3', 'Std4'])\n",
    "\n",
    "print(test_result)\n",
    "\n",
    "#adding a new column: qualify to test result\n",
    "test_result['qualify'] = ['NO', 'YES','NO','YES','NO']\n",
    "print(\"DataFrame after adding new column\")\n",
    "print(test_result)"
   ]
  },
  {
   "cell_type": "markdown",
   "id": "ebedf6fe",
   "metadata": {},
   "source": [
    "#### By using insert() function, we can add a new column to the existing dataframe at any position/column index"
   ]
  },
  {
   "cell_type": "code",
   "execution_count": 30,
   "id": "d3fb86af",
   "metadata": {},
   "outputs": [
    {
     "name": "stdout",
     "output_type": "stream",
     "text": [
      "         Name  Score  No_attempts\n",
      "Std0     Fiza     67            4\n",
      "Std1  Prithvi     89            2\n",
      "Std2  Niladri     43            1\n",
      "Std3   Tanmoy     96            3\n",
      "Std4   Sushil     77            4\n",
      "DataFrame after adding new column\n",
      "         Name  Score  No_attempts qualify\n",
      "Std0     Fiza     67            4      NO\n",
      "Std1  Prithvi     89            2     YES\n",
      "Std2  Niladri     43            1      NO\n",
      "Std3   Tanmoy     96            3     YES\n",
      "Std4   Sushil     77            4      NO\n"
     ]
    }
   ],
   "source": [
    "## creating a dataframe and adding a new column to it\n",
    "import pandas as pd\n",
    "\n",
    "test = {'Name': ['Fiza', 'Prithvi', 'Niladri', 'Tanmoy', 'Sushil'],\n",
    "       'Score': [67,89,43,96,77],\n",
    "       'No_attempts': [4,2,1,3,4]}\n",
    "\n",
    "test_result = pd.DataFrame(test, index = ['Std0', 'Std1', 'Std2', 'Std3', 'Std4'])\n",
    "\n",
    "print(test_result)\n",
    "\n",
    "#adding a new column: qualify to test result\n",
    "#using insert()\n",
    "\n",
    "test_result.insert(3,'qualify',['NO', 'YES','NO','YES','NO'])\n",
    "print(\"DataFrame after adding new column\")\n",
    "print(test_result)"
   ]
  },
  {
   "cell_type": "markdown",
   "id": "0ac24221",
   "metadata": {},
   "source": [
    "## ATTRIBUTES OF A DATAFRAME"
   ]
  },
  {
   "cell_type": "markdown",
   "id": "e7851b28",
   "metadata": {},
   "source": [
    "## SERIES OBJECT ATTRIBUTES\n",
    "\n",
    "| Attribute         |  Description                                                                           |\n",
    "| ----------------- | ---------------------------------------------------------------------------------------|\n",
    "| DataFrame.index   | Returns index of the dataframe                                                         |\n",
    "| DataFrame.columns | Returns columns of the dataframe                                                       |\n",
    "| DataFrame.axes    | Returns both index and column names                                                    |\n",
    "| DataFrame.dtypes  | Returns data type values of the items in the dataframe                                 |\n",
    "| DataFrame.size    | Returns size of the dataframe                                                          |\n",
    "| DataFrame.shape   | Returns the number of rows and columns                                                 |\n",
    "| DataFrame.ndim    | Returns dimension of the given dataframe                                               |\n",
    "| DataFrame.empty   | Returns True or False if the dataframe is empty or not                                 |\n",
    "| DataFrame.count   | Returns count of the items in dataframe (by default gives count of rows)               |\n",
    "| DataFrame.T       | Returns dataframe (interchange of rows and columns)                                    |"
   ]
  },
  {
   "cell_type": "code",
   "execution_count": 31,
   "id": "8981fcf1",
   "metadata": {},
   "outputs": [
    {
     "data": {
      "text/html": [
       "<div>\n",
       "<style scoped>\n",
       "    .dataframe tbody tr th:only-of-type {\n",
       "        vertical-align: middle;\n",
       "    }\n",
       "\n",
       "    .dataframe tbody tr th {\n",
       "        vertical-align: top;\n",
       "    }\n",
       "\n",
       "    .dataframe thead th {\n",
       "        text-align: right;\n",
       "    }\n",
       "</style>\n",
       "<table border=\"1\" class=\"dataframe\">\n",
       "  <thead>\n",
       "    <tr style=\"text-align: right;\">\n",
       "      <th></th>\n",
       "      <th>Name</th>\n",
       "      <th>Score</th>\n",
       "      <th>No_attempts</th>\n",
       "      <th>qualify</th>\n",
       "    </tr>\n",
       "  </thead>\n",
       "  <tbody>\n",
       "    <tr>\n",
       "      <th>Std0</th>\n",
       "      <td>Fiza</td>\n",
       "      <td>67</td>\n",
       "      <td>4</td>\n",
       "      <td>NO</td>\n",
       "    </tr>\n",
       "    <tr>\n",
       "      <th>Std1</th>\n",
       "      <td>Prithvi</td>\n",
       "      <td>89</td>\n",
       "      <td>2</td>\n",
       "      <td>YES</td>\n",
       "    </tr>\n",
       "    <tr>\n",
       "      <th>Std2</th>\n",
       "      <td>Niladri</td>\n",
       "      <td>43</td>\n",
       "      <td>1</td>\n",
       "      <td>NO</td>\n",
       "    </tr>\n",
       "    <tr>\n",
       "      <th>Std3</th>\n",
       "      <td>Tanmoy</td>\n",
       "      <td>96</td>\n",
       "      <td>3</td>\n",
       "      <td>YES</td>\n",
       "    </tr>\n",
       "    <tr>\n",
       "      <th>Std4</th>\n",
       "      <td>Sushil</td>\n",
       "      <td>77</td>\n",
       "      <td>4</td>\n",
       "      <td>NO</td>\n",
       "    </tr>\n",
       "  </tbody>\n",
       "</table>\n",
       "</div>"
      ],
      "text/plain": [
       "         Name  Score  No_attempts qualify\n",
       "Std0     Fiza     67            4      NO\n",
       "Std1  Prithvi     89            2     YES\n",
       "Std2  Niladri     43            1      NO\n",
       "Std3   Tanmoy     96            3     YES\n",
       "Std4   Sushil     77            4      NO"
      ]
     },
     "execution_count": 31,
     "metadata": {},
     "output_type": "execute_result"
    }
   ],
   "source": [
    "test_result"
   ]
  },
  {
   "cell_type": "code",
   "execution_count": 32,
   "id": "3fe5ae52",
   "metadata": {},
   "outputs": [
    {
     "data": {
      "text/plain": [
       "Index(['Std0', 'Std1', 'Std2', 'Std3', 'Std4'], dtype='object')"
      ]
     },
     "execution_count": 32,
     "metadata": {},
     "output_type": "execute_result"
    }
   ],
   "source": [
    "test_result.index"
   ]
  },
  {
   "cell_type": "code",
   "execution_count": 34,
   "id": "fba328d0",
   "metadata": {},
   "outputs": [
    {
     "data": {
      "text/plain": [
       "Index(['Name', 'Score', 'No_attempts', 'qualify'], dtype='object')"
      ]
     },
     "execution_count": 34,
     "metadata": {},
     "output_type": "execute_result"
    }
   ],
   "source": [
    "test_result.columns"
   ]
  },
  {
   "cell_type": "code",
   "execution_count": 35,
   "id": "746213bd",
   "metadata": {},
   "outputs": [
    {
     "data": {
      "text/plain": [
       "[Index(['Std0', 'Std1', 'Std2', 'Std3', 'Std4'], dtype='object'),\n",
       " Index(['Name', 'Score', 'No_attempts', 'qualify'], dtype='object')]"
      ]
     },
     "execution_count": 35,
     "metadata": {},
     "output_type": "execute_result"
    }
   ],
   "source": [
    "test_result.axes"
   ]
  },
  {
   "cell_type": "code",
   "execution_count": 36,
   "id": "870afa88",
   "metadata": {},
   "outputs": [
    {
     "data": {
      "text/plain": [
       "Name           object\n",
       "Score           int64\n",
       "No_attempts     int64\n",
       "qualify        object\n",
       "dtype: object"
      ]
     },
     "execution_count": 36,
     "metadata": {},
     "output_type": "execute_result"
    }
   ],
   "source": [
    "test_result.dtypes"
   ]
  },
  {
   "cell_type": "code",
   "execution_count": 37,
   "id": "f40d9d7d",
   "metadata": {},
   "outputs": [
    {
     "data": {
      "text/plain": [
       "20"
      ]
     },
     "execution_count": 37,
     "metadata": {},
     "output_type": "execute_result"
    }
   ],
   "source": [
    "test_result.size"
   ]
  },
  {
   "cell_type": "code",
   "execution_count": 38,
   "id": "a67850b3",
   "metadata": {},
   "outputs": [
    {
     "data": {
      "text/plain": [
       "(5, 4)"
      ]
     },
     "execution_count": 38,
     "metadata": {},
     "output_type": "execute_result"
    }
   ],
   "source": [
    "test_result.shape"
   ]
  },
  {
   "cell_type": "code",
   "execution_count": 39,
   "id": "0abb4432",
   "metadata": {},
   "outputs": [
    {
     "data": {
      "text/plain": [
       "2"
      ]
     },
     "execution_count": 39,
     "metadata": {},
     "output_type": "execute_result"
    }
   ],
   "source": [
    "test_result.ndim"
   ]
  },
  {
   "cell_type": "code",
   "execution_count": 40,
   "id": "3e5fa7f1",
   "metadata": {},
   "outputs": [
    {
     "data": {
      "text/plain": [
       "False"
      ]
     },
     "execution_count": 40,
     "metadata": {},
     "output_type": "execute_result"
    }
   ],
   "source": [
    "test_result.empty"
   ]
  },
  {
   "cell_type": "code",
   "execution_count": 47,
   "id": "f34aea93",
   "metadata": {},
   "outputs": [
    {
     "data": {
      "text/plain": [
       "Name           5\n",
       "Score          5\n",
       "No_attempts    5\n",
       "qualify        5\n",
       "dtype: int64"
      ]
     },
     "execution_count": 47,
     "metadata": {},
     "output_type": "execute_result"
    }
   ],
   "source": [
    "test_result.count() # 0 or nothing by default gives count of rows"
   ]
  },
  {
   "cell_type": "code",
   "execution_count": 48,
   "id": "20ef10c5",
   "metadata": {},
   "outputs": [
    {
     "data": {
      "text/plain": [
       "Std0    4\n",
       "Std1    4\n",
       "Std2    4\n",
       "Std3    4\n",
       "Std4    4\n",
       "dtype: int64"
      ]
     },
     "execution_count": 48,
     "metadata": {},
     "output_type": "execute_result"
    }
   ],
   "source": [
    "test_result.count(1) #1 means count of columns"
   ]
  },
  {
   "cell_type": "code",
   "execution_count": 49,
   "id": "36ccd63a",
   "metadata": {},
   "outputs": [
    {
     "data": {
      "text/plain": [
       "Name           5\n",
       "Score          5\n",
       "No_attempts    5\n",
       "qualify        5\n",
       "dtype: int64"
      ]
     },
     "execution_count": 49,
     "metadata": {},
     "output_type": "execute_result"
    }
   ],
   "source": [
    "test_result.count(axis = 'index')"
   ]
  },
  {
   "cell_type": "code",
   "execution_count": 50,
   "id": "3a33d389",
   "metadata": {},
   "outputs": [
    {
     "data": {
      "text/plain": [
       "Std0    4\n",
       "Std1    4\n",
       "Std2    4\n",
       "Std3    4\n",
       "Std4    4\n",
       "dtype: int64"
      ]
     },
     "execution_count": 50,
     "metadata": {},
     "output_type": "execute_result"
    }
   ],
   "source": [
    "test_result.count(axis = 'columns')"
   ]
  },
  {
   "cell_type": "code",
   "execution_count": 51,
   "id": "05d9a6fa",
   "metadata": {},
   "outputs": [
    {
     "data": {
      "text/html": [
       "<div>\n",
       "<style scoped>\n",
       "    .dataframe tbody tr th:only-of-type {\n",
       "        vertical-align: middle;\n",
       "    }\n",
       "\n",
       "    .dataframe tbody tr th {\n",
       "        vertical-align: top;\n",
       "    }\n",
       "\n",
       "    .dataframe thead th {\n",
       "        text-align: right;\n",
       "    }\n",
       "</style>\n",
       "<table border=\"1\" class=\"dataframe\">\n",
       "  <thead>\n",
       "    <tr style=\"text-align: right;\">\n",
       "      <th></th>\n",
       "      <th>Std0</th>\n",
       "      <th>Std1</th>\n",
       "      <th>Std2</th>\n",
       "      <th>Std3</th>\n",
       "      <th>Std4</th>\n",
       "    </tr>\n",
       "  </thead>\n",
       "  <tbody>\n",
       "    <tr>\n",
       "      <th>Name</th>\n",
       "      <td>Fiza</td>\n",
       "      <td>Prithvi</td>\n",
       "      <td>Niladri</td>\n",
       "      <td>Tanmoy</td>\n",
       "      <td>Sushil</td>\n",
       "    </tr>\n",
       "    <tr>\n",
       "      <th>Score</th>\n",
       "      <td>67</td>\n",
       "      <td>89</td>\n",
       "      <td>43</td>\n",
       "      <td>96</td>\n",
       "      <td>77</td>\n",
       "    </tr>\n",
       "    <tr>\n",
       "      <th>No_attempts</th>\n",
       "      <td>4</td>\n",
       "      <td>2</td>\n",
       "      <td>1</td>\n",
       "      <td>3</td>\n",
       "      <td>4</td>\n",
       "    </tr>\n",
       "    <tr>\n",
       "      <th>qualify</th>\n",
       "      <td>NO</td>\n",
       "      <td>YES</td>\n",
       "      <td>NO</td>\n",
       "      <td>YES</td>\n",
       "      <td>NO</td>\n",
       "    </tr>\n",
       "  </tbody>\n",
       "</table>\n",
       "</div>"
      ],
      "text/plain": [
       "             Std0     Std1     Std2    Std3    Std4\n",
       "Name         Fiza  Prithvi  Niladri  Tanmoy  Sushil\n",
       "Score          67       89       43      96      77\n",
       "No_attempts     4        2        1       3       4\n",
       "qualify        NO      YES       NO     YES      NO"
      ]
     },
     "execution_count": 51,
     "metadata": {},
     "output_type": "execute_result"
    }
   ],
   "source": [
    "test_result.T"
   ]
  },
  {
   "cell_type": "markdown",
   "id": "16d88db9",
   "metadata": {},
   "source": [
    "## SELECTING A COLUMN FROM A DATAFRAME\n",
    "\n",
    "Pandas provide three methods to access a dataframe column(s):\n",
    "\n",
    "1. df-object['column_name']\n",
    "2. df-object.column_name\n",
    "3. Using iloc() and loc() method\n",
    "   + loc(): label-based indexing\n",
    "   + iloc(): index-based indexing or position based indexing"
   ]
  },
  {
   "cell_type": "code",
   "execution_count": 52,
   "id": "962d1fb1",
   "metadata": {},
   "outputs": [
    {
     "data": {
      "text/html": [
       "<div>\n",
       "<style scoped>\n",
       "    .dataframe tbody tr th:only-of-type {\n",
       "        vertical-align: middle;\n",
       "    }\n",
       "\n",
       "    .dataframe tbody tr th {\n",
       "        vertical-align: top;\n",
       "    }\n",
       "\n",
       "    .dataframe thead th {\n",
       "        text-align: right;\n",
       "    }\n",
       "</style>\n",
       "<table border=\"1\" class=\"dataframe\">\n",
       "  <thead>\n",
       "    <tr style=\"text-align: right;\">\n",
       "      <th></th>\n",
       "      <th>Admission No</th>\n",
       "      <th>Name</th>\n",
       "      <th>Physics</th>\n",
       "    </tr>\n",
       "  </thead>\n",
       "  <tbody>\n",
       "    <tr>\n",
       "      <th>0</th>\n",
       "      <td>101</td>\n",
       "      <td>Fiza</td>\n",
       "      <td>89</td>\n",
       "    </tr>\n",
       "    <tr>\n",
       "      <th>1</th>\n",
       "      <td>102</td>\n",
       "      <td>Piyush</td>\n",
       "      <td>78</td>\n",
       "    </tr>\n",
       "    <tr>\n",
       "      <th>2</th>\n",
       "      <td>103</td>\n",
       "      <td>Niladri</td>\n",
       "      <td>65</td>\n",
       "    </tr>\n",
       "    <tr>\n",
       "      <th>3</th>\n",
       "      <td>104</td>\n",
       "      <td>Tanmoy</td>\n",
       "      <td>45</td>\n",
       "    </tr>\n",
       "    <tr>\n",
       "      <th>4</th>\n",
       "      <td>105</td>\n",
       "      <td>Pritvi</td>\n",
       "      <td>55</td>\n",
       "    </tr>\n",
       "  </tbody>\n",
       "</table>\n",
       "</div>"
      ],
      "text/plain": [
       "   Admission No     Name  Physics\n",
       "0           101     Fiza       89\n",
       "1           102   Piyush       78\n",
       "2           103  Niladri       65\n",
       "3           104   Tanmoy       45\n",
       "4           105   Pritvi       55"
      ]
     },
     "execution_count": 52,
     "metadata": {},
     "output_type": "execute_result"
    }
   ],
   "source": [
    "df"
   ]
  },
  {
   "cell_type": "code",
   "execution_count": 53,
   "id": "967b953e",
   "metadata": {},
   "outputs": [
    {
     "data": {
      "text/plain": [
       "0       Fiza\n",
       "1     Piyush\n",
       "2    Niladri\n",
       "3     Tanmoy\n",
       "4     Pritvi\n",
       "Name: Name, dtype: object"
      ]
     },
     "execution_count": 53,
     "metadata": {},
     "output_type": "execute_result"
    }
   ],
   "source": [
    "df.Name"
   ]
  },
  {
   "cell_type": "code",
   "execution_count": 54,
   "id": "a61a303c",
   "metadata": {},
   "outputs": [
    {
     "data": {
      "text/plain": [
       "0       Fiza\n",
       "1     Piyush\n",
       "2    Niladri\n",
       "3     Tanmoy\n",
       "4     Pritvi\n",
       "Name: Name, dtype: object"
      ]
     },
     "execution_count": 54,
     "metadata": {},
     "output_type": "execute_result"
    }
   ],
   "source": [
    "df['Name']"
   ]
  },
  {
   "cell_type": "code",
   "execution_count": 55,
   "id": "82943309",
   "metadata": {},
   "outputs": [
    {
     "data": {
      "text/html": [
       "<div>\n",
       "<style scoped>\n",
       "    .dataframe tbody tr th:only-of-type {\n",
       "        vertical-align: middle;\n",
       "    }\n",
       "\n",
       "    .dataframe tbody tr th {\n",
       "        vertical-align: top;\n",
       "    }\n",
       "\n",
       "    .dataframe thead th {\n",
       "        text-align: right;\n",
       "    }\n",
       "</style>\n",
       "<table border=\"1\" class=\"dataframe\">\n",
       "  <thead>\n",
       "    <tr style=\"text-align: right;\">\n",
       "      <th></th>\n",
       "      <th>Name</th>\n",
       "      <th>Physics</th>\n",
       "    </tr>\n",
       "  </thead>\n",
       "  <tbody>\n",
       "    <tr>\n",
       "      <th>0</th>\n",
       "      <td>Fiza</td>\n",
       "      <td>89</td>\n",
       "    </tr>\n",
       "    <tr>\n",
       "      <th>1</th>\n",
       "      <td>Piyush</td>\n",
       "      <td>78</td>\n",
       "    </tr>\n",
       "    <tr>\n",
       "      <th>2</th>\n",
       "      <td>Niladri</td>\n",
       "      <td>65</td>\n",
       "    </tr>\n",
       "    <tr>\n",
       "      <th>3</th>\n",
       "      <td>Tanmoy</td>\n",
       "      <td>45</td>\n",
       "    </tr>\n",
       "    <tr>\n",
       "      <th>4</th>\n",
       "      <td>Pritvi</td>\n",
       "      <td>55</td>\n",
       "    </tr>\n",
       "  </tbody>\n",
       "</table>\n",
       "</div>"
      ],
      "text/plain": [
       "      Name  Physics\n",
       "0     Fiza       89\n",
       "1   Piyush       78\n",
       "2  Niladri       65\n",
       "3   Tanmoy       45\n",
       "4   Pritvi       55"
      ]
     },
     "execution_count": 55,
     "metadata": {},
     "output_type": "execute_result"
    }
   ],
   "source": [
    "df.iloc[:, [1,2]]"
   ]
  },
  {
   "cell_type": "code",
   "execution_count": 56,
   "id": "e055784b",
   "metadata": {},
   "outputs": [
    {
     "data": {
      "text/html": [
       "<div>\n",
       "<style scoped>\n",
       "    .dataframe tbody tr th:only-of-type {\n",
       "        vertical-align: middle;\n",
       "    }\n",
       "\n",
       "    .dataframe tbody tr th {\n",
       "        vertical-align: top;\n",
       "    }\n",
       "\n",
       "    .dataframe thead th {\n",
       "        text-align: right;\n",
       "    }\n",
       "</style>\n",
       "<table border=\"1\" class=\"dataframe\">\n",
       "  <thead>\n",
       "    <tr style=\"text-align: right;\">\n",
       "      <th></th>\n",
       "      <th>Admission No</th>\n",
       "      <th>Name</th>\n",
       "      <th>Physics</th>\n",
       "    </tr>\n",
       "  </thead>\n",
       "  <tbody>\n",
       "    <tr>\n",
       "      <th>0</th>\n",
       "      <td>101</td>\n",
       "      <td>Fiza</td>\n",
       "      <td>89</td>\n",
       "    </tr>\n",
       "    <tr>\n",
       "      <th>1</th>\n",
       "      <td>102</td>\n",
       "      <td>Piyush</td>\n",
       "      <td>78</td>\n",
       "    </tr>\n",
       "    <tr>\n",
       "      <th>2</th>\n",
       "      <td>103</td>\n",
       "      <td>Niladri</td>\n",
       "      <td>65</td>\n",
       "    </tr>\n",
       "    <tr>\n",
       "      <th>3</th>\n",
       "      <td>104</td>\n",
       "      <td>Tanmoy</td>\n",
       "      <td>45</td>\n",
       "    </tr>\n",
       "    <tr>\n",
       "      <th>4</th>\n",
       "      <td>105</td>\n",
       "      <td>Pritvi</td>\n",
       "      <td>55</td>\n",
       "    </tr>\n",
       "  </tbody>\n",
       "</table>\n",
       "</div>"
      ],
      "text/plain": [
       "   Admission No     Name  Physics\n",
       "0           101     Fiza       89\n",
       "1           102   Piyush       78\n",
       "2           103  Niladri       65\n",
       "3           104   Tanmoy       45\n",
       "4           105   Pritvi       55"
      ]
     },
     "execution_count": 56,
     "metadata": {},
     "output_type": "execute_result"
    }
   ],
   "source": [
    "df.iloc[:, 0:3]"
   ]
  },
  {
   "cell_type": "code",
   "execution_count": 58,
   "id": "e1c3a376",
   "metadata": {},
   "outputs": [
    {
     "data": {
      "text/html": [
       "<div>\n",
       "<style scoped>\n",
       "    .dataframe tbody tr th:only-of-type {\n",
       "        vertical-align: middle;\n",
       "    }\n",
       "\n",
       "    .dataframe tbody tr th {\n",
       "        vertical-align: top;\n",
       "    }\n",
       "\n",
       "    .dataframe thead th {\n",
       "        text-align: right;\n",
       "    }\n",
       "</style>\n",
       "<table border=\"1\" class=\"dataframe\">\n",
       "  <thead>\n",
       "    <tr style=\"text-align: right;\">\n",
       "      <th></th>\n",
       "      <th>Admission No</th>\n",
       "      <th>Name</th>\n",
       "    </tr>\n",
       "  </thead>\n",
       "  <tbody>\n",
       "    <tr>\n",
       "      <th>0</th>\n",
       "      <td>101</td>\n",
       "      <td>Fiza</td>\n",
       "    </tr>\n",
       "    <tr>\n",
       "      <th>1</th>\n",
       "      <td>102</td>\n",
       "      <td>Piyush</td>\n",
       "    </tr>\n",
       "    <tr>\n",
       "      <th>2</th>\n",
       "      <td>103</td>\n",
       "      <td>Niladri</td>\n",
       "    </tr>\n",
       "    <tr>\n",
       "      <th>3</th>\n",
       "      <td>104</td>\n",
       "      <td>Tanmoy</td>\n",
       "    </tr>\n",
       "    <tr>\n",
       "      <th>4</th>\n",
       "      <td>105</td>\n",
       "      <td>Pritvi</td>\n",
       "    </tr>\n",
       "  </tbody>\n",
       "</table>\n",
       "</div>"
      ],
      "text/plain": [
       "   Admission No     Name\n",
       "0           101     Fiza\n",
       "1           102   Piyush\n",
       "2           103  Niladri\n",
       "3           104   Tanmoy\n",
       "4           105   Pritvi"
      ]
     },
     "execution_count": 58,
     "metadata": {},
     "output_type": "execute_result"
    }
   ],
   "source": [
    "df.iloc[:, 0:2]"
   ]
  },
  {
   "cell_type": "code",
   "execution_count": 60,
   "id": "da670a7f",
   "metadata": {},
   "outputs": [
    {
     "data": {
      "text/html": [
       "<div>\n",
       "<style scoped>\n",
       "    .dataframe tbody tr th:only-of-type {\n",
       "        vertical-align: middle;\n",
       "    }\n",
       "\n",
       "    .dataframe tbody tr th {\n",
       "        vertical-align: top;\n",
       "    }\n",
       "\n",
       "    .dataframe thead th {\n",
       "        text-align: right;\n",
       "    }\n",
       "</style>\n",
       "<table border=\"1\" class=\"dataframe\">\n",
       "  <thead>\n",
       "    <tr style=\"text-align: right;\">\n",
       "      <th></th>\n",
       "      <th>Roll No</th>\n",
       "      <th>Name</th>\n",
       "      <th>English</th>\n",
       "      <th>Economics</th>\n",
       "      <th>IP</th>\n",
       "    </tr>\n",
       "  </thead>\n",
       "  <tbody>\n",
       "    <tr>\n",
       "      <th>0</th>\n",
       "      <td>1</td>\n",
       "      <td>Fiza</td>\n",
       "      <td>89</td>\n",
       "      <td>87</td>\n",
       "      <td>89</td>\n",
       "    </tr>\n",
       "    <tr>\n",
       "      <th>1</th>\n",
       "      <td>2</td>\n",
       "      <td>Tanmoy</td>\n",
       "      <td>78</td>\n",
       "      <td>80</td>\n",
       "      <td>78</td>\n",
       "    </tr>\n",
       "    <tr>\n",
       "      <th>2</th>\n",
       "      <td>3</td>\n",
       "      <td>Prithvi</td>\n",
       "      <td>89</td>\n",
       "      <td>60</td>\n",
       "      <td>67</td>\n",
       "    </tr>\n",
       "    <tr>\n",
       "      <th>3</th>\n",
       "      <td>4</td>\n",
       "      <td>Subham</td>\n",
       "      <td>90</td>\n",
       "      <td>84</td>\n",
       "      <td>90</td>\n",
       "    </tr>\n",
       "    <tr>\n",
       "      <th>4</th>\n",
       "      <td>5</td>\n",
       "      <td>Sanjay</td>\n",
       "      <td>79</td>\n",
       "      <td>77</td>\n",
       "      <td>92</td>\n",
       "    </tr>\n",
       "  </tbody>\n",
       "</table>\n",
       "</div>"
      ],
      "text/plain": [
       "   Roll No     Name  English  Economics  IP\n",
       "0        1     Fiza       89         87  89\n",
       "1        2   Tanmoy       78         80  78\n",
       "2        3  Prithvi       89         60  67\n",
       "3        4   Subham       90         84  90\n",
       "4        5   Sanjay       79         77  92"
      ]
     },
     "execution_count": 60,
     "metadata": {},
     "output_type": "execute_result"
    }
   ],
   "source": [
    "# Selecting/Accessing Rows/Columns from a DataFrame\n",
    "import pandas as pd\n",
    "\n",
    "student = {\"Roll No\": [1,2,3,4,5],\n",
    "          \"Name\": ['Fiza', 'Tanmoy', 'Prithvi', 'Subham', 'Sanjay'],\n",
    "          \"English\": [89, 78, 89, 90, 79],\n",
    "          \"Economics\": [87,80,60,84,77],\n",
    "          \"IP\": [89,78,67,90,92]}\n",
    "\n",
    "df = pd.DataFrame(student)\n",
    "df"
   ]
  },
  {
   "cell_type": "code",
   "execution_count": 61,
   "id": "984fe4f6",
   "metadata": {},
   "outputs": [
    {
     "data": {
      "text/html": [
       "<div>\n",
       "<style scoped>\n",
       "    .dataframe tbody tr th:only-of-type {\n",
       "        vertical-align: middle;\n",
       "    }\n",
       "\n",
       "    .dataframe tbody tr th {\n",
       "        vertical-align: top;\n",
       "    }\n",
       "\n",
       "    .dataframe thead th {\n",
       "        text-align: right;\n",
       "    }\n",
       "</style>\n",
       "<table border=\"1\" class=\"dataframe\">\n",
       "  <thead>\n",
       "    <tr style=\"text-align: right;\">\n",
       "      <th></th>\n",
       "      <th>Roll No</th>\n",
       "      <th>Name</th>\n",
       "      <th>English</th>\n",
       "      <th>Economics</th>\n",
       "      <th>IP</th>\n",
       "    </tr>\n",
       "  </thead>\n",
       "  <tbody>\n",
       "    <tr>\n",
       "      <th>0</th>\n",
       "      <td>1</td>\n",
       "      <td>Fiza</td>\n",
       "      <td>89</td>\n",
       "      <td>87</td>\n",
       "      <td>89</td>\n",
       "    </tr>\n",
       "    <tr>\n",
       "      <th>1</th>\n",
       "      <td>2</td>\n",
       "      <td>Tanmoy</td>\n",
       "      <td>78</td>\n",
       "      <td>80</td>\n",
       "      <td>78</td>\n",
       "    </tr>\n",
       "    <tr>\n",
       "      <th>2</th>\n",
       "      <td>3</td>\n",
       "      <td>Prithvi</td>\n",
       "      <td>89</td>\n",
       "      <td>60</td>\n",
       "      <td>67</td>\n",
       "    </tr>\n",
       "  </tbody>\n",
       "</table>\n",
       "</div>"
      ],
      "text/plain": [
       "   Roll No     Name  English  Economics  IP\n",
       "0        1     Fiza       89         87  89\n",
       "1        2   Tanmoy       78         80  78\n",
       "2        3  Prithvi       89         60  67"
      ]
     },
     "execution_count": 61,
     "metadata": {},
     "output_type": "execute_result"
    }
   ],
   "source": [
    "df.iloc[0:3]"
   ]
  },
  {
   "cell_type": "code",
   "execution_count": 62,
   "id": "731d326e",
   "metadata": {},
   "outputs": [
    {
     "data": {
      "text/html": [
       "<div>\n",
       "<style scoped>\n",
       "    .dataframe tbody tr th:only-of-type {\n",
       "        vertical-align: middle;\n",
       "    }\n",
       "\n",
       "    .dataframe tbody tr th {\n",
       "        vertical-align: top;\n",
       "    }\n",
       "\n",
       "    .dataframe thead th {\n",
       "        text-align: right;\n",
       "    }\n",
       "</style>\n",
       "<table border=\"1\" class=\"dataframe\">\n",
       "  <thead>\n",
       "    <tr style=\"text-align: right;\">\n",
       "      <th></th>\n",
       "      <th>Roll No</th>\n",
       "      <th>Name</th>\n",
       "      <th>English</th>\n",
       "    </tr>\n",
       "  </thead>\n",
       "  <tbody>\n",
       "    <tr>\n",
       "      <th>0</th>\n",
       "      <td>1</td>\n",
       "      <td>Fiza</td>\n",
       "      <td>89</td>\n",
       "    </tr>\n",
       "    <tr>\n",
       "      <th>1</th>\n",
       "      <td>2</td>\n",
       "      <td>Tanmoy</td>\n",
       "      <td>78</td>\n",
       "    </tr>\n",
       "    <tr>\n",
       "      <th>2</th>\n",
       "      <td>3</td>\n",
       "      <td>Prithvi</td>\n",
       "      <td>89</td>\n",
       "    </tr>\n",
       "  </tbody>\n",
       "</table>\n",
       "</div>"
      ],
      "text/plain": [
       "   Roll No     Name  English\n",
       "0        1     Fiza       89\n",
       "1        2   Tanmoy       78\n",
       "2        3  Prithvi       89"
      ]
     },
     "execution_count": 62,
     "metadata": {},
     "output_type": "execute_result"
    }
   ],
   "source": [
    "df.iloc[0:3, 0:3]"
   ]
  },
  {
   "cell_type": "code",
   "execution_count": 63,
   "id": "84ab4ba1",
   "metadata": {},
   "outputs": [
    {
     "data": {
      "text/html": [
       "<div>\n",
       "<style scoped>\n",
       "    .dataframe tbody tr th:only-of-type {\n",
       "        vertical-align: middle;\n",
       "    }\n",
       "\n",
       "    .dataframe tbody tr th {\n",
       "        vertical-align: top;\n",
       "    }\n",
       "\n",
       "    .dataframe thead th {\n",
       "        text-align: right;\n",
       "    }\n",
       "</style>\n",
       "<table border=\"1\" class=\"dataframe\">\n",
       "  <thead>\n",
       "    <tr style=\"text-align: right;\">\n",
       "      <th></th>\n",
       "      <th>Roll No</th>\n",
       "      <th>Name</th>\n",
       "      <th>English</th>\n",
       "      <th>Economics</th>\n",
       "      <th>IP</th>\n",
       "    </tr>\n",
       "  </thead>\n",
       "  <tbody>\n",
       "    <tr>\n",
       "      <th>1</th>\n",
       "      <td>2</td>\n",
       "      <td>Tanmoy</td>\n",
       "      <td>78</td>\n",
       "      <td>80</td>\n",
       "      <td>78</td>\n",
       "    </tr>\n",
       "    <tr>\n",
       "      <th>2</th>\n",
       "      <td>3</td>\n",
       "      <td>Prithvi</td>\n",
       "      <td>89</td>\n",
       "      <td>60</td>\n",
       "      <td>67</td>\n",
       "    </tr>\n",
       "    <tr>\n",
       "      <th>3</th>\n",
       "      <td>4</td>\n",
       "      <td>Subham</td>\n",
       "      <td>90</td>\n",
       "      <td>84</td>\n",
       "      <td>90</td>\n",
       "    </tr>\n",
       "  </tbody>\n",
       "</table>\n",
       "</div>"
      ],
      "text/plain": [
       "   Roll No     Name  English  Economics  IP\n",
       "1        2   Tanmoy       78         80  78\n",
       "2        3  Prithvi       89         60  67\n",
       "3        4   Subham       90         84  90"
      ]
     },
     "execution_count": 63,
     "metadata": {},
     "output_type": "execute_result"
    }
   ],
   "source": [
    "df.loc[1:3]"
   ]
  },
  {
   "cell_type": "markdown",
   "id": "ba8b2eb5",
   "metadata": {},
   "source": [
    "## DELETING A COLUMN FROM A DATAFRAME\n",
    "\n",
    "Columns can be deleted from an exisiting dataframe in three ways:\n",
    "\n",
    "1. using **del** keyword, it will delete entire columns and its contents from the dataframe, (in-place)\n",
    "2. using **pop()** method, it will delete the series and also return the series as a result (also in-place)\n",
    "3. using **drop()** method, syntax **drop(labels, axis = 1)**, it will return a new dataframe with the column(s) deleted or removed. By default, the value of axis is 0 (stand for row)"
   ]
  },
  {
   "cell_type": "code",
   "execution_count": 64,
   "id": "b74045e1",
   "metadata": {},
   "outputs": [
    {
     "data": {
      "text/html": [
       "<div>\n",
       "<style scoped>\n",
       "    .dataframe tbody tr th:only-of-type {\n",
       "        vertical-align: middle;\n",
       "    }\n",
       "\n",
       "    .dataframe tbody tr th {\n",
       "        vertical-align: top;\n",
       "    }\n",
       "\n",
       "    .dataframe thead th {\n",
       "        text-align: right;\n",
       "    }\n",
       "</style>\n",
       "<table border=\"1\" class=\"dataframe\">\n",
       "  <thead>\n",
       "    <tr style=\"text-align: right;\">\n",
       "      <th></th>\n",
       "      <th>Roll No</th>\n",
       "      <th>Name</th>\n",
       "      <th>English</th>\n",
       "      <th>Economics</th>\n",
       "      <th>IP</th>\n",
       "    </tr>\n",
       "  </thead>\n",
       "  <tbody>\n",
       "    <tr>\n",
       "      <th>0</th>\n",
       "      <td>1</td>\n",
       "      <td>Fiza</td>\n",
       "      <td>89</td>\n",
       "      <td>87</td>\n",
       "      <td>89</td>\n",
       "    </tr>\n",
       "    <tr>\n",
       "      <th>1</th>\n",
       "      <td>2</td>\n",
       "      <td>Tanmoy</td>\n",
       "      <td>78</td>\n",
       "      <td>80</td>\n",
       "      <td>78</td>\n",
       "    </tr>\n",
       "    <tr>\n",
       "      <th>2</th>\n",
       "      <td>3</td>\n",
       "      <td>Prithvi</td>\n",
       "      <td>89</td>\n",
       "      <td>60</td>\n",
       "      <td>67</td>\n",
       "    </tr>\n",
       "    <tr>\n",
       "      <th>3</th>\n",
       "      <td>4</td>\n",
       "      <td>Subham</td>\n",
       "      <td>90</td>\n",
       "      <td>84</td>\n",
       "      <td>90</td>\n",
       "    </tr>\n",
       "    <tr>\n",
       "      <th>4</th>\n",
       "      <td>5</td>\n",
       "      <td>Sanjay</td>\n",
       "      <td>79</td>\n",
       "      <td>77</td>\n",
       "      <td>92</td>\n",
       "    </tr>\n",
       "  </tbody>\n",
       "</table>\n",
       "</div>"
      ],
      "text/plain": [
       "   Roll No     Name  English  Economics  IP\n",
       "0        1     Fiza       89         87  89\n",
       "1        2   Tanmoy       78         80  78\n",
       "2        3  Prithvi       89         60  67\n",
       "3        4   Subham       90         84  90\n",
       "4        5   Sanjay       79         77  92"
      ]
     },
     "execution_count": 64,
     "metadata": {},
     "output_type": "execute_result"
    }
   ],
   "source": [
    "df"
   ]
  },
  {
   "cell_type": "code",
   "execution_count": 65,
   "id": "ba65b621",
   "metadata": {},
   "outputs": [],
   "source": [
    "del df['English']"
   ]
  },
  {
   "cell_type": "code",
   "execution_count": 66,
   "id": "5f9ea697",
   "metadata": {},
   "outputs": [
    {
     "data": {
      "text/html": [
       "<div>\n",
       "<style scoped>\n",
       "    .dataframe tbody tr th:only-of-type {\n",
       "        vertical-align: middle;\n",
       "    }\n",
       "\n",
       "    .dataframe tbody tr th {\n",
       "        vertical-align: top;\n",
       "    }\n",
       "\n",
       "    .dataframe thead th {\n",
       "        text-align: right;\n",
       "    }\n",
       "</style>\n",
       "<table border=\"1\" class=\"dataframe\">\n",
       "  <thead>\n",
       "    <tr style=\"text-align: right;\">\n",
       "      <th></th>\n",
       "      <th>Roll No</th>\n",
       "      <th>Name</th>\n",
       "      <th>Economics</th>\n",
       "      <th>IP</th>\n",
       "    </tr>\n",
       "  </thead>\n",
       "  <tbody>\n",
       "    <tr>\n",
       "      <th>0</th>\n",
       "      <td>1</td>\n",
       "      <td>Fiza</td>\n",
       "      <td>87</td>\n",
       "      <td>89</td>\n",
       "    </tr>\n",
       "    <tr>\n",
       "      <th>1</th>\n",
       "      <td>2</td>\n",
       "      <td>Tanmoy</td>\n",
       "      <td>80</td>\n",
       "      <td>78</td>\n",
       "    </tr>\n",
       "    <tr>\n",
       "      <th>2</th>\n",
       "      <td>3</td>\n",
       "      <td>Prithvi</td>\n",
       "      <td>60</td>\n",
       "      <td>67</td>\n",
       "    </tr>\n",
       "    <tr>\n",
       "      <th>3</th>\n",
       "      <td>4</td>\n",
       "      <td>Subham</td>\n",
       "      <td>84</td>\n",
       "      <td>90</td>\n",
       "    </tr>\n",
       "    <tr>\n",
       "      <th>4</th>\n",
       "      <td>5</td>\n",
       "      <td>Sanjay</td>\n",
       "      <td>77</td>\n",
       "      <td>92</td>\n",
       "    </tr>\n",
       "  </tbody>\n",
       "</table>\n",
       "</div>"
      ],
      "text/plain": [
       "   Roll No     Name  Economics  IP\n",
       "0        1     Fiza         87  89\n",
       "1        2   Tanmoy         80  78\n",
       "2        3  Prithvi         60  67\n",
       "3        4   Subham         84  90\n",
       "4        5   Sanjay         77  92"
      ]
     },
     "execution_count": 66,
     "metadata": {},
     "output_type": "execute_result"
    }
   ],
   "source": [
    "df"
   ]
  },
  {
   "cell_type": "code",
   "execution_count": 67,
   "id": "9cabf8ed",
   "metadata": {},
   "outputs": [
    {
     "data": {
      "text/plain": [
       "0    89\n",
       "1    78\n",
       "2    67\n",
       "3    90\n",
       "4    92\n",
       "Name: IP, dtype: int64"
      ]
     },
     "execution_count": 67,
     "metadata": {},
     "output_type": "execute_result"
    }
   ],
   "source": [
    "df.pop('IP')"
   ]
  },
  {
   "cell_type": "code",
   "execution_count": 68,
   "id": "e3133d88",
   "metadata": {},
   "outputs": [
    {
     "data": {
      "text/html": [
       "<div>\n",
       "<style scoped>\n",
       "    .dataframe tbody tr th:only-of-type {\n",
       "        vertical-align: middle;\n",
       "    }\n",
       "\n",
       "    .dataframe tbody tr th {\n",
       "        vertical-align: top;\n",
       "    }\n",
       "\n",
       "    .dataframe thead th {\n",
       "        text-align: right;\n",
       "    }\n",
       "</style>\n",
       "<table border=\"1\" class=\"dataframe\">\n",
       "  <thead>\n",
       "    <tr style=\"text-align: right;\">\n",
       "      <th></th>\n",
       "      <th>Roll No</th>\n",
       "      <th>Name</th>\n",
       "      <th>Economics</th>\n",
       "    </tr>\n",
       "  </thead>\n",
       "  <tbody>\n",
       "    <tr>\n",
       "      <th>0</th>\n",
       "      <td>1</td>\n",
       "      <td>Fiza</td>\n",
       "      <td>87</td>\n",
       "    </tr>\n",
       "    <tr>\n",
       "      <th>1</th>\n",
       "      <td>2</td>\n",
       "      <td>Tanmoy</td>\n",
       "      <td>80</td>\n",
       "    </tr>\n",
       "    <tr>\n",
       "      <th>2</th>\n",
       "      <td>3</td>\n",
       "      <td>Prithvi</td>\n",
       "      <td>60</td>\n",
       "    </tr>\n",
       "    <tr>\n",
       "      <th>3</th>\n",
       "      <td>4</td>\n",
       "      <td>Subham</td>\n",
       "      <td>84</td>\n",
       "    </tr>\n",
       "    <tr>\n",
       "      <th>4</th>\n",
       "      <td>5</td>\n",
       "      <td>Sanjay</td>\n",
       "      <td>77</td>\n",
       "    </tr>\n",
       "  </tbody>\n",
       "</table>\n",
       "</div>"
      ],
      "text/plain": [
       "   Roll No     Name  Economics\n",
       "0        1     Fiza         87\n",
       "1        2   Tanmoy         80\n",
       "2        3  Prithvi         60\n",
       "3        4   Subham         84\n",
       "4        5   Sanjay         77"
      ]
     },
     "execution_count": 68,
     "metadata": {},
     "output_type": "execute_result"
    }
   ],
   "source": [
    "df"
   ]
  },
  {
   "cell_type": "code",
   "execution_count": 69,
   "id": "ff08b3a7",
   "metadata": {},
   "outputs": [
    {
     "data": {
      "text/html": [
       "<div>\n",
       "<style scoped>\n",
       "    .dataframe tbody tr th:only-of-type {\n",
       "        vertical-align: middle;\n",
       "    }\n",
       "\n",
       "    .dataframe tbody tr th {\n",
       "        vertical-align: top;\n",
       "    }\n",
       "\n",
       "    .dataframe thead th {\n",
       "        text-align: right;\n",
       "    }\n",
       "</style>\n",
       "<table border=\"1\" class=\"dataframe\">\n",
       "  <thead>\n",
       "    <tr style=\"text-align: right;\">\n",
       "      <th></th>\n",
       "      <th>Name</th>\n",
       "      <th>Economics</th>\n",
       "    </tr>\n",
       "  </thead>\n",
       "  <tbody>\n",
       "    <tr>\n",
       "      <th>0</th>\n",
       "      <td>Fiza</td>\n",
       "      <td>87</td>\n",
       "    </tr>\n",
       "    <tr>\n",
       "      <th>1</th>\n",
       "      <td>Tanmoy</td>\n",
       "      <td>80</td>\n",
       "    </tr>\n",
       "    <tr>\n",
       "      <th>2</th>\n",
       "      <td>Prithvi</td>\n",
       "      <td>60</td>\n",
       "    </tr>\n",
       "    <tr>\n",
       "      <th>3</th>\n",
       "      <td>Subham</td>\n",
       "      <td>84</td>\n",
       "    </tr>\n",
       "    <tr>\n",
       "      <th>4</th>\n",
       "      <td>Sanjay</td>\n",
       "      <td>77</td>\n",
       "    </tr>\n",
       "  </tbody>\n",
       "</table>\n",
       "</div>"
      ],
      "text/plain": [
       "      Name  Economics\n",
       "0     Fiza         87\n",
       "1   Tanmoy         80\n",
       "2  Prithvi         60\n",
       "3   Subham         84\n",
       "4   Sanjay         77"
      ]
     },
     "execution_count": 69,
     "metadata": {},
     "output_type": "execute_result"
    }
   ],
   "source": [
    "df.drop('Roll No', axis = 1)"
   ]
  },
  {
   "cell_type": "markdown",
   "id": "e575b4c6",
   "metadata": {},
   "source": [
    "## ITERATIONS IN DATAFRAME -- ITERROWS\n",
    "\n",
    "Sometimes we need to perform iteration on a complete dataframe, i.e., accessing and retrieving each record one by one in a dataframe.\n",
    "\n",
    "In such cases, it is difficult to wirte a code to access the values separately.\n",
    "\n",
    "Therefore, it is necessary to perform iteration on dataframe which can be done using any of the two nethods:\n",
    "\n",
    "1. **DataFrame.iterrows()**: it represents dataframe row-wise, record by record.\n",
    "2. **DataFrame.iteritems()**: It represents dataframe column-wise"
   ]
  },
  {
   "cell_type": "code",
   "execution_count": 70,
   "id": "2c735b25",
   "metadata": {},
   "outputs": [
    {
     "data": {
      "text/html": [
       "<div>\n",
       "<style scoped>\n",
       "    .dataframe tbody tr th:only-of-type {\n",
       "        vertical-align: middle;\n",
       "    }\n",
       "\n",
       "    .dataframe tbody tr th {\n",
       "        vertical-align: top;\n",
       "    }\n",
       "\n",
       "    .dataframe thead th {\n",
       "        text-align: right;\n",
       "    }\n",
       "</style>\n",
       "<table border=\"1\" class=\"dataframe\">\n",
       "  <thead>\n",
       "    <tr style=\"text-align: right;\">\n",
       "      <th></th>\n",
       "      <th>2015</th>\n",
       "      <th>2016</th>\n",
       "      <th>2017</th>\n",
       "    </tr>\n",
       "  </thead>\n",
       "  <tbody>\n",
       "    <tr>\n",
       "      <th>Qtr1</th>\n",
       "      <td>34500</td>\n",
       "      <td>44500</td>\n",
       "      <td>44500</td>\n",
       "    </tr>\n",
       "    <tr>\n",
       "      <th>Qtr2</th>\n",
       "      <td>45000</td>\n",
       "      <td>65000</td>\n",
       "      <td>65000</td>\n",
       "    </tr>\n",
       "    <tr>\n",
       "      <th>Qtr3</th>\n",
       "      <td>50000</td>\n",
       "      <td>70000</td>\n",
       "      <td>70000</td>\n",
       "    </tr>\n",
       "    <tr>\n",
       "      <th>Qtr4</th>\n",
       "      <td>39000</td>\n",
       "      <td>49000</td>\n",
       "      <td>49000</td>\n",
       "    </tr>\n",
       "  </tbody>\n",
       "</table>\n",
       "</div>"
      ],
      "text/plain": [
       "       2015   2016   2017\n",
       "Qtr1  34500  44500  44500\n",
       "Qtr2  45000  65000  65000\n",
       "Qtr3  50000  70000  70000\n",
       "Qtr4  39000  49000  49000"
      ]
     },
     "execution_count": 70,
     "metadata": {},
     "output_type": "execute_result"
    }
   ],
   "source": [
    "import pandas as pd\n",
    "\n",
    "total_sales = { 2015: {'Qtr1':34500,  'Qtr2': 45000, 'Qtr3': 50000, 'Qtr4':39000},\n",
    "                2016: {'Qtr1':44500,  'Qtr2':65000,  'Qtr3': 70000, 'Qtr4': 49000},\n",
    "                2017: {'Qtr1': 44500, 'Qtr2': 65000, 'Qtr3': 70000, 'Qtr4': 49000} \n",
    "              }\n",
    "\n",
    "df = pd.DataFrame(total_sales)\n",
    "df"
   ]
  },
  {
   "cell_type": "markdown",
   "id": "a8b8eea1",
   "metadata": {},
   "source": [
    "### Using iterrows()"
   ]
  },
  {
   "cell_type": "code",
   "execution_count": 71,
   "id": "d836a854",
   "metadata": {},
   "outputs": [
    {
     "name": "stdout",
     "output_type": "stream",
     "text": [
      "RowIndex :  Qtr1\n",
      "Containing :\n",
      "2015    34500\n",
      "2016    44500\n",
      "2017    44500\n",
      "Name: Qtr1, dtype: int64\n",
      "RowIndex :  Qtr2\n",
      "Containing :\n",
      "2015    45000\n",
      "2016    65000\n",
      "2017    65000\n",
      "Name: Qtr2, dtype: int64\n",
      "RowIndex :  Qtr3\n",
      "Containing :\n",
      "2015    50000\n",
      "2016    70000\n",
      "2017    70000\n",
      "Name: Qtr3, dtype: int64\n",
      "RowIndex :  Qtr4\n",
      "Containing :\n",
      "2015    39000\n",
      "2016    49000\n",
      "2017    49000\n",
      "Name: Qtr4, dtype: int64\n"
     ]
    }
   ],
   "source": [
    "for (row, rowSeries) in df.iterrows():\n",
    "    print(\"RowIndex : \", row)\n",
    "    print(\"Containing :\")\n",
    "    print(rowSeries)"
   ]
  },
  {
   "cell_type": "markdown",
   "id": "f42ca53a",
   "metadata": {},
   "source": [
    "### Using iteritems()"
   ]
  },
  {
   "cell_type": "code",
   "execution_count": 72,
   "id": "0fe0b523",
   "metadata": {},
   "outputs": [
    {
     "name": "stdout",
     "output_type": "stream",
     "text": [
      "Column Index : 2015\n",
      "Containing : \n",
      "Qtr1    34500\n",
      "Qtr2    45000\n",
      "Qtr3    50000\n",
      "Qtr4    39000\n",
      "Name: 2015, dtype: int64\n",
      "Column Index : 2016\n",
      "Containing : \n",
      "Qtr1    44500\n",
      "Qtr2    65000\n",
      "Qtr3    70000\n",
      "Qtr4    49000\n",
      "Name: 2016, dtype: int64\n",
      "Column Index : 2017\n",
      "Containing : \n",
      "Qtr1    44500\n",
      "Qtr2    65000\n",
      "Qtr3    70000\n",
      "Qtr4    49000\n",
      "Name: 2017, dtype: int64\n"
     ]
    }
   ],
   "source": [
    "for (col, colSeries) in df.iteritems():\n",
    "    print(\"Column Index :\", col)\n",
    "    print(\"Containing : \")\n",
    "    print(colSeries)"
   ]
  },
  {
   "cell_type": "markdown",
   "id": "b96e7a84",
   "metadata": {},
   "source": [
    "## BINARY OPERATIONS"
   ]
  },
  {
   "cell_type": "code",
   "execution_count": 75,
   "id": "0cae79ab",
   "metadata": {},
   "outputs": [
    {
     "name": "stdout",
     "output_type": "stream",
     "text": [
      "   Unit Test-1  Unit Test-2\n",
      "0            5            7\n",
      "1            6            8\n",
      "2            8            9\n",
      "3            3            6\n",
      "4           10           15\n",
      "   Unit Test-1  Unit Test-2\n",
      "0            3            5\n",
      "1            3            9\n",
      "2            6            8\n",
      "3            6           10\n",
      "4            8            5\n",
      "====================\n",
      "SUBTRACTION\n",
      "====================\n",
      "   Unit Test-1  Unit Test-2\n",
      "0            2            2\n",
      "1            3           -1\n",
      "2            2            1\n",
      "3           -3           -4\n",
      "4            2           10\n",
      "====================\n",
      "rsub\n",
      "====================\n",
      "   Unit Test-1  Unit Test-2\n",
      "0           -2           -2\n",
      "1           -3            1\n",
      "2           -2           -1\n",
      "3            3            4\n",
      "4           -2          -10\n",
      "====================\n",
      "ADDITION\n",
      "====================\n",
      "   Unit Test-1  Unit Test-2\n",
      "0            8           12\n",
      "1            9           17\n",
      "2           14           17\n",
      "3            9           16\n",
      "4           18           20\n",
      "====================\n",
      "radd\n",
      "====================\n",
      "   Unit Test-1  Unit Test-2\n",
      "0            8           12\n",
      "1            9           17\n",
      "2           14           17\n",
      "3            9           16\n",
      "4           18           20\n",
      "====================\n",
      "Multiplication\n",
      "====================\n",
      "   Unit Test-1  Unit Test-2\n",
      "0           15           35\n",
      "1           18           72\n",
      "2           48           72\n",
      "3           18           60\n",
      "4           80           75\n",
      "====================\n",
      "Division\n",
      "====================\n",
      "   Unit Test-1  Unit Test-2\n",
      "0     1.666667     1.400000\n",
      "1     2.000000     0.888889\n",
      "2     1.333333     1.125000\n",
      "3     0.500000     0.600000\n",
      "4     1.250000     3.000000\n"
     ]
    }
   ],
   "source": [
    "import pandas as pd\n",
    "\n",
    "student = {'Unit Test-1': [5,6,8,3,10], 'Unit Test-2': [7,8,9,6,15]}\n",
    "student1 = {'Unit Test-1': [3,3,6,6,8], 'Unit Test-2': [5,9,8,10,5]}\n",
    "\n",
    "ds = pd.DataFrame(student)\n",
    "ds1 = pd.DataFrame(student1)\n",
    "\n",
    "print(ds)\n",
    "print(ds1)\n",
    "print(\"====================\")\n",
    "print(\"SUBTRACTION\")\n",
    "print(\"====================\")\n",
    "print(ds.sub(ds1))\n",
    "print(\"====================\")\n",
    "print(\"rsub\")\n",
    "print(\"====================\")\n",
    "print(ds.rsub(ds1))\n",
    "print(\"====================\")\n",
    "print(\"ADDITION\")\n",
    "print(\"====================\")\n",
    "print(ds.add(ds1))\n",
    "print(\"====================\")\n",
    "print(\"radd\")\n",
    "print(\"====================\")\n",
    "print(ds.radd(ds1))\n",
    "print(\"====================\")\n",
    "print(\"Multiplication\")\n",
    "print(\"====================\")\n",
    "print(ds.mul(ds1))\n",
    "print(\"====================\")\n",
    "print(\"Division\")\n",
    "print(\"====================\")\n",
    "print(ds.div(ds1))"
   ]
  },
  {
   "cell_type": "markdown",
   "id": "9b7a9038",
   "metadata": {},
   "source": [
    "## MATCHING AND BROADCASTING OPERATION"
   ]
  },
  {
   "cell_type": "code",
   "execution_count": 77,
   "id": "4e2b5006",
   "metadata": {},
   "outputs": [],
   "source": [
    "import pandas as pd\n",
    "\n",
    "a = [2,5,6,7,8]\n",
    "b = [5,8,9,4,10]\n",
    "\n",
    "df1 = pd.DataFrame(a)\n",
    "df2 = pd.DataFrame(b)"
   ]
  },
  {
   "cell_type": "code",
   "execution_count": 78,
   "id": "332b78bb",
   "metadata": {},
   "outputs": [
    {
     "data": {
      "text/html": [
       "<div>\n",
       "<style scoped>\n",
       "    .dataframe tbody tr th:only-of-type {\n",
       "        vertical-align: middle;\n",
       "    }\n",
       "\n",
       "    .dataframe tbody tr th {\n",
       "        vertical-align: top;\n",
       "    }\n",
       "\n",
       "    .dataframe thead th {\n",
       "        text-align: right;\n",
       "    }\n",
       "</style>\n",
       "<table border=\"1\" class=\"dataframe\">\n",
       "  <thead>\n",
       "    <tr style=\"text-align: right;\">\n",
       "      <th></th>\n",
       "      <th>0</th>\n",
       "    </tr>\n",
       "  </thead>\n",
       "  <tbody>\n",
       "    <tr>\n",
       "      <th>0</th>\n",
       "      <td>2</td>\n",
       "    </tr>\n",
       "    <tr>\n",
       "      <th>1</th>\n",
       "      <td>5</td>\n",
       "    </tr>\n",
       "    <tr>\n",
       "      <th>2</th>\n",
       "      <td>6</td>\n",
       "    </tr>\n",
       "    <tr>\n",
       "      <th>3</th>\n",
       "      <td>7</td>\n",
       "    </tr>\n",
       "    <tr>\n",
       "      <th>4</th>\n",
       "      <td>8</td>\n",
       "    </tr>\n",
       "  </tbody>\n",
       "</table>\n",
       "</div>"
      ],
      "text/plain": [
       "   0\n",
       "0  2\n",
       "1  5\n",
       "2  6\n",
       "3  7\n",
       "4  8"
      ]
     },
     "execution_count": 78,
     "metadata": {},
     "output_type": "execute_result"
    }
   ],
   "source": [
    "df1"
   ]
  },
  {
   "cell_type": "code",
   "execution_count": 80,
   "id": "76461ca5",
   "metadata": {},
   "outputs": [
    {
     "data": {
      "text/html": [
       "<div>\n",
       "<style scoped>\n",
       "    .dataframe tbody tr th:only-of-type {\n",
       "        vertical-align: middle;\n",
       "    }\n",
       "\n",
       "    .dataframe tbody tr th {\n",
       "        vertical-align: top;\n",
       "    }\n",
       "\n",
       "    .dataframe thead th {\n",
       "        text-align: right;\n",
       "    }\n",
       "</style>\n",
       "<table border=\"1\" class=\"dataframe\">\n",
       "  <thead>\n",
       "    <tr style=\"text-align: right;\">\n",
       "      <th></th>\n",
       "      <th>0</th>\n",
       "    </tr>\n",
       "  </thead>\n",
       "  <tbody>\n",
       "    <tr>\n",
       "      <th>0</th>\n",
       "      <td>52</td>\n",
       "    </tr>\n",
       "    <tr>\n",
       "      <th>1</th>\n",
       "      <td>55</td>\n",
       "    </tr>\n",
       "    <tr>\n",
       "      <th>2</th>\n",
       "      <td>56</td>\n",
       "    </tr>\n",
       "    <tr>\n",
       "      <th>3</th>\n",
       "      <td>57</td>\n",
       "    </tr>\n",
       "    <tr>\n",
       "      <th>4</th>\n",
       "      <td>58</td>\n",
       "    </tr>\n",
       "  </tbody>\n",
       "</table>\n",
       "</div>"
      ],
      "text/plain": [
       "    0\n",
       "0  52\n",
       "1  55\n",
       "2  56\n",
       "3  57\n",
       "4  58"
      ]
     },
     "execution_count": 80,
     "metadata": {},
     "output_type": "execute_result"
    }
   ],
   "source": [
    "df1 + 50"
   ]
  },
  {
   "cell_type": "code",
   "execution_count": null,
   "id": "05bf44a9",
   "metadata": {},
   "outputs": [],
   "source": []
  }
 ],
 "metadata": {
  "kernelspec": {
   "display_name": "Python 3 (ipykernel)",
   "language": "python",
   "name": "python3"
  },
  "language_info": {
   "codemirror_mode": {
    "name": "ipython",
    "version": 3
   },
   "file_extension": ".py",
   "mimetype": "text/x-python",
   "name": "python",
   "nbconvert_exporter": "python",
   "pygments_lexer": "ipython3",
   "version": "3.10.4"
  }
 },
 "nbformat": 4,
 "nbformat_minor": 5
}
