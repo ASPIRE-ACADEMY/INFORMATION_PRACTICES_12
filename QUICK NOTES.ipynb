{
 "cells": [
  {
   "cell_type": "markdown",
   "id": "3e9ea059",
   "metadata": {},
   "source": [
    "## DATA SCIENCE"
   ]
  },
  {
   "cell_type": "markdown",
   "id": "24b13042",
   "metadata": {},
   "source": [
    "![DS](assets/03.jpeg)"
   ]
  },
  {
   "cell_type": "markdown",
   "id": "5f2af86c",
   "metadata": {},
   "source": [
    "## DATA LIFE CYCLE"
   ]
  },
  {
   "cell_type": "markdown",
   "id": "b47ea6ff",
   "metadata": {},
   "source": [
    "![DLC](assets/DLC01.jpeg)"
   ]
  },
  {
   "cell_type": "markdown",
   "id": "6cf709e1",
   "metadata": {},
   "source": [
    "## ADVANTAGE OF PANDAS LIBRARY"
   ]
  },
  {
   "cell_type": "markdown",
   "id": "c5fdd80e",
   "metadata": {},
   "source": [
    "![Pandas](assets/01.jpeg)"
   ]
  },
  {
   "cell_type": "markdown",
   "id": "141b7ad5",
   "metadata": {},
   "source": [
    "## IMPORTANT POINTS ON PANDAS LIBRARY"
   ]
  },
  {
   "cell_type": "markdown",
   "id": "49585830",
   "metadata": {},
   "source": [
    "![P2](assets/02.jpeg)"
   ]
  },
  {
   "cell_type": "markdown",
   "id": "d1a78bf0",
   "metadata": {},
   "source": [
    "## DIFFERENCE BETWEEN SERIES AND DATAFRAME"
   ]
  },
  {
   "cell_type": "markdown",
   "id": "d9f16531",
   "metadata": {},
   "source": [
    "![PDSD](assets/04.jpeg)"
   ]
  },
  {
   "cell_type": "markdown",
   "id": "44ded338",
   "metadata": {},
   "source": [
    "## SERIES CREATION USING DIFFERENT DATA"
   ]
  },
  {
   "cell_type": "markdown",
   "id": "97988382",
   "metadata": {},
   "source": [
    "![SERIES](assets/SERIES02.jpeg)"
   ]
  },
  {
   "cell_type": "markdown",
   "id": "94a6adb9",
   "metadata": {},
   "source": [
    "## SERIES OBJECT ATTRIBUTES"
   ]
  },
  {
   "cell_type": "markdown",
   "id": "cc20c956",
   "metadata": {},
   "source": [
    "![SERIESOBJECT](assets/SERIESOBJECT03.jpeg)"
   ]
  },
  {
   "cell_type": "markdown",
   "id": "6becd70d",
   "metadata": {},
   "source": [
    "### MATHEMATICAL OPERATION ON SERIES\n",
    "\n",
    "![MATH](assets/MATHSOPS04.jpeg)"
   ]
  },
  {
   "cell_type": "markdown",
   "id": "b044fd8d",
   "metadata": {},
   "source": [
    "## VECTOR OPERATIONS ON SERIES"
   ]
  },
  {
   "cell_type": "markdown",
   "id": "adb39bea",
   "metadata": {},
   "source": [
    "![MATH](assets/VECTOPS05.jpeg)"
   ]
  },
  {
   "cell_type": "markdown",
   "id": "0469d0cd",
   "metadata": {},
   "source": [
    "## THE END"
   ]
  }
 ],
 "metadata": {
  "kernelspec": {
   "display_name": "Python 3 (ipykernel)",
   "language": "python",
   "name": "python3"
  },
  "language_info": {
   "codemirror_mode": {
    "name": "ipython",
    "version": 3
   },
   "file_extension": ".py",
   "mimetype": "text/x-python",
   "name": "python",
   "nbconvert_exporter": "python",
   "pygments_lexer": "ipython3",
   "version": "3.10.4"
  }
 },
 "nbformat": 4,
 "nbformat_minor": 5
}
