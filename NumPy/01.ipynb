{
 "cells": [
  {
   "cell_type": "markdown",
   "metadata": {},
   "source": [
    "# Agenda\n",
    "\n",
    "1. Numpy\n",
    "2. Array\n",
    "3. Working with NumPy\n",
    "4. Difference between NumPy and Array\n",
    "5. NumPy Array\n",
    "6. How to Create NumPy Array\n",
    "7. Operation on NumPy: Slicing\n",
    "8. Join in an Array"
   ]
  },
  {
   "cell_type": "markdown",
   "metadata": {},
   "source": [
    "# NumPy\n",
    "\n",
    "\n",
    "+ An acronym for **\"Numerical Python\"**\n",
    "+ Python library for scientific computing application\n",
    "+ fast mathematical computation on array and matrices\n",
    "+ ndarray (n-dimensional array) objects\n",
    "+ [Numpy Reference](https://s3.amazonaws.com/assets.datacamp.com/blog_assets/Numpy_Python_Cheat_Sheet.pdf)"
   ]
  },
  {
   "cell_type": "markdown",
   "metadata": {},
   "source": [
    "## Array\n",
    "\n",
    "+ Container that hold fixed number of items\n",
    "+ Items have same data type\n",
    "+ Contiguous (one after the other) location holding the elements"
   ]
  },
  {
   "cell_type": "markdown",
   "metadata": {},
   "source": [
    "### An array consists of:\n",
    "\n",
    "+ **Element**: Each item stored in an array is called an element.\n",
    "\n",
    "+ **Index**: Each location of an element in an array has a numerical index, which is used to identify the element.\n",
    "\n",
    "#### Array Representation\n",
    "\n",
    "![array](https://media.geeksforgeeks.org/wp-content/uploads/C-Arrays.jpg)"
   ]
  },
  {
   "cell_type": "markdown",
   "metadata": {},
   "source": [
    "### Anatomy of an Array\n",
    "\n",
    "![a-array](https://i.imgur.com/mg8O3kd.png)\n",
    "\n",
    "\n",
    "### Terms\n",
    "\n",
    "1. **Axes**:  ***axis = 0*** ( row-wise) and ***axis = 1*** (column-wise)\n",
    "2. **Rank**: Number of axes it possesses.\n",
    "\n",
    "> **Rank = Number of axes**\n",
    "\n",
    "3. **Shape**: Number of elements it contains along each of its axis."
   ]
  },
  {
   "cell_type": "markdown",
   "metadata": {},
   "source": [
    "###### Array Representation in a language (C++)\n",
    "\n",
    "Arrays can be declared in various ways in different languages. Given below is an illustration:\n",
    "\n",
    "![array-1](https://www.tutorialspoint.com/data_structures_algorithms/images/array_declaration.jpg)  \n",
    "\n",
    "![array-2](https://www.tutorialspoint.com/data_structures_algorithms/images/array_representation.jpg)\n"
   ]
  },
  {
   "cell_type": "markdown",
   "metadata": {},
   "source": [
    "<hr>"
   ]
  },
  {
   "cell_type": "markdown",
   "metadata": {},
   "source": [
    "## Working with NumPy\n",
    "\n",
    "1. Install the numpy on your PC\n",
    "\n",
    "```python\n",
    "pip install numpy\n",
    "```\n",
    "2. Import Numpy\n",
    "\n",
    "```python\n",
    "import numpy as np\n",
    "```\n",
    "3. Now, you are ready to use NumPy"
   ]
  },
  {
   "cell_type": "markdown",
   "metadata": {},
   "source": [
    "### Numpy Arrays\n",
    "\n",
    "1. **One-dimesional (1D) Array**: An array of dimension one is called one-dimesional array. It is also known as **Vector**.\n",
    "\n",
    "![1D](https://miro.medium.com/max/3000/1*qlRqv3c89DK7lw6pihnPhw.jpeg)\n",
    "\n",
    "2. **Multidimensional arrays or ndarrays**: An array of n-dimension is called ndarray. It is also known as **Matrices**\n",
    "\n",
    "![ND](https://media.geeksforgeeks.org/wp-content/uploads/two-d.png)"
   ]
  },
  {
   "cell_type": "markdown",
   "metadata": {},
   "source": [
    "### Difference between NumPy Array and List\n",
    "\n",
    "| NumPy Array                                                     | List                                                            |\n",
    "| --------------------------------------------------------------- | --------------------------------------------------------------- |\n",
    "| NumPy array works on homogeneous (same) types.                  | Python lists are made up of heterogeneous (different) types     |\n",
    "| NumPy array does not support addition and removal of elements   | Python lists supports adding and removal of elements            |\n",
    "| Can't contain elements of different types                       | Can contain elements of different types                         |\n",
    "| Less memory consumption                                         | More memory consumption                                         |\n",
    "| Faster runtime execution                                        | Runtime execution is comparatively slower than arrays           |"
   ]
  },
  {
   "cell_type": "markdown",
   "metadata": {},
   "source": [
    "<hr>"
   ]
  },
  {
   "cell_type": "markdown",
   "metadata": {},
   "source": [
    "## How to CREATE A NumPy ARRAY\n",
    "\n",
    "\n",
    "There are several ways of creating a NumPy array.\n",
    "\n",
    "+  **np.array()**: To create 1D/2D NumPy array\n",
    "+  **np.fromstring()**: To create 1D array from string\n",
    "3. **np.empty()**: An empty array or uninitialized array\n",
    "4. **np.zeros()**: New array with all elements as zeroes\n",
    "5. **np.ones()**: New array with all ones as its elements\n",
    "6. **np.arange()**: Used to create array from a range\n",
    "7. **np.linspace()**: To create array of range\n",
    "8. **np.copy()**: Used to create a copy of an existing array\n",
    "9. **np.reshape()**: We can create 2D array from 1D array\n",
    "10. **np.eye() or np.identity()**: All diagonals value will be one"
   ]
  },
  {
   "cell_type": "markdown",
   "metadata": {},
   "source": [
    "### array()"
   ]
  },
  {
   "cell_type": "code",
   "execution_count": 4,
   "metadata": {},
   "outputs": [
    {
     "name": "stdout",
     "output_type": "stream",
     "text": [
      "[2 3 4 5 6]\n"
     ]
    }
   ],
   "source": [
    "#To create a one-dimensional array\n",
    "\n",
    "import numpy as np\n",
    "\n",
    "l1 = [2,3,4,5,6]\n",
    "arr1 = np.array(l1)\n",
    "\n",
    "print(arr1)"
   ]
  },
  {
   "cell_type": "code",
   "execution_count": 5,
   "metadata": {},
   "outputs": [
    {
     "name": "stdout",
     "output_type": "stream",
     "text": [
      "[[ 1  2  3  4]\n",
      " [ 5  6  7  8]\n",
      " [ 9 10 11 12]]\n"
     ]
    }
   ],
   "source": [
    "#To create a two-dimesional array\n",
    "import numpy as np\n",
    "\n",
    "A = np.array([[1,2,3,4], [5,6,7,8], [9,10,11,12]])\n",
    "print(A)"
   ]
  },
  {
   "cell_type": "markdown",
   "metadata": {},
   "source": [
    "### fromstring()"
   ]
  },
  {
   "cell_type": "code",
   "execution_count": 6,
   "metadata": {},
   "outputs": [
    {
     "name": "stdout",
     "output_type": "stream",
     "text": [
      "[ 1  2  3  4 10 12 13]\n"
     ]
    }
   ],
   "source": [
    "import numpy as np\n",
    "\n",
    "data = np.fromstring('1 2 3 4 10 12 13', dtype = int, sep = \" \")\n",
    "print(data)"
   ]
  },
  {
   "cell_type": "markdown",
   "metadata": {},
   "source": [
    "### empty()"
   ]
  },
  {
   "cell_type": "code",
   "execution_count": 16,
   "metadata": {},
   "outputs": [
    {
     "name": "stdout",
     "output_type": "stream",
     "text": [
      "[[0 0]\n",
      " [0 0]\n",
      " [0 0]]\n"
     ]
    }
   ],
   "source": [
    "import numpy as np\n",
    "\n",
    "arr = np.empty( [3,2], dtype = int, order = 'F')  # default order: C\n",
    "print(arr)"
   ]
  },
  {
   "cell_type": "markdown",
   "metadata": {},
   "source": [
    "### zeros()"
   ]
  },
  {
   "cell_type": "code",
   "execution_count": 15,
   "metadata": {},
   "outputs": [
    {
     "name": "stdout",
     "output_type": "stream",
     "text": [
      "[0. 0. 0. 0. 0.]\n"
     ]
    }
   ],
   "source": [
    "# array of five zeros. Default type is float\n",
    "\n",
    "import numpy as np\n",
    "\n",
    "arr1 = np.zeros(5)\n",
    "print(arr1)"
   ]
  },
  {
   "cell_type": "markdown",
   "metadata": {},
   "source": [
    "### ones()"
   ]
  },
  {
   "cell_type": "code",
   "execution_count": 17,
   "metadata": {},
   "outputs": [
    {
     "name": "stdout",
     "output_type": "stream",
     "text": [
      "[1. 1. 1. 1. 1.]\n"
     ]
    }
   ],
   "source": [
    "# array of five ones. Default dtype is float\n",
    "\n",
    "import numpy as np\n",
    "\n",
    "arr1 = np.ones(5)\n",
    "print(arr1)"
   ]
  },
  {
   "cell_type": "markdown",
   "metadata": {},
   "source": [
    "### arange()\n",
    "\n",
    "![Image](https://miro.medium.com/max/679/1*16lfH-A_kiDmyxe1Sm2dQA.png)"
   ]
  },
  {
   "cell_type": "code",
   "execution_count": 32,
   "metadata": {},
   "outputs": [
    {
     "name": "stdout",
     "output_type": "stream",
     "text": [
      "[ 1  2  3  4  5  6  7  8  9 10 11 12]\n"
     ]
    }
   ],
   "source": [
    "import numpy as np\n",
    "\n",
    "a1 = np.arange(1,13)\n",
    "print(a1)"
   ]
  },
  {
   "cell_type": "markdown",
   "metadata": {},
   "source": [
    "### linspace()"
   ]
  },
  {
   "cell_type": "code",
   "execution_count": 1,
   "metadata": {},
   "outputs": [
    {
     "name": "stdout",
     "output_type": "stream",
     "text": [
      "[ 1.  2.  3.  4.  5.  6.  7.  8.  9. 10.]\n"
     ]
    }
   ],
   "source": [
    "import numpy as np\n",
    "\n",
    "line = np.linspace(1,10,10)\n",
    "print(line)"
   ]
  },
  {
   "cell_type": "markdown",
   "metadata": {},
   "source": [
    "### copy()"
   ]
  },
  {
   "cell_type": "code",
   "execution_count": 21,
   "metadata": {},
   "outputs": [
    {
     "name": "stdout",
     "output_type": "stream",
     "text": [
      "[10  2  3]\n",
      "[10  2  3]\n",
      "[1 2 3]\n"
     ]
    }
   ],
   "source": [
    "import numpy as np\n",
    "x = np.array([1,2,3])\n",
    "y = x\n",
    "z = np.copy(x)\n",
    "x[0] = 10\n",
    "\n",
    "print(x)\n",
    "print(y)\n",
    "print(z)"
   ]
  },
  {
   "cell_type": "markdown",
   "metadata": {},
   "source": [
    "### reshape()\n",
    "\n",
    "Reshaping means changing the arrangement of items so that the shape of the array changes while maintaining the same number of dimensions.\n",
    "\n",
    "1D\n",
    "![Image](https://miro.medium.com/max/679/1*16lfH-A_kiDmyxe1Sm2dQA.png)\n",
    "\n",
    "Reshaped into (2D)\n",
    "![reshape](https://miro.medium.com/max/251/1*b0Eh1M1w4d9gKIhN8Fdjcg.png)"
   ]
  },
  {
   "cell_type": "code",
   "execution_count": 38,
   "metadata": {},
   "outputs": [
    {
     "name": "stdout",
     "output_type": "stream",
     "text": [
      "1D: array\n",
      " [ 1  2  3  4  5  6  7  8  9 10 11 12]\n",
      "\n",
      "After Reshaped (2D): \n",
      " [[ 1  2  3  4]\n",
      " [ 5  6  7  8]\n",
      " [ 9 10 11 12]]\n"
     ]
    }
   ],
   "source": [
    "import numpy as np\n",
    "\n",
    "a1 = np.arange(1,13)\n",
    "reshape = a1.reshape(3,4)\n",
    "\n",
    "print(\"1D: array\\n\", a1)\n",
    "print(\"\\nAfter Reshaped (2D): \\n\", reshape)"
   ]
  },
  {
   "cell_type": "code",
   "execution_count": 40,
   "metadata": {},
   "outputs": [
    {
     "data": {
      "text/plain": [
       "array([[ 1,  4,  7, 10],\n",
       "       [ 2,  5,  8, 11],\n",
       "       [ 3,  6,  9, 12]])"
      ]
     },
     "execution_count": 40,
     "metadata": {},
     "output_type": "execute_result"
    }
   ],
   "source": [
    "reshape = a1.reshape(3,4, order = 'F')\n",
    "reshape"
   ]
  },
  {
   "cell_type": "code",
   "execution_count": 23,
   "metadata": {},
   "outputs": [
    {
     "name": "stdout",
     "output_type": "stream",
     "text": [
      "[1 2 3 4 5 6]\n",
      "-------------\n",
      "[[1 2 3]\n",
      " [4 5 6]]\n"
     ]
    }
   ],
   "source": [
    "# Creating of 2D array from 1D array using reshape() function\n",
    "\n",
    "import numpy as np\n",
    "\n",
    "A = np.array([1,2,3,4,5,6])\n",
    "print(A)\n",
    "\n",
    "print(\"-------------\")\n",
    "\n",
    "B = np.reshape(A, (2,3)) #reshape shall convert 1D array into 2D array with 2 rows and 3 columns\n",
    "print(B)"
   ]
  },
  {
   "cell_type": "markdown",
   "metadata": {},
   "source": [
    "### eye() / identity()"
   ]
  },
  {
   "cell_type": "code",
   "execution_count": 29,
   "metadata": {},
   "outputs": [
    {
     "name": "stdout",
     "output_type": "stream",
     "text": [
      "\n",
      "Matrix 1: \n",
      " [[1. 0. 0. 0.]\n",
      " [0. 1. 0. 0.]\n",
      " [0. 0. 1. 0.]\n",
      " [0. 0. 0. 1.]]\n"
     ]
    }
   ],
   "source": [
    "# create a 4x4 identity matrix using the eye method\n",
    "import numpy as np\n",
    "\n",
    "# 4x4 matrix wil 1's as all diagonal elements\n",
    "mat1 = np.identity(4)\n",
    "print(\"\\nMatrix 1: \\n\", mat1)"
   ]
  },
  {
   "cell_type": "code",
   "execution_count": 15,
   "metadata": {},
   "outputs": [
    {
     "name": "stdout",
     "output_type": "stream",
     "text": [
      "\n",
      "Matrix 2: \n",
      " [[1. 0. 0. 0.]\n",
      " [0. 1. 0. 0.]\n",
      " [0. 0. 1. 0.]\n",
      " [0. 0. 0. 1.]]\n"
     ]
    }
   ],
   "source": [
    "#Alternatively\n",
    "\n",
    "mat2 = np.eye(4, dtype = float)\n",
    "print(\"\\nMatrix 2: \\n\", mat2)"
   ]
  },
  {
   "cell_type": "markdown",
   "metadata": {},
   "source": [
    "<hr>"
   ]
  },
  {
   "cell_type": "markdown",
   "metadata": {},
   "source": [
    "## Operations ON NumPy \n",
    "\n",
    "#### Array Slicing\n",
    "\n",
    "+ Slicing means sub-sequence of the structure can be indexed and retrieved.\n",
    "+ Slicing is specified by using the colon operator `:` with a `from` and `to`.\n",
    "+ **data[from:to]**\n",
    "\n",
    "### Slicing in 1D Array"
   ]
  },
  {
   "cell_type": "code",
   "execution_count": 41,
   "metadata": {},
   "outputs": [
    {
     "name": "stdout",
     "output_type": "stream",
     "text": [
      "[5 2 7 3 9]\n"
     ]
    }
   ],
   "source": [
    "# Slicing in 1D array\n",
    "\n",
    "import numpy as np\n",
    "data = np.array([5,2,7,3,9])\n",
    "\n",
    "print(data[:])   #Shall extract slice from start to end"
   ]
  },
  {
   "cell_type": "code",
   "execution_count": 46,
   "metadata": {},
   "outputs": [
    {
     "name": "stdout",
     "output_type": "stream",
     "text": [
      "[2 7]\n"
     ]
    }
   ],
   "source": [
    "print(data[1:3])  #Shall extract slice from 1st position to 4th, excluding the 4th position"
   ]
  },
  {
   "cell_type": "code",
   "execution_count": 47,
   "metadata": {},
   "outputs": [
    {
     "name": "stdout",
     "output_type": "stream",
     "text": [
      "[5 2]\n"
     ]
    }
   ],
   "source": [
    "print(data[:2])"
   ]
  },
  {
   "cell_type": "code",
   "execution_count": 48,
   "metadata": {},
   "outputs": [
    {
     "name": "stdout",
     "output_type": "stream",
     "text": [
      "[3 9]\n"
     ]
    }
   ],
   "source": [
    "print(data[-2:])"
   ]
  },
  {
   "cell_type": "markdown",
   "metadata": {},
   "source": [
    "### Slicing in 2D array\n",
    "\n",
    "![slice-2d](https://learning.oreilly.com/api/v2/epubs/urn:orm:book:9781449323592/files/httpatomoreillycomsourceoreillyimages2172114.png)"
   ]
  },
  {
   "cell_type": "code",
   "execution_count": 52,
   "metadata": {},
   "outputs": [
    {
     "name": "stdout",
     "output_type": "stream",
     "text": [
      "[[1 2 3]\n",
      " [4 5 6]\n",
      " [7 8 9]]\n"
     ]
    }
   ],
   "source": [
    "# Slicing in 2D array\n",
    "\n",
    "import numpy as np\n",
    "arr = np.array([[1,2,3], [4,5,6], [7,8,9]])\n",
    "print(arr)"
   ]
  },
  {
   "cell_type": "code",
   "execution_count": 53,
   "metadata": {},
   "outputs": [
    {
     "name": "stdout",
     "output_type": "stream",
     "text": [
      "[[2 3]\n",
      " [5 6]]\n"
     ]
    }
   ],
   "source": [
    "print(arr[:2, 1:])"
   ]
  },
  {
   "cell_type": "code",
   "execution_count": 55,
   "metadata": {},
   "outputs": [
    {
     "name": "stdout",
     "output_type": "stream",
     "text": [
      "[7 8 9]\n",
      "[7 8 9]\n",
      "[[7 8 9]]\n"
     ]
    }
   ],
   "source": [
    "print(arr[2])\n",
    "print(arr[2, :])\n",
    "print(arr[2:, :])"
   ]
  },
  {
   "cell_type": "code",
   "execution_count": 56,
   "metadata": {},
   "outputs": [
    {
     "name": "stdout",
     "output_type": "stream",
     "text": [
      "[[1 2]\n",
      " [4 5]\n",
      " [7 8]]\n"
     ]
    }
   ],
   "source": [
    "print(arr[:, :2])"
   ]
  },
  {
   "cell_type": "code",
   "execution_count": 57,
   "metadata": {},
   "outputs": [
    {
     "name": "stdout",
     "output_type": "stream",
     "text": [
      "[4 5]\n",
      "[[4 5]]\n"
     ]
    }
   ],
   "source": [
    "print(arr[1, :2])\n",
    "print(arr[1:2, :2])"
   ]
  },
  {
   "cell_type": "code",
   "execution_count": 60,
   "metadata": {},
   "outputs": [
    {
     "name": "stdout",
     "output_type": "stream",
     "text": [
      "[[ 1  2  3  4]\n",
      " [ 5  6  7  8]\n",
      " [ 9 10 11 12]]\n"
     ]
    }
   ],
   "source": [
    "# Another example of Slicing\n",
    "\n",
    "import numpy as np\n",
    "\n",
    "a = np.array([[1,2,3,4],[5,6,7,8], [9,10,11,12]])\n",
    "print(a)"
   ]
  },
  {
   "cell_type": "code",
   "execution_count": 61,
   "metadata": {},
   "outputs": [
    {
     "name": "stdout",
     "output_type": "stream",
     "text": [
      "[[5 6 7 8]]\n"
     ]
    }
   ],
   "source": [
    "b = a[1:2, 0:4]\n",
    "print(b)"
   ]
  },
  {
   "cell_type": "code",
   "execution_count": 62,
   "metadata": {},
   "outputs": [
    {
     "name": "stdout",
     "output_type": "stream",
     "text": [
      "[[6]]\n"
     ]
    }
   ],
   "source": [
    "b = a[1:2,1:2]\n",
    "print(b)"
   ]
  },
  {
   "cell_type": "code",
   "execution_count": 63,
   "metadata": {},
   "outputs": [
    {
     "name": "stdout",
     "output_type": "stream",
     "text": [
      "[[1 2]\n",
      " [5 6]]\n"
     ]
    }
   ],
   "source": [
    "b = a[:2, 0:2]\n",
    "print(b)"
   ]
  },
  {
   "cell_type": "code",
   "execution_count": 64,
   "metadata": {},
   "outputs": [
    {
     "name": "stdout",
     "output_type": "stream",
     "text": [
      "[[2 3]\n",
      " [6 7]]\n"
     ]
    }
   ],
   "source": [
    "b = a[:2, 1:3]\n",
    "print(b)"
   ]
  },
  {
   "cell_type": "code",
   "execution_count": 65,
   "metadata": {},
   "outputs": [
    {
     "name": "stdout",
     "output_type": "stream",
     "text": [
      "[[ 7  8]\n",
      " [11 12]]\n"
     ]
    }
   ],
   "source": [
    "b = a[1:3, 2:4]\n",
    "print(b)"
   ]
  },
  {
   "cell_type": "markdown",
   "metadata": {},
   "source": [
    "<hr>"
   ]
  },
  {
   "cell_type": "markdown",
   "metadata": {},
   "source": [
    "## Joins in Arrays\n",
    "\n",
    "Joining of two arrays in NumPy is done using **concatenate()** function.\n",
    "\n",
    "This function is used to join two or more arrays of the same shape.\n",
    "\n",
    "**Note**\n",
    "\n",
    "In case of a 2D array, this function concatenates two arrays either by rows or by columns."
   ]
  },
  {
   "cell_type": "code",
   "execution_count": 1,
   "metadata": {},
   "outputs": [
    {
     "name": "stdout",
     "output_type": "stream",
     "text": [
      "[1 2 3 5 6 1 2 3]\n"
     ]
    }
   ],
   "source": [
    "#Concatenating two 1D arrays\n",
    "\n",
    "import numpy as np\n",
    "\n",
    "a = np.array([1,2,3])\n",
    "b = np.array([5,6])\n",
    "\n",
    "c = np.concatenate([a,b,a])\n",
    "print(c)"
   ]
  },
  {
   "cell_type": "code",
   "execution_count": 3,
   "metadata": {},
   "outputs": [
    {
     "name": "stdout",
     "output_type": "stream",
     "text": [
      "\n",
      "Along First Axis\n",
      "[[7 5]\n",
      " [1 6]\n",
      " [7 5]\n",
      " [1 6]]\n",
      "\n",
      "Along Second Axis\n",
      "[[7 5 7 5]\n",
      " [1 6 1 6]]\n"
     ]
    }
   ],
   "source": [
    "#Concatenating two 2D arrays using single array\n",
    "\n",
    "import numpy as np\n",
    "\n",
    "A = np.array([[7,5], [1,6]])\n",
    "\n",
    "## concatenate along the first axis\n",
    "print(\"\\nAlong First Axis\")\n",
    "print(np.concatenate([A,A]))\n",
    "\n",
    "## concatenate along the second axis (zero-indexed)\n",
    "print(\"\\nAlong Second Axis\")\n",
    "print(np.concatenate([A,A], axis = 1))\n"
   ]
  },
  {
   "cell_type": "code",
   "execution_count": 7,
   "metadata": {},
   "outputs": [
    {
     "name": "stdout",
     "output_type": "stream",
     "text": [
      "Vertical Stack\n",
      "[[1 2]\n",
      " [7 5]\n",
      " [1 6]]\n",
      "\n",
      "Horizontal Stack\n",
      "[[ 7  5 99]\n",
      " [ 1  6 99]]\n"
     ]
    }
   ],
   "source": [
    "x = np.array([1,2])\n",
    "\n",
    "# vertically stack the arrays\n",
    "print(\"Vertical Stack\")\n",
    "print(np.vstack([x, A]))\n",
    "      \n",
    "# horizontally stack the arrays\n",
    "print(\"\\nHorizontal Stack\")\n",
    "y = np.array([[99], [99]])\n",
    "print(np.hstack([A, y]))"
   ]
  },
  {
   "cell_type": "markdown",
   "metadata": {},
   "source": [
    "## Vertical Stack\n",
    "\n",
    "![vstack](https://www.tutorialsandyou.com/images/1-Dimensional-vertical-stacking.jpg)"
   ]
  },
  {
   "cell_type": "code",
   "execution_count": 14,
   "metadata": {},
   "outputs": [
    {
     "name": "stdout",
     "output_type": "stream",
     "text": [
      "[[1 2]\n",
      " [2 4]\n",
      " [7 8]]\n"
     ]
    }
   ],
   "source": [
    "a = np.array([[1,2],[2,4]])\n",
    "b = np.array([[7,8]])\n",
    "\n",
    "c = np.concatenate((a,b), axis = 0)\n",
    "print(c)"
   ]
  },
  {
   "cell_type": "code",
   "execution_count": 9,
   "metadata": {},
   "outputs": [
    {
     "data": {
      "text/plain": [
       "array([[1, 2],\n",
       "       [2, 4],\n",
       "       [7, 8]])"
      ]
     },
     "execution_count": 9,
     "metadata": {},
     "output_type": "execute_result"
    }
   ],
   "source": [
    "np.vstack([a,b])"
   ]
  },
  {
   "cell_type": "markdown",
   "metadata": {},
   "source": [
    "## Horizontal Stack\n",
    "\n",
    "![hstack](https://www.tutorialsandyou.com/images/1-Dimensional-horizontal-stacking.jpg)"
   ]
  },
  {
   "cell_type": "code",
   "execution_count": 11,
   "metadata": {},
   "outputs": [
    {
     "name": "stdout",
     "output_type": "stream",
     "text": [
      "[[1 2 7]\n",
      " [2 4 8]]\n"
     ]
    }
   ],
   "source": [
    "a = np.array([[1,2],[2,4]])\n",
    "b = np.array([[7,8]])\n",
    "\n",
    "c = np.concatenate((a,b.T), axis = 1)\n",
    "print(c)"
   ]
  },
  {
   "cell_type": "code",
   "execution_count": 13,
   "metadata": {},
   "outputs": [
    {
     "data": {
      "text/plain": [
       "array([[1, 2, 7],\n",
       "       [2, 4, 8]])"
      ]
     },
     "execution_count": 13,
     "metadata": {},
     "output_type": "execute_result"
    }
   ],
   "source": [
    "np.hstack([a,b.T])"
   ]
  },
  {
   "cell_type": "markdown",
   "metadata": {},
   "source": [
    "<hr>"
   ]
  },
  {
   "cell_type": "markdown",
   "metadata": {},
   "source": [
    "![Image](https://miro.medium.com/max/4024/1*lFZzE9PgKTRR8jlFI4EUtw.png)"
   ]
  },
  {
   "cell_type": "markdown",
   "metadata": {},
   "source": [
    "Reference:\n",
    "1. https://towardsdatascience.com/reshaping-numpy-arrays-in-python-a-step-by-step-pictorial-tutorial-aed5f471cf0b"
   ]
  }
 ],
 "metadata": {
  "kernelspec": {
   "display_name": "Python 3.7.1 32-bit",
   "language": "python",
   "name": "python37132bit55124e49dad2434bbd4e31f7bbeee9ee"
  },
  "language_info": {
   "codemirror_mode": {
    "name": "ipython",
    "version": 3
   },
   "file_extension": ".py",
   "mimetype": "text/x-python",
   "name": "python",
   "nbconvert_exporter": "python",
   "pygments_lexer": "ipython3",
   "version": "3.7.1"
  }
 },
 "nbformat": 4,
 "nbformat_minor": 2
}
